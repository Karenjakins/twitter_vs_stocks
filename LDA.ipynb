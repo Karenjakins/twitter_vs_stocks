{
 "cells": [
  {
   "cell_type": "code",
   "execution_count": 27,
   "id": "e1611335",
   "metadata": {},
   "outputs": [],
   "source": [
    "import os\n",
    "# This can make the kernel die if it doesn't go well\n",
    "os.environ['R_HOME'] = \"C:\\Program Files\\R\\R-4.1.0\"\n",
    "from rpy2.robjects.packages import importr\n",
    "r_utils = importr('utils')"
   ]
  },
  {
   "cell_type": "code",
   "execution_count": 28,
   "id": "e58cd9d5",
   "metadata": {},
   "outputs": [],
   "source": [
    "# r_utils.install_packages('coda')"
   ]
  },
  {
   "cell_type": "code",
   "execution_count": 29,
   "id": "ed5e10d7",
   "metadata": {},
   "outputs": [],
   "source": [
    "r_coda = importr('coda')"
   ]
  },
  {
   "cell_type": "code",
   "execution_count": 30,
   "id": "8fd18fb6",
   "metadata": {},
   "outputs": [],
   "source": [
    "import pandas as pd\n",
    "\n",
    "import numpy as np\n",
    "%matplotlib inline \n",
    "import matplotlib.pyplot as plt\n",
    "import rpy2\n",
    "from rpy2.robjects import pandas2ri\n",
    "pandas2ri.activate()\n",
    "\n",
    "r_coda = importr('coda')\n",
    "from sklearn.feature_extraction.text import CountVectorizer\n",
    "from gensim.corpora import Dictionary\n",
    "from gensim.models.ldamodel import LdaModel\n",
    "from gensim.models import CoherenceModel\n",
    "from nltk.corpus import stopwords\n",
    "from nltk.tokenize import RegexpTokenizer\n",
    "from datetime import datetime\n",
    "from scipy.special import expit"
   ]
  },
  {
   "cell_type": "code",
   "execution_count": 31,
   "id": "13fca851",
   "metadata": {},
   "outputs": [
    {
     "name": "stderr",
     "output_type": "stream",
     "text": [
      "C:\\Users\\zkirsan\\anaconda3\\envs\\mlenv\\lib\\site-packages\\ipykernel_launcher.py:1: FutureWarning: Passing a negative integer is deprecated in version 1.0 and will not be supported in future version. Instead, use None to not limit the column width.\n",
      "  \"\"\"Entry point for launching an IPython kernel.\n"
     ]
    }
   ],
   "source": [
    "pd.set_option('display.max_colwidth', -1)"
   ]
  },
  {
   "cell_type": "code",
   "execution_count": 32,
   "id": "289287ae",
   "metadata": {},
   "outputs": [],
   "source": [
    "import nltk\n",
    "#nltk.download('stopwords')"
   ]
  },
  {
   "cell_type": "code",
   "execution_count": 33,
   "id": "d45c4a5c",
   "metadata": {},
   "outputs": [],
   "source": [
    "import re\n",
    "from matplotlib import gridspec\n",
    "import math\n",
    "from sklearn.metrics import accuracy_score"
   ]
  },
  {
   "cell_type": "markdown",
   "id": "5621b5e8",
   "metadata": {},
   "source": [
    "### Part 1: Elon Musk's Tweets\n",
    "\n",
    "In the first part of this project, we will be working with text from the @elonmusk Twitter account. This consists of all tweets from the account from 1/6/2020 to 1/6/2021. The goal is to use Latent Dirichlet Allocation in order to model the topics tweeted from Elon Musk.\n"
   ]
  },
  {
   "cell_type": "code",
   "execution_count": 34,
   "id": "12c6770c",
   "metadata": {},
   "outputs": [],
   "source": [
    "df_tweets_orig = pd.read_csv('data/tweets_data.csv')"
   ]
  },
  {
   "cell_type": "code",
   "execution_count": 35,
   "id": "2c0aac9a",
   "metadata": {},
   "outputs": [],
   "source": [
    "df_tweets = df_tweets_orig.copy()"
   ]
  },
  {
   "cell_type": "code",
   "execution_count": 36,
   "id": "4963fbbe",
   "metadata": {},
   "outputs": [
    {
     "data": {
      "text/html": [
       "<div>\n",
       "<style scoped>\n",
       "    .dataframe tbody tr th:only-of-type {\n",
       "        vertical-align: middle;\n",
       "    }\n",
       "\n",
       "    .dataframe tbody tr th {\n",
       "        vertical-align: top;\n",
       "    }\n",
       "\n",
       "    .dataframe thead th {\n",
       "        text-align: right;\n",
       "    }\n",
       "</style>\n",
       "<table border=\"1\" class=\"dataframe\">\n",
       "  <thead>\n",
       "    <tr style=\"text-align: right;\">\n",
       "      <th></th>\n",
       "      <th>date</th>\n",
       "      <th>text</th>\n",
       "      <th>tokenized_text</th>\n",
       "      <th>like_count</th>\n",
       "      <th>quote_count</th>\n",
       "      <th>reply_count</th>\n",
       "      <th>retweet_count</th>\n",
       "    </tr>\n",
       "  </thead>\n",
       "  <tbody>\n",
       "    <tr>\n",
       "      <th>0</th>\n",
       "      <td>2020-06-19</td>\n",
       "      <td>{Juneteenth is henceforth considered a US holiday at Tesla &amp;amp; SpaceX}</td>\n",
       "      <td>['juneteenth', 'henceforth', 'considered', 'holiday', 'tesla', 'spacex']</td>\n",
       "      <td>402800</td>\n",
       "      <td>2590</td>\n",
       "      <td>5884</td>\n",
       "      <td>31264</td>\n",
       "    </tr>\n",
       "    <tr>\n",
       "      <th>1</th>\n",
       "      <td>2020-06-21</td>\n",
       "      <td>{2019 seems so quaint &amp;amp; long ago https://t.co/xfdfcbr0DS, That is our purpose, Tesla Bioweapon Defense Mode\\nhttps://t.co/48s5D3ZQO0, We must pass The Great Filter, Mars is my souldog, If heat death is the end of the universe, it really is all about the journey, RT @cleantechnica: Exclusive Pro Photos: Tesla Cybertruck At The Petersen Auto Museum https://t.co/3ixBOsRTst, RT @Tesla: https://t.co/26o1bAP14v}</td>\n",
       "      <td>['seems', 'quaint', 'long', 'ago', 'purpose', 'tesla', 'bioweapon', 'defense', 'mode', 'must', 'pass', 'great', 'filter', 'mars', 'souldog', 'heat', 'death', 'end', 'universe', 'really', 'journey', 'cleantechnica', 'exclusive', 'pro', 'photos', 'tesla', 'cybertruck', 'petersen', 'auto', 'museum', 'tesla']</td>\n",
       "      <td>735629</td>\n",
       "      <td>4879</td>\n",
       "      <td>17989</td>\n",
       "      <td>57388</td>\n",
       "    </tr>\n",
       "    <tr>\n",
       "      <th>2</th>\n",
       "      <td>2020-06-22</td>\n",
       "      <td>{Tentative date for Tesla Shareholder Meeting &amp;amp; Battery Day is Sept 15. Will include tour of cell production system., Reminder that Tesla Full Self-Driving (FSD) price goes up by $1k on July 1st, Enabling basic Tesla Autopilot via Tesla in-app purchase is reduced to $2k until July 1}</td>\n",
       "      <td>['tentative', 'date', 'tesla', 'shareholder', 'meeting', 'battery', 'day', 'sept', 'include', 'tour', 'cell', 'production', 'system', 'reminder', 'tesla', 'full', 'self', 'driving', 'fsd', 'price', 'goes', 'july', 'enabling', 'basic', 'tesla', 'autopilot', 'tesla', 'app', 'purchase', 'reduced', 'july']</td>\n",
       "      <td>133516</td>\n",
       "      <td>892</td>\n",
       "      <td>5246</td>\n",
       "      <td>5438</td>\n",
       "    </tr>\n",
       "    <tr>\n",
       "      <th>3</th>\n",
       "      <td>2020-06-25</td>\n",
       "      <td>{RT @GerberKawasaki: First thoughts driving my new Tesla model Y. Review and discussion of what I learned at Tesla today and outlook for the…, Two Starship tanks in the midbay https://t.co/QJ2V882WOC, Special thanks to Tesla trucking &amp;amp; rail partners for figuratively &amp;amp; literally going the extra mile, Apologies to Tesla customers for shifting delivery dates. It’s a crazy world out there!, RT @cleantechnica: Wall Street Journal: Tesla Model Y Offers “Fierce, Velvety” Driving Characteristics https://t.co/dGY24gCVLz}</td>\n",
       "      <td>['gerberkawasaki', 'first', 'thoughts', 'driving', 'new', 'tesla', 'model', 'review', 'discussion', 'learned', 'tesla', 'today', 'outlook', 'two', 'starship', 'tanks', 'midbay', 'special', 'thanks', 'tesla', 'trucking', 'rail', 'partners', 'figuratively', 'literally', 'going', 'extra', 'mile', 'apologies', 'tesla', 'customers', 'shifting', 'delivery', 'dates', 'crazy', 'world', 'cleantechnica', 'wall', 'street', 'journal', 'tesla', 'model', 'offers', 'fierce', 'velvety', 'driving', 'characteristics']</td>\n",
       "      <td>259296</td>\n",
       "      <td>1039</td>\n",
       "      <td>4758</td>\n",
       "      <td>10802</td>\n",
       "    </tr>\n",
       "    <tr>\n",
       "      <th>4</th>\n",
       "      <td>2020-06-26</td>\n",
       "      <td>{.@JeffBezos is a copy 🐈 haha https://t.co/plR7uupqBG, Who controls the memes,\\ncontrols the Universe, https://t.co/e9dPKVSjjl, Literally, Only a matter of time before someone steals a Tesla while playing GTA on a Tesla, North American Supercharger usage tracking to exceed pre covid highs in 2 to 3 weeks. Lot of noise out there. This is signal. https://t.co/PCC5DlthtA}</td>\n",
       "      <td>['jeffbezos', 'copy', 'controls', 'memes', 'controls', 'universe', 'literally', 'matter', 'time', 'someone', 'steals', 'tesla', 'playing', 'gta', 'tesla', 'north', 'american', 'supercharger', 'usage', 'tracking', 'exceed', 'pre', 'covid', 'highs', 'weeks', 'lot', 'noise', 'signal']</td>\n",
       "      <td>2248367</td>\n",
       "      <td>24436</td>\n",
       "      <td>32923</td>\n",
       "      <td>300062</td>\n",
       "    </tr>\n",
       "    <tr>\n",
       "      <th>5</th>\n",
       "      <td>2020-06-28</td>\n",
       "      <td>{Btw, Tesla actually receives *least* subsidies of any automaker in US. Federal tax credit applies to other automaker EVs, but no longer Tesla., Great Model Y review by @jayleno https://t.co/DzsZ7eugWp, RT @_TomCross_: Cybertruck inside Petersen Automotive Museum.\\n#tesla #Cybertruck https://t.co/2XaZoM40Ve, 69 days after 4/20 again haha}</td>\n",
       "      <td>['tesla', 'receives', 'least', 'subsidies', 'automaker', 'federal', 'tax', 'credit', 'applies', 'automaker', 'evs', 'longer', 'tesla', 'great', 'model', 'review', 'jayleno', 'tomcross_', 'cybertruck', 'inside', 'petersen', 'automotive', 'museum', 'tesla', 'cybertruck', 'days']</td>\n",
       "      <td>549854</td>\n",
       "      <td>5325</td>\n",
       "      <td>10656</td>\n",
       "      <td>55443</td>\n",
       "    </tr>\n",
       "    <tr>\n",
       "      <th>6</th>\n",
       "      <td>2020-06-30</td>\n",
       "      <td>{Your GPS just got slightly better https://t.co/XsblUsiNXU, RT @SpaceX: Falcon 9’s first stage has landed on the Just Read the Instructions droneship! https://t.co/5zYhTFDUsM, RT @SpaceX: Liftoff! https://t.co/E2xaQQNw1w, RT @teslaownersSV: The tesla supercharger provides an ecosystem and network of amazing travel and shopping opportunities. I plan a lot of t…}</td>\n",
       "      <td>['gps', 'got', 'slightly', 'better', 'spacex', 'falcon', 'first', 'stage', 'landed', 'read', 'instructions', 'droneship', 'spacex', 'liftoff', 'teslaownerssv', 'tesla', 'supercharger', 'provides', 'ecosystem', 'network', 'amazing', 'travel', 'shopping', 'opportunities', 'plan', 'lot']</td>\n",
       "      <td>156800</td>\n",
       "      <td>688</td>\n",
       "      <td>2610</td>\n",
       "      <td>21575</td>\n",
       "    </tr>\n",
       "    <tr>\n",
       "      <th>7</th>\n",
       "      <td>2020-07-01</td>\n",
       "      <td>{Tesla Impact Report (repost). We do everything humanly possible to source materials &amp;amp; produce sustainable energy cars, batteries &amp;amp; solar ethically. Suggestions for improvement are always appreciated.\\n\\nhttps://t.co/WCemMJ44um}</td>\n",
       "      <td>['tesla', 'impact', 'report', 'repost', 'everything', 'humanly', 'possible', 'source', 'materials', 'produce', 'sustainable', 'energy', 'cars', 'batteries', 'solar', 'ethically', 'suggestions', 'improvement', 'always', 'appreciated']</td>\n",
       "      <td>26879</td>\n",
       "      <td>208</td>\n",
       "      <td>1657</td>\n",
       "      <td>2530</td>\n",
       "    </tr>\n",
       "    <tr>\n",
       "      <th>8</th>\n",
       "      <td>2020-07-02</td>\n",
       "      <td>{Thanks Tesla owners &amp;amp; investors! Love you!! We will work super hard to earn your trust &amp;amp; support. https://t.co/6mgcmlLTsA, RT @Commercial_Crew: Just over a month ago, @AstroBehnken &amp;amp; @Astro_Doug launched to the @Space_Station aboard @SpaceX's Crew Dragon.\\n\\nThis…, SEC, three letter acronym, middle word is Elon’s, Will send some to the Shortseller Enrichment Commission to comfort them through these difficult times, Tesla will make fabulous short shorts in radiant red satin with gold trim, Who wears short shorts? 🤣🤣, RT @Teslarati: Tesla crushes Wall Street’s Q2 estimates with over 90k deliveries $TSLA\\nhttps://t.co/zSBqpFaSjS}</td>\n",
       "      <td>['thanks', 'tesla', 'owners', 'investors', 'love', 'work', 'super', 'hard', 'earn', 'trust', 'support', 'commercial_crew', 'month', 'ago', 'astrobehnken', 'astro_doug', 'launched', 'space_station', 'aboard', 'spacexcrew', 'dragon', 'sec', 'three', 'letter', 'acronym', 'middle', 'word', 'elon', 'send', 'shortseller', 'enrichment', 'commission', 'comfort', 'difficult', 'times', 'tesla', 'make', 'fabulous', 'short', 'shorts', 'radiant', 'red', 'satin', 'gold', 'trim', 'wears', 'short', 'shorts', 'teslarati', 'tesla', 'crushes', 'wall', 'street', 'q2', 'estimates', 'deliveries', 'tsla']</td>\n",
       "      <td>601022</td>\n",
       "      <td>11573</td>\n",
       "      <td>31284</td>\n",
       "      <td>39499</td>\n",
       "    </tr>\n",
       "    <tr>\n",
       "      <th>9</th>\n",
       "      <td>2020-07-04</td>\n",
       "      <td>{Please take a moment to report accounts clearly engaged in harassment. It is the only way to maintain public discourse., 🇺🇸🇺🇸 Happy 4th of July!! 🇺🇸🇺🇸, Congrats Tesla Team — U ROK!! https://t.co/lW7Ist98IY, RT @SpaceX: Crew Dragon docked to the @Space_Station https://t.co/JG5e2XjZ4n, RT @Tesla: Tesla Q2 2020 Vehicle Production &amp;amp; Deliveries | Tesla, Inc. https://t.co/hgJDXLWmBg}</td>\n",
       "      <td>['please', 'take', 'moment', 'report', 'accounts', 'clearly', 'engaged', 'harassment', 'way', 'maintain', 'public', 'discourse', 'happy', 'july', 'congrats', 'tesla', 'team', 'rok', 'spacex', 'crew', 'dragon', 'docked', 'space_station', 'tesla', 'tesla', 'q2', 'vehicle', 'production', 'deliveries', 'tesla', 'inc']</td>\n",
       "      <td>378083</td>\n",
       "      <td>2674</td>\n",
       "      <td>15608</td>\n",
       "      <td>32529</td>\n",
       "    </tr>\n",
       "  </tbody>\n",
       "</table>\n",
       "</div>"
      ],
      "text/plain": [
       "         date  \\\n",
       "0  2020-06-19   \n",
       "1  2020-06-21   \n",
       "2  2020-06-22   \n",
       "3  2020-06-25   \n",
       "4  2020-06-26   \n",
       "5  2020-06-28   \n",
       "6  2020-06-30   \n",
       "7  2020-07-01   \n",
       "8  2020-07-02   \n",
       "9  2020-07-04   \n",
       "\n",
       "                                                                                                                                                                                                                                                                                                                                                                                                                                                                                                                                                                                                                                                                      text  \\\n",
       "0  {Juneteenth is henceforth considered a US holiday at Tesla &amp; SpaceX}                                                                                                                                                                                                                                                                                                                                                                                                                                                                                                                                                                                                  \n",
       "1  {2019 seems so quaint &amp; long ago https://t.co/xfdfcbr0DS, That is our purpose, Tesla Bioweapon Defense Mode\\nhttps://t.co/48s5D3ZQO0, We must pass The Great Filter, Mars is my souldog, If heat death is the end of the universe, it really is all about the journey, RT @cleantechnica: Exclusive Pro Photos: Tesla Cybertruck At The Petersen Auto Museum https://t.co/3ixBOsRTst, RT @Tesla: https://t.co/26o1bAP14v}                                                                                                                                                                                                                                             \n",
       "2  {Tentative date for Tesla Shareholder Meeting &amp; Battery Day is Sept 15. Will include tour of cell production system., Reminder that Tesla Full Self-Driving (FSD) price goes up by $1k on July 1st, Enabling basic Tesla Autopilot via Tesla in-app purchase is reduced to $2k until July 1}                                                                                                                                                                                                                                                                                                                                                                          \n",
       "3  {RT @GerberKawasaki: First thoughts driving my new Tesla model Y. Review and discussion of what I learned at Tesla today and outlook for the…, Two Starship tanks in the midbay https://t.co/QJ2V882WOC, Special thanks to Tesla trucking &amp; rail partners for figuratively &amp; literally going the extra mile, Apologies to Tesla customers for shifting delivery dates. It’s a crazy world out there!, RT @cleantechnica: Wall Street Journal: Tesla Model Y Offers “Fierce, Velvety” Driving Characteristics https://t.co/dGY24gCVLz}                                                                                                                             \n",
       "4  {.@JeffBezos is a copy 🐈 haha https://t.co/plR7uupqBG, Who controls the memes,\\ncontrols the Universe, https://t.co/e9dPKVSjjl, Literally, Only a matter of time before someone steals a Tesla while playing GTA on a Tesla, North American Supercharger usage tracking to exceed pre covid highs in 2 to 3 weeks. Lot of noise out there. This is signal. https://t.co/PCC5DlthtA}                                                                                                                                                                                                                                                                                       \n",
       "5  {Btw, Tesla actually receives *least* subsidies of any automaker in US. Federal tax credit applies to other automaker EVs, but no longer Tesla., Great Model Y review by @jayleno https://t.co/DzsZ7eugWp, RT @_TomCross_: Cybertruck inside Petersen Automotive Museum.\\n#tesla #Cybertruck https://t.co/2XaZoM40Ve, 69 days after 4/20 again haha}                                                                                                                                                                                                                                                                                                                      \n",
       "6  {Your GPS just got slightly better https://t.co/XsblUsiNXU, RT @SpaceX: Falcon 9’s first stage has landed on the Just Read the Instructions droneship! https://t.co/5zYhTFDUsM, RT @SpaceX: Liftoff! https://t.co/E2xaQQNw1w, RT @teslaownersSV: The tesla supercharger provides an ecosystem and network of amazing travel and shopping opportunities. I plan a lot of t…}                                                                                                                                                                                                                                                                                               \n",
       "7  {Tesla Impact Report (repost). We do everything humanly possible to source materials &amp; produce sustainable energy cars, batteries &amp; solar ethically. Suggestions for improvement are always appreciated.\\n\\nhttps://t.co/WCemMJ44um}                                                                                                                                                                                                                                                                                                                                                                                                                              \n",
       "8  {Thanks Tesla owners &amp; investors! Love you!! We will work super hard to earn your trust &amp; support. https://t.co/6mgcmlLTsA, RT @Commercial_Crew: Just over a month ago, @AstroBehnken &amp; @Astro_Doug launched to the @Space_Station aboard @SpaceX's Crew Dragon.\\n\\nThis…, SEC, three letter acronym, middle word is Elon’s, Will send some to the Shortseller Enrichment Commission to comfort them through these difficult times, Tesla will make fabulous short shorts in radiant red satin with gold trim, Who wears short shorts? 🤣🤣, RT @Teslarati: Tesla crushes Wall Street’s Q2 estimates with over 90k deliveries $TSLA\\nhttps://t.co/zSBqpFaSjS}   \n",
       "9  {Please take a moment to report accounts clearly engaged in harassment. It is the only way to maintain public discourse., 🇺🇸🇺🇸 Happy 4th of July!! 🇺🇸🇺🇸, Congrats Tesla Team — U ROK!! https://t.co/lW7Ist98IY, RT @SpaceX: Crew Dragon docked to the @Space_Station https://t.co/JG5e2XjZ4n, RT @Tesla: Tesla Q2 2020 Vehicle Production &amp; Deliveries | Tesla, Inc. https://t.co/hgJDXLWmBg}                                                                                                                                                                                                                                                                         \n",
       "\n",
       "                                                                                                                                                                                                                                                                                                                                                                                                                                                                                                                                                                                                  tokenized_text  \\\n",
       "0  ['juneteenth', 'henceforth', 'considered', 'holiday', 'tesla', 'spacex']                                                                                                                                                                                                                                                                                                                                                                                                                                                                                                                                        \n",
       "1  ['seems', 'quaint', 'long', 'ago', 'purpose', 'tesla', 'bioweapon', 'defense', 'mode', 'must', 'pass', 'great', 'filter', 'mars', 'souldog', 'heat', 'death', 'end', 'universe', 'really', 'journey', 'cleantechnica', 'exclusive', 'pro', 'photos', 'tesla', 'cybertruck', 'petersen', 'auto', 'museum', 'tesla']                                                                                                                                                                                                                                                                                              \n",
       "2  ['tentative', 'date', 'tesla', 'shareholder', 'meeting', 'battery', 'day', 'sept', 'include', 'tour', 'cell', 'production', 'system', 'reminder', 'tesla', 'full', 'self', 'driving', 'fsd', 'price', 'goes', 'july', 'enabling', 'basic', 'tesla', 'autopilot', 'tesla', 'app', 'purchase', 'reduced', 'july']                                                                                                                                                                                                                                                                                                 \n",
       "3  ['gerberkawasaki', 'first', 'thoughts', 'driving', 'new', 'tesla', 'model', 'review', 'discussion', 'learned', 'tesla', 'today', 'outlook', 'two', 'starship', 'tanks', 'midbay', 'special', 'thanks', 'tesla', 'trucking', 'rail', 'partners', 'figuratively', 'literally', 'going', 'extra', 'mile', 'apologies', 'tesla', 'customers', 'shifting', 'delivery', 'dates', 'crazy', 'world', 'cleantechnica', 'wall', 'street', 'journal', 'tesla', 'model', 'offers', 'fierce', 'velvety', 'driving', 'characteristics']                                                                                       \n",
       "4  ['jeffbezos', 'copy', 'controls', 'memes', 'controls', 'universe', 'literally', 'matter', 'time', 'someone', 'steals', 'tesla', 'playing', 'gta', 'tesla', 'north', 'american', 'supercharger', 'usage', 'tracking', 'exceed', 'pre', 'covid', 'highs', 'weeks', 'lot', 'noise', 'signal']                                                                                                                                                                                                                                                                                                                      \n",
       "5  ['tesla', 'receives', 'least', 'subsidies', 'automaker', 'federal', 'tax', 'credit', 'applies', 'automaker', 'evs', 'longer', 'tesla', 'great', 'model', 'review', 'jayleno', 'tomcross_', 'cybertruck', 'inside', 'petersen', 'automotive', 'museum', 'tesla', 'cybertruck', 'days']                                                                                                                                                                                                                                                                                                                           \n",
       "6  ['gps', 'got', 'slightly', 'better', 'spacex', 'falcon', 'first', 'stage', 'landed', 'read', 'instructions', 'droneship', 'spacex', 'liftoff', 'teslaownerssv', 'tesla', 'supercharger', 'provides', 'ecosystem', 'network', 'amazing', 'travel', 'shopping', 'opportunities', 'plan', 'lot']                                                                                                                                                                                                                                                                                                                   \n",
       "7  ['tesla', 'impact', 'report', 'repost', 'everything', 'humanly', 'possible', 'source', 'materials', 'produce', 'sustainable', 'energy', 'cars', 'batteries', 'solar', 'ethically', 'suggestions', 'improvement', 'always', 'appreciated']                                                                                                                                                                                                                                                                                                                                                                       \n",
       "8  ['thanks', 'tesla', 'owners', 'investors', 'love', 'work', 'super', 'hard', 'earn', 'trust', 'support', 'commercial_crew', 'month', 'ago', 'astrobehnken', 'astro_doug', 'launched', 'space_station', 'aboard', 'spacexcrew', 'dragon', 'sec', 'three', 'letter', 'acronym', 'middle', 'word', 'elon', 'send', 'shortseller', 'enrichment', 'commission', 'comfort', 'difficult', 'times', 'tesla', 'make', 'fabulous', 'short', 'shorts', 'radiant', 'red', 'satin', 'gold', 'trim', 'wears', 'short', 'shorts', 'teslarati', 'tesla', 'crushes', 'wall', 'street', 'q2', 'estimates', 'deliveries', 'tsla']   \n",
       "9  ['please', 'take', 'moment', 'report', 'accounts', 'clearly', 'engaged', 'harassment', 'way', 'maintain', 'public', 'discourse', 'happy', 'july', 'congrats', 'tesla', 'team', 'rok', 'spacex', 'crew', 'dragon', 'docked', 'space_station', 'tesla', 'tesla', 'q2', 'vehicle', 'production', 'deliveries', 'tesla', 'inc']                                                                                                                                                                                                                                                                                     \n",
       "\n",
       "   like_count  quote_count  reply_count  retweet_count  \n",
       "0  402800      2590         5884         31264          \n",
       "1  735629      4879         17989        57388          \n",
       "2  133516      892          5246         5438           \n",
       "3  259296      1039         4758         10802          \n",
       "4  2248367     24436        32923        300062         \n",
       "5  549854      5325         10656        55443          \n",
       "6  156800      688          2610         21575          \n",
       "7  26879       208          1657         2530           \n",
       "8  601022      11573        31284        39499          \n",
       "9  378083      2674         15608        32529          "
      ]
     },
     "execution_count": 36,
     "metadata": {},
     "output_type": "execute_result"
    }
   ],
   "source": [
    "df_tweets.head(10)"
   ]
  },
  {
   "cell_type": "code",
   "execution_count": 37,
   "id": "239dd95c",
   "metadata": {},
   "outputs": [
    {
     "data": {
      "text/plain": [
       "date              object\n",
       "text              object\n",
       "tokenized_text    object\n",
       "like_count        int64 \n",
       "quote_count       int64 \n",
       "reply_count       int64 \n",
       "retweet_count     int64 \n",
       "dtype: object"
      ]
     },
     "execution_count": 37,
     "metadata": {},
     "output_type": "execute_result"
    }
   ],
   "source": [
    "df_tweets.dtypes "
   ]
  },
  {
   "cell_type": "code",
   "execution_count": 38,
   "id": "8afeb389",
   "metadata": {},
   "outputs": [
    {
     "data": {
      "text/plain": [
       "(284, 7)"
      ]
     },
     "execution_count": 38,
     "metadata": {},
     "output_type": "execute_result"
    }
   ],
   "source": [
    "df_tweets.shape"
   ]
  },
  {
   "cell_type": "code",
   "execution_count": 39,
   "id": "98dee3fe",
   "metadata": {},
   "outputs": [],
   "source": [
    "df_tweets['preprocessed_text'] = df_tweets.text.str.lower()"
   ]
  },
  {
   "cell_type": "code",
   "execution_count": 40,
   "id": "86c304bd",
   "metadata": {
    "scrolled": true
   },
   "outputs": [
    {
     "data": {
      "text/plain": [
       "['from',\n",
       " 'yours',\n",
       " 'doesn',\n",
       " \"needn't\",\n",
       " \"mightn't\",\n",
       " \"don't\",\n",
       " 'do',\n",
       " 'hers',\n",
       " 'which',\n",
       " 'for']"
      ]
     },
     "execution_count": 40,
     "metadata": {},
     "output_type": "execute_result"
    }
   ],
   "source": [
    "en_stop_words = set(stopwords.words('english'))\n",
    "list(en_stop_words)[:10]"
   ]
  },
  {
   "cell_type": "code",
   "execution_count": 41,
   "id": "f5385b3d",
   "metadata": {},
   "outputs": [],
   "source": [
    "df_tweets.preprocessed_text = df_tweets.preprocessed_text.apply(lambda row: ' '.join([word for word in row.split() if word not in (en_stop_words)]))"
   ]
  },
  {
   "cell_type": "code",
   "execution_count": 42,
   "id": "146789b5",
   "metadata": {},
   "outputs": [],
   "source": [
    "tokenizer = RegexpTokenizer('[a-zA-Z]\\w+\\'?\\w*')"
   ]
  },
  {
   "cell_type": "code",
   "execution_count": 43,
   "id": "927e04eb",
   "metadata": {},
   "outputs": [],
   "source": [
    "df_tweets['tokenized_text'] = df_tweets.preprocessed_text.apply(lambda row: tokenizer.tokenize(row))"
   ]
  },
  {
   "cell_type": "code",
   "execution_count": 44,
   "id": "79dcf62b",
   "metadata": {},
   "outputs": [
    {
     "data": {
      "text/html": [
       "<div>\n",
       "<style scoped>\n",
       "    .dataframe tbody tr th:only-of-type {\n",
       "        vertical-align: middle;\n",
       "    }\n",
       "\n",
       "    .dataframe tbody tr th {\n",
       "        vertical-align: top;\n",
       "    }\n",
       "\n",
       "    .dataframe thead th {\n",
       "        text-align: right;\n",
       "    }\n",
       "</style>\n",
       "<table border=\"1\" class=\"dataframe\">\n",
       "  <thead>\n",
       "    <tr style=\"text-align: right;\">\n",
       "      <th></th>\n",
       "      <th>date</th>\n",
       "      <th>text</th>\n",
       "      <th>tokenized_text</th>\n",
       "      <th>like_count</th>\n",
       "      <th>quote_count</th>\n",
       "      <th>reply_count</th>\n",
       "      <th>retweet_count</th>\n",
       "      <th>preprocessed_text</th>\n",
       "    </tr>\n",
       "  </thead>\n",
       "  <tbody>\n",
       "    <tr>\n",
       "      <th>0</th>\n",
       "      <td>2020-06-19</td>\n",
       "      <td>{Juneteenth is henceforth considered a US holiday at Tesla &amp;amp; SpaceX}</td>\n",
       "      <td>[juneteenth, henceforth, considered, us, holiday, tesla, amp, spacex]</td>\n",
       "      <td>402800</td>\n",
       "      <td>2590</td>\n",
       "      <td>5884</td>\n",
       "      <td>31264</td>\n",
       "      <td>{juneteenth henceforth considered us holiday tesla &amp;amp; spacex}</td>\n",
       "    </tr>\n",
       "  </tbody>\n",
       "</table>\n",
       "</div>"
      ],
      "text/plain": [
       "         date  \\\n",
       "0  2020-06-19   \n",
       "\n",
       "                                                                       text  \\\n",
       "0  {Juneteenth is henceforth considered a US holiday at Tesla &amp; SpaceX}   \n",
       "\n",
       "                                                          tokenized_text  \\\n",
       "0  [juneteenth, henceforth, considered, us, holiday, tesla, amp, spacex]   \n",
       "\n",
       "   like_count  quote_count  reply_count  retweet_count  \\\n",
       "0  402800      2590         5884         31264           \n",
       "\n",
       "                                                  preprocessed_text  \n",
       "0  {juneteenth henceforth considered us holiday tesla &amp; spacex}  "
      ]
     },
     "execution_count": 44,
     "metadata": {},
     "output_type": "execute_result"
    }
   ],
   "source": [
    "df_tweets.head(1)"
   ]
  },
  {
   "cell_type": "code",
   "execution_count": 45,
   "id": "6cdd1a20",
   "metadata": {},
   "outputs": [],
   "source": [
    "def get_most_freq_words(str, n=None):\n",
    "    vect = CountVectorizer().fit(str)\n",
    "    bag_of_words = vect.transform(str)\n",
    "    sum_words = bag_of_words.sum(axis=0) \n",
    "    freq = [(word, sum_words[0, idx]) for word, idx in vect.vocabulary_.items()]\n",
    "    freq =sorted(freq, key = lambda x: x[1], reverse=True)\n",
    "    return freq[:n]"
   ]
  },
  {
   "cell_type": "code",
   "execution_count": 46,
   "id": "c8dc7cd1",
   "metadata": {},
   "outputs": [
    {
     "data": {
      "text/plain": [
       "[('https', 400),\n",
       " ('co', 394),\n",
       " ('rt', 213),\n",
       " ('spacex', 175),\n",
       " ('tesla', 116),\n",
       " ('amp', 107),\n",
       " ('launch', 57),\n",
       " ('dragon', 56),\n",
       " ('falcon', 53),\n",
       " ('first', 44)]"
      ]
     },
     "execution_count": 46,
     "metadata": {},
     "output_type": "execute_result"
    }
   ],
   "source": [
    "get_most_freq_words([ word for tweet in df_tweets.tokenized_text for word in tweet],10)"
   ]
  },
  {
   "cell_type": "code",
   "execution_count": 50,
   "id": "cb9687eb",
   "metadata": {},
   "outputs": [],
   "source": [
    "## the function below takes the original tweets dataframe, the column containing the tweet text, the dictionary of stop words\n",
    "## it return a clean dataframe and a list of nb most frequent words, or all if None\n",
    "\n",
    "def clean_tweets(df=df_tweets_orig, \n",
    "                 tweet_col='text', \n",
    "                 date_col='date',\n",
    "                 stop_words=en_stop_words,\n",
    "                 nb=None):\n",
    "    \n",
    "    df_copy = df.copy()\n",
    "    \n",
    "    # drop rows with empty values\n",
    "    df_copy.dropna(inplace=True)\n",
    "    \n",
    "    \n",
    "    \n",
    "    # lower the tweets\n",
    "    df_copy['preprocessed_' + tweet_col] = df_copy[tweet_col].str.lower()\n",
    "    \n",
    "    # filter out stop words and URLs\n",
    "    url_re = '(https?:\\/\\/(?:www\\.|(?!www))[a-zA-Z0-9][a-zA-Z0-9-]+[a-zA-Z0-9]\\.[^\\s]{2,}|www\\.[a-zA-Z0-9][a-zA-Z0-9-]+[a-zA-Z0-9]\\.[^\\s]{2,}|https?:\\/\\/(?:www\\.|(?!www))[a-zA-Z0-9]+\\.[^\\s]{2,}|www\\.[a-zA-Z0-9]+\\.[^\\s]{2,})'        \n",
    "    df_copy['preprocessed_' + tweet_col] = df_copy['preprocessed_' + tweet_col].apply(lambda row: ' '.join([word for word in row.split() if (not word in stop_words) and (not re.match(url_re, word))]))\n",
    "    \n",
    "    # tokenize the tweets\n",
    "    tokenizer = RegexpTokenizer('[a-zA-Z]\\w+\\'?\\w*')\n",
    "    df_copy['tokenized_' + tweet_col] = df_copy['preprocessed_' + tweet_col].apply(lambda row: tokenizer.tokenize(row))\n",
    "    \n",
    "    # calculate word frequencies\n",
    "    word_freqs = get_most_freq_words([ word for tweet in df_copy['tokenized_' + tweet_col] for word in tweet],nb)\n",
    "    \n",
    "    return word_freqs, df_copy"
   ]
  },
  {
   "cell_type": "code",
   "execution_count": 56,
   "id": "15c9bedc",
   "metadata": {},
   "outputs": [],
   "source": [
    "extended_stop_words = en_stop_words | \\\n",
    "                      {\n",
    "                          'amp', 'rt', 'th','co', 're', 've', 'kim', 'daca', 'us', 'it', 'th', 'you', 'haha', 'st', 'et',\n",
    "                          'so', 'iii', 'also', 've', 'la', 're', 'the', 'https', 'wow', 'actually', 'due', 'ft', 'pcr', 'via',\n",
    "                          'am', 'gt', 'com', 'since', 'in', 'me', 'and', 'btw', 'yesterday', 'ii', 'inu', 'on', 'http', 'to', \n",
    "                          'vs', 'rd', 'ur', 'of', 'bs', 'km', 'est', 'em', 'lz', 'kms', 'aft', 'nd',  'here’s', 're',\n",
    "                          'mqxfakpzf' 'mph', 'ht', 'etc', 'dm'\n",
    "                      }"
   ]
  },
  {
   "cell_type": "code",
   "execution_count": 57,
   "id": "adbf32aa",
   "metadata": {},
   "outputs": [],
   "source": [
    "most_frequent_words, df_tweets_clean = clean_tweets(stop_words=extended_stop_words, nb=None)"
   ]
  },
  {
   "cell_type": "code",
   "execution_count": 61,
   "id": "d074035d",
   "metadata": {
    "scrolled": true
   },
   "outputs": [
    {
     "data": {
      "text/plain": [
       "[('spacex', 175),\n",
       " ('tesla', 116),\n",
       " ('amp', 107),\n",
       " ('rt', 66),\n",
       " ('launch', 57),\n",
       " ('dragon', 56),\n",
       " ('falcon', 53),\n",
       " ('first', 44),\n",
       " ('crew', 37),\n",
       " ('nasa', 36),\n",
       " ('model', 30),\n",
       " ('space_station', 30),\n",
       " ('mission', 27),\n",
       " ('starship', 26),\n",
       " ('earth', 25)]"
      ]
     },
     "execution_count": 61,
     "metadata": {},
     "output_type": "execute_result"
    }
   ],
   "source": [
    "most_frequent_words[:15]"
   ]
  },
  {
   "cell_type": "code",
   "execution_count": 60,
   "id": "d978b848",
   "metadata": {
    "scrolled": true
   },
   "outputs": [
    {
     "data": {
      "text/html": [
       "<div>\n",
       "<style scoped>\n",
       "    .dataframe tbody tr th:only-of-type {\n",
       "        vertical-align: middle;\n",
       "    }\n",
       "\n",
       "    .dataframe tbody tr th {\n",
       "        vertical-align: top;\n",
       "    }\n",
       "\n",
       "    .dataframe thead th {\n",
       "        text-align: right;\n",
       "    }\n",
       "</style>\n",
       "<table border=\"1\" class=\"dataframe\">\n",
       "  <thead>\n",
       "    <tr style=\"text-align: right;\">\n",
       "      <th></th>\n",
       "      <th>date</th>\n",
       "      <th>text</th>\n",
       "      <th>tokenized_text</th>\n",
       "      <th>like_count</th>\n",
       "      <th>quote_count</th>\n",
       "      <th>reply_count</th>\n",
       "      <th>retweet_count</th>\n",
       "      <th>preprocessed_text</th>\n",
       "    </tr>\n",
       "  </thead>\n",
       "  <tbody>\n",
       "    <tr>\n",
       "      <th>0</th>\n",
       "      <td>2020-06-19</td>\n",
       "      <td>{Juneteenth is henceforth considered a US holiday at Tesla &amp;amp; SpaceX}</td>\n",
       "      <td>[juneteenth, henceforth, considered, holiday, tesla, amp, spacex]</td>\n",
       "      <td>402800</td>\n",
       "      <td>2590</td>\n",
       "      <td>5884</td>\n",
       "      <td>31264</td>\n",
       "      <td>{juneteenth henceforth considered holiday tesla &amp;amp; spacex}</td>\n",
       "    </tr>\n",
       "    <tr>\n",
       "      <th>1</th>\n",
       "      <td>2020-06-21</td>\n",
       "      <td>{2019 seems so quaint &amp;amp; long ago https://t.co/xfdfcbr0DS, That is our purpose, Tesla Bioweapon Defense Mode\\nhttps://t.co/48s5D3ZQO0, We must pass The Great Filter, Mars is my souldog, If heat death is the end of the universe, it really is all about the journey, RT @cleantechnica: Exclusive Pro Photos: Tesla Cybertruck At The Petersen Auto Museum https://t.co/3ixBOsRTst, RT @Tesla: https://t.co/26o1bAP14v}</td>\n",
       "      <td>[seems, quaint, amp, long, ago, purpose, tesla, bioweapon, defense, mode, must, pass, great, filter, mars, souldog, heat, death, end, universe, really, journey, cleantechnica, exclusive, pro, photos, tesla, cybertruck, petersen, auto, museum, tesla]</td>\n",
       "      <td>735629</td>\n",
       "      <td>4879</td>\n",
       "      <td>17989</td>\n",
       "      <td>57388</td>\n",
       "      <td>{2019 seems quaint &amp;amp; long ago purpose, tesla bioweapon defense mode must pass great filter, mars souldog, heat death end universe, really journey, @cleantechnica: exclusive pro photos: tesla cybertruck petersen auto museum @tesla:</td>\n",
       "    </tr>\n",
       "    <tr>\n",
       "      <th>2</th>\n",
       "      <td>2020-06-22</td>\n",
       "      <td>{Tentative date for Tesla Shareholder Meeting &amp;amp; Battery Day is Sept 15. Will include tour of cell production system., Reminder that Tesla Full Self-Driving (FSD) price goes up by $1k on July 1st, Enabling basic Tesla Autopilot via Tesla in-app purchase is reduced to $2k until July 1}</td>\n",
       "      <td>[tentative, date, tesla, shareholder, meeting, amp, battery, day, sept, include, tour, cell, production, system, reminder, tesla, full, self, driving, fsd, price, goes, july, st, enabling, basic, tesla, autopilot, tesla, in, app, purchase, reduced, july]</td>\n",
       "      <td>133516</td>\n",
       "      <td>892</td>\n",
       "      <td>5246</td>\n",
       "      <td>5438</td>\n",
       "      <td>{tentative date tesla shareholder meeting &amp;amp; battery day sept 15. include tour cell production system., reminder tesla full self-driving (fsd) price goes $1k july 1st, enabling basic tesla autopilot tesla in-app purchase reduced $2k july 1}</td>\n",
       "    </tr>\n",
       "    <tr>\n",
       "      <th>3</th>\n",
       "      <td>2020-06-25</td>\n",
       "      <td>{RT @GerberKawasaki: First thoughts driving my new Tesla model Y. Review and discussion of what I learned at Tesla today and outlook for the…, Two Starship tanks in the midbay https://t.co/QJ2V882WOC, Special thanks to Tesla trucking &amp;amp; rail partners for figuratively &amp;amp; literally going the extra mile, Apologies to Tesla customers for shifting delivery dates. It’s a crazy world out there!, RT @cleantechnica: Wall Street Journal: Tesla Model Y Offers “Fierce, Velvety” Driving Characteristics https://t.co/dGY24gCVLz}</td>\n",
       "      <td>[rt, gerberkawasaki, first, thoughts, driving, new, tesla, model, review, discussion, learned, tesla, today, outlook, the, two, starship, tanks, midbay, special, thanks, tesla, trucking, amp, rail, partners, figuratively, amp, literally, going, extra, mile, apologies, tesla, customers, shifting, delivery, dates, it, crazy, world, there, cleantechnica, wall, street, journal, tesla, model, offers, fierce, velvety, driving, characteristics]</td>\n",
       "      <td>259296</td>\n",
       "      <td>1039</td>\n",
       "      <td>4758</td>\n",
       "      <td>10802</td>\n",
       "      <td>{rt @gerberkawasaki: first thoughts driving new tesla model y. review discussion learned tesla today outlook the…, two starship tanks midbay special thanks tesla trucking &amp;amp; rail partners figuratively &amp;amp; literally going extra mile, apologies tesla customers shifting delivery dates. it’s crazy world there!, @cleantechnica: wall street journal: tesla model offers “fierce, velvety” driving characteristics</td>\n",
       "    </tr>\n",
       "    <tr>\n",
       "      <th>4</th>\n",
       "      <td>2020-06-26</td>\n",
       "      <td>{.@JeffBezos is a copy 🐈 haha https://t.co/plR7uupqBG, Who controls the memes,\\ncontrols the Universe, https://t.co/e9dPKVSjjl, Literally, Only a matter of time before someone steals a Tesla while playing GTA on a Tesla, North American Supercharger usage tracking to exceed pre covid highs in 2 to 3 weeks. Lot of noise out there. This is signal. https://t.co/PCC5DlthtA}</td>\n",
       "      <td>[jeffbezos, copy, controls, memes, controls, universe, literally, matter, time, someone, steals, tesla, playing, gta, tesla, north, american, supercharger, usage, tracking, exceed, pre, covid, highs, weeks, lot, noise, there, signal]</td>\n",
       "      <td>2248367</td>\n",
       "      <td>24436</td>\n",
       "      <td>32923</td>\n",
       "      <td>300062</td>\n",
       "      <td>{.@jeffbezos copy 🐈 controls memes, controls universe, literally, matter time someone steals tesla playing gta tesla, north american supercharger usage tracking exceed pre covid highs 2 3 weeks. lot noise there. signal.</td>\n",
       "    </tr>\n",
       "  </tbody>\n",
       "</table>\n",
       "</div>"
      ],
      "text/plain": [
       "         date  \\\n",
       "0  2020-06-19   \n",
       "1  2020-06-21   \n",
       "2  2020-06-22   \n",
       "3  2020-06-25   \n",
       "4  2020-06-26   \n",
       "\n",
       "                                                                                                                                                                                                                                                                                                                                                                                                                                                                                                                                            text  \\\n",
       "0  {Juneteenth is henceforth considered a US holiday at Tesla &amp; SpaceX}                                                                                                                                                                                                                                                                                                                                                                                                                                                                        \n",
       "1  {2019 seems so quaint &amp; long ago https://t.co/xfdfcbr0DS, That is our purpose, Tesla Bioweapon Defense Mode\\nhttps://t.co/48s5D3ZQO0, We must pass The Great Filter, Mars is my souldog, If heat death is the end of the universe, it really is all about the journey, RT @cleantechnica: Exclusive Pro Photos: Tesla Cybertruck At The Petersen Auto Museum https://t.co/3ixBOsRTst, RT @Tesla: https://t.co/26o1bAP14v}                                                                                                                   \n",
       "2  {Tentative date for Tesla Shareholder Meeting &amp; Battery Day is Sept 15. Will include tour of cell production system., Reminder that Tesla Full Self-Driving (FSD) price goes up by $1k on July 1st, Enabling basic Tesla Autopilot via Tesla in-app purchase is reduced to $2k until July 1}                                                                                                                                                                                                                                                \n",
       "3  {RT @GerberKawasaki: First thoughts driving my new Tesla model Y. Review and discussion of what I learned at Tesla today and outlook for the…, Two Starship tanks in the midbay https://t.co/QJ2V882WOC, Special thanks to Tesla trucking &amp; rail partners for figuratively &amp; literally going the extra mile, Apologies to Tesla customers for shifting delivery dates. It’s a crazy world out there!, RT @cleantechnica: Wall Street Journal: Tesla Model Y Offers “Fierce, Velvety” Driving Characteristics https://t.co/dGY24gCVLz}   \n",
       "4  {.@JeffBezos is a copy 🐈 haha https://t.co/plR7uupqBG, Who controls the memes,\\ncontrols the Universe, https://t.co/e9dPKVSjjl, Literally, Only a matter of time before someone steals a Tesla while playing GTA on a Tesla, North American Supercharger usage tracking to exceed pre covid highs in 2 to 3 weeks. Lot of noise out there. This is signal. https://t.co/PCC5DlthtA}                                                                                                                                                             \n",
       "\n",
       "                                                                                                                                                                                                                                                                                                                                                                                                                                              tokenized_text  \\\n",
       "0  [juneteenth, henceforth, considered, holiday, tesla, amp, spacex]                                                                                                                                                                                                                                                                                                                                                                                           \n",
       "1  [seems, quaint, amp, long, ago, purpose, tesla, bioweapon, defense, mode, must, pass, great, filter, mars, souldog, heat, death, end, universe, really, journey, cleantechnica, exclusive, pro, photos, tesla, cybertruck, petersen, auto, museum, tesla]                                                                                                                                                                                                   \n",
       "2  [tentative, date, tesla, shareholder, meeting, amp, battery, day, sept, include, tour, cell, production, system, reminder, tesla, full, self, driving, fsd, price, goes, july, st, enabling, basic, tesla, autopilot, tesla, in, app, purchase, reduced, july]                                                                                                                                                                                              \n",
       "3  [rt, gerberkawasaki, first, thoughts, driving, new, tesla, model, review, discussion, learned, tesla, today, outlook, the, two, starship, tanks, midbay, special, thanks, tesla, trucking, amp, rail, partners, figuratively, amp, literally, going, extra, mile, apologies, tesla, customers, shifting, delivery, dates, it, crazy, world, there, cleantechnica, wall, street, journal, tesla, model, offers, fierce, velvety, driving, characteristics]   \n",
       "4  [jeffbezos, copy, controls, memes, controls, universe, literally, matter, time, someone, steals, tesla, playing, gta, tesla, north, american, supercharger, usage, tracking, exceed, pre, covid, highs, weeks, lot, noise, there, signal]                                                                                                                                                                                                                   \n",
       "\n",
       "   like_count  quote_count  reply_count  retweet_count  \\\n",
       "0  402800      2590         5884         31264           \n",
       "1  735629      4879         17989        57388           \n",
       "2  133516      892          5246         5438            \n",
       "3  259296      1039         4758         10802           \n",
       "4  2248367     24436        32923        300062          \n",
       "\n",
       "                                                                                                                                                                                                                                                                                                                                                                                                             preprocessed_text  \n",
       "0  {juneteenth henceforth considered holiday tesla &amp; spacex}                                                                                                                                                                                                                                                                                                                                                                \n",
       "1  {2019 seems quaint &amp; long ago purpose, tesla bioweapon defense mode must pass great filter, mars souldog, heat death end universe, really journey, @cleantechnica: exclusive pro photos: tesla cybertruck petersen auto museum @tesla:                                                                                                                                                                                   \n",
       "2  {tentative date tesla shareholder meeting &amp; battery day sept 15. include tour cell production system., reminder tesla full self-driving (fsd) price goes $1k july 1st, enabling basic tesla autopilot tesla in-app purchase reduced $2k july 1}                                                                                                                                                                          \n",
       "3  {rt @gerberkawasaki: first thoughts driving new tesla model y. review discussion learned tesla today outlook the…, two starship tanks midbay special thanks tesla trucking &amp; rail partners figuratively &amp; literally going extra mile, apologies tesla customers shifting delivery dates. it’s crazy world there!, @cleantechnica: wall street journal: tesla model offers “fierce, velvety” driving characteristics  \n",
       "4  {.@jeffbezos copy 🐈 controls memes, controls universe, literally, matter time someone steals tesla playing gta tesla, north american supercharger usage tracking exceed pre covid highs 2 3 weeks. lot noise there. signal.                                                                                                                                                                                                  "
      ]
     },
     "execution_count": 60,
     "metadata": {},
     "output_type": "execute_result"
    }
   ],
   "source": [
    "df_tweets_clean.head()"
   ]
  },
  {
   "cell_type": "markdown",
   "id": "65b9e1e2",
   "metadata": {},
   "source": [
    "Latent Dirichlet Allocation is the probabilistic transformation of a bag-of-words count into a lower-dimensional topic space. Tweets are viewed as a subject distribution. The distribution of all the terms in the vocabulary, in turn, represents topics. However, we don't know how many subjects are in the corpus or how many tweets each topic contains. With LDA, we wish to approach the topic assignment of tweets as a random variable that is estimated from the available data."
   ]
  },
  {
   "cell_type": "code",
   "execution_count": 62,
   "id": "01bcd075",
   "metadata": {},
   "outputs": [],
   "source": [
    "tweets_dictionary = Dictionary(df_tweets_clean.tokenized_text)"
   ]
  },
  {
   "cell_type": "code",
   "execution_count": 63,
   "id": "bab42185",
   "metadata": {},
   "outputs": [
    {
     "name": "stdout",
     "output_type": "stream",
     "text": [
      "We have 284 tweets and 2360 words in the dictionary.\n"
     ]
    }
   ],
   "source": [
    "print(\"We have {} tweets and {} words in the dictionary.\".format(df_tweets_clean.shape[0],len(tweets_dictionary)))"
   ]
  },
  {
   "cell_type": "code",
   "execution_count": 64,
   "id": "15914788",
   "metadata": {},
   "outputs": [],
   "source": [
    "tweets_corpus = [tweets_dictionary.doc2bow(tweet) for tweet in df_tweets_clean.tokenized_text]"
   ]
  },
  {
   "cell_type": "markdown",
   "id": "59047d5b",
   "metadata": {},
   "source": [
    "It's an art to find the correct number of themes for LDA. Perplexity techniques are frequently preferred over Topic Coherence procedures. With coherence, we measure the degree of semantic similarity between a topic's high-scoring words to determine its coherence. As a result, more human-interpretable subjects emerge. The method chooses the most commonly used words in each topic. To determine the coherence score for a given topic, it computes and aggregates the pairwise scores (UMass) for each of the words."
   ]
  },
  {
   "cell_type": "code",
   "execution_count": 65,
   "id": "4a3a690d",
   "metadata": {},
   "outputs": [
    {
     "name": "stdout",
     "output_type": "stream",
     "text": [
      "1 -3.657772565934098\n",
      "2 -5.726576925690322\n",
      "3 -5.510263643342096\n",
      "4 -6.190757022550146\n",
      "5 -8.367654149710336\n",
      "6 -6.965542531256051\n",
      "7 -8.317941422789776\n",
      "8 -7.492406778264419\n",
      "9 -8.557450855693906\n",
      "10 -8.9893567491431\n",
      "11 -8.473136395856418\n",
      "12 -9.637453438437817\n",
      "13 -9.505346135098412\n",
      "14 -10.14016296750367\n",
      "15 -8.693490206440577\n",
      "16 -10.48886912695739\n",
      "17 -10.041755482778244\n",
      "18 -10.397058361412942\n",
      "19 -8.460325012329607\n",
      "20 -9.536900681754704\n",
      "21 -9.313491456046783\n",
      "22 -9.501543854897589\n",
      "23 -9.360525803776026\n",
      "24 -9.248277698142413\n",
      "25 -9.663034690979199\n",
      "26 -9.867291150239408\n",
      "27 -9.670174640637086\n",
      "28 -9.796277556977762\n",
      "29 -9.515239867236462\n",
      "30 -10.004067640424747\n",
      "31 -8.774761635406554\n",
      "32 -9.991075278197592\n",
      "33 -9.55648014284012\n",
      "34 -10.132678928292608\n",
      "35 -9.081673371050913\n"
     ]
    }
   ],
   "source": [
    "tweets_coherence = []\n",
    "for nb_topics in range(1,36):\n",
    "    lda = LdaModel(tweets_corpus, num_topics = nb_topics, id2word = tweets_dictionary, passes=10)\n",
    "    cohm = CoherenceModel(model=lda, corpus=tweets_corpus, dictionary=tweets_dictionary, coherence='u_mass')\n",
    "    coh = cohm.get_coherence()\n",
    "    tweets_coherence.append(coh)\n",
    "    print(nb_topics,coh)"
   ]
  },
  {
   "cell_type": "markdown",
   "id": "54deb425",
   "metadata": {},
   "source": [
    "We visualize the average coherence score per topic for a range of models trained with a different number of topics below. The number of topics for which the average score plateaus, is the sweet spot we are looking for. So our best guess for the number of topics is around 22. We should consider that, typically a corpus with very short documents (tweets in our case) tends to be more difficult to apply to coherent models than a corpus with longer documents."
   ]
  },
  {
   "cell_type": "code",
   "execution_count": 66,
   "id": "bdd194f9",
   "metadata": {},
   "outputs": [
    {
     "data": {
      "image/png": "[encoded data removed]",
      "text/plain": [
       "<Figure size 720x360 with 1 Axes>"
      ]
     },
     "metadata": {
      "needs_background": "light"
     },
     "output_type": "display_data"
    }
   ],
   "source": [
    "plt.figure(figsize=(10,5))\n",
    "plt.plot(range(1,36),tweets_coherence)\n",
    "plt.xlabel(\"Number of Topics\")\n",
    "plt.ylabel(\"Coherence Score\");"
   ]
  },
  {
   "cell_type": "markdown",
   "id": "eaf0a149",
   "metadata": {},
   "source": [
    "**Run LDA on the texts using the optimal value of $k$ found via the analysis above. Print out the top 10 words and associated betas for each of the $k$ topics. Comment on the results and their plausibility.**"
   ]
  },
  {
   "cell_type": "code",
   "execution_count": 67,
   "id": "f16e837f",
   "metadata": {},
   "outputs": [],
   "source": [
    "k = 22\n",
    "tweets_lda = LdaModel(tweets_corpus, num_topics = k, id2word = tweets_dictionary, passes=10)"
   ]
  },
  {
   "cell_type": "code",
   "execution_count": 68,
   "id": "18eedc5b",
   "metadata": {},
   "outputs": [],
   "source": [
    "def plot_top_words(lda=tweets_lda, nb_topics=k, nb_words=10):\n",
    "    top_words = [[word for word,_ in lda.show_topic(topic_id, topn=50)] for topic_id in range(lda.num_topics)]\n",
    "    top_betas = [[beta for _,beta in lda.show_topic(topic_id, topn=50)] for topic_id in range(lda.num_topics)]\n",
    "\n",
    "    gs  = gridspec.GridSpec(round(math.sqrt(k))+1,round(math.sqrt(k))+1)\n",
    "    gs.update(wspace=0.5, hspace=0.5)\n",
    "    plt.figure(figsize=(20,15))\n",
    "    for i in range(nb_topics):\n",
    "        ax = plt.subplot(gs[i])\n",
    "        plt.barh(range(nb_words), top_betas[i][:nb_words], align='center',color='blue', ecolor='black')\n",
    "        ax.invert_yaxis()\n",
    "        ax.set_yticks(range(nb_words))\n",
    "        ax.set_yticklabels(top_words[i][:nb_words])\n",
    "        plt.title(\"Topic \"+str(i))"
   ]
  },
  {
   "cell_type": "code",
   "execution_count": 69,
   "id": "1d252e36",
   "metadata": {},
   "outputs": [
    {
     "data": {
      "image/png": "[encoded data removed]",
      "text/plain": [
       "<Figure size 1440x1080 with 22 Axes>"
      ]
     },
     "metadata": {
      "needs_background": "light"
     },
     "output_type": "display_data"
    }
   ],
   "source": [
    "plot_top_words()"
   ]
  },
  {
   "cell_type": "markdown",
   "id": "aae73847",
   "metadata": {},
   "source": [
    "The topics do not make totally sense. However we can see the following meaningful match:\n",
    "\n",
    "Topic 1 - bitcoin\n",
    "\n",
    "Topic 2, - tesla\n",
    "\n",
    "etc"
   ]
  },
  {
   "cell_type": "code",
   "execution_count": null,
   "id": "73d6c209",
   "metadata": {},
   "outputs": [],
   "source": []
  },
  {
   "cell_type": "code",
   "execution_count": null,
   "id": "0ac8ebd9",
   "metadata": {},
   "outputs": [],
   "source": []
  }
 ],
 "metadata": {
  "kernelspec": {
   "display_name": "mlenv",
   "language": "python",
   "name": "mlenv"
  },
  "language_info": {
   "codemirror_mode": {
    "name": "ipython",
    "version": 3
   },
   "file_extension": ".py",
   "mimetype": "text/x-python",
   "name": "python",
   "nbconvert_exporter": "python",
   "pygments_lexer": "ipython3",
   "version": "3.7.10"
  }
 },
 "nbformat": 4,
 "nbformat_minor": 5
}
