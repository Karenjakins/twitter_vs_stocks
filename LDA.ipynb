{
 "cells": [
  {
   "cell_type": "code",
   "execution_count": 24,
   "id": "e1611335",
   "metadata": {},
   "outputs": [],
   "source": [
    "import os\n",
    "# This can make the kernel die if it doesn't go well\n",
    "os.environ['R_HOME'] = \"C:\\Program Files\\R\\R-4.1.0\"\n",
    "from rpy2.robjects.packages import importr\n",
    "r_utils = importr('utils')"
   ]
  },
  {
   "cell_type": "code",
   "execution_count": 25,
   "id": "e58cd9d5",
   "metadata": {},
   "outputs": [],
   "source": [
    "# r_utils.install_packages('coda')"
   ]
  },
  {
   "cell_type": "code",
   "execution_count": 26,
   "id": "ed5e10d7",
   "metadata": {},
   "outputs": [],
   "source": [
    "r_coda = importr('coda')"
   ]
  },
  {
   "cell_type": "code",
   "execution_count": 27,
   "id": "8fd18fb6",
   "metadata": {},
   "outputs": [],
   "source": [
    "import pandas as pd\n",
    "\n",
    "import numpy as np\n",
    "%matplotlib inline \n",
    "import matplotlib.pyplot as plt\n",
    "import rpy2\n",
    "from rpy2.robjects import pandas2ri\n",
    "pandas2ri.activate()\n",
    "\n",
    "r_coda = importr('coda')\n",
    "from sklearn.feature_extraction.text import CountVectorizer\n",
    "from gensim.corpora import Dictionary\n",
    "from gensim.models.ldamodel import LdaModel\n",
    "from gensim.models import CoherenceModel\n",
    "from nltk.corpus import stopwords\n",
    "from nltk.tokenize import RegexpTokenizer\n",
    "from datetime import datetime\n",
    "from scipy.special import expit"
   ]
  },
  {
   "cell_type": "code",
   "execution_count": 28,
   "id": "13fca851",
   "metadata": {},
   "outputs": [
    {
     "name": "stderr",
     "output_type": "stream",
     "text": [
      "C:\\Users\\zkirsan\\anaconda3\\envs\\mlenv\\lib\\site-packages\\ipykernel_launcher.py:1: FutureWarning: Passing a negative integer is deprecated in version 1.0 and will not be supported in future version. Instead, use None to not limit the column width.\n",
      "  \"\"\"Entry point for launching an IPython kernel.\n"
     ]
    }
   ],
   "source": [
    "pd.set_option('display.max_colwidth', -1)"
   ]
  },
  {
   "cell_type": "code",
   "execution_count": 29,
   "id": "289287ae",
   "metadata": {},
   "outputs": [],
   "source": [
    "import nltk\n",
    "#nltk.download('stopwords')"
   ]
  },
  {
   "cell_type": "code",
   "execution_count": 30,
   "id": "d45c4a5c",
   "metadata": {},
   "outputs": [],
   "source": [
    "import re\n",
    "from matplotlib import gridspec\n",
    "import math\n",
    "from sklearn.metrics import accuracy_score"
   ]
  },
  {
   "cell_type": "markdown",
   "id": "5621b5e8",
   "metadata": {},
   "source": [
    "### Part 1: Elon Musk's Tweets\n",
    "\n",
    "In the first part of this project, we will be working with text from the @elonmusk Twitter account. This consists of all tweets from the account from 1/6/2010 to 1/6/2020. The goal is to use Latent Dirichlet Allocation in order to model the topics tweeted from Elon Musk.\n"
   ]
  },
  {
   "cell_type": "code",
   "execution_count": 31,
   "id": "12c6770c",
   "metadata": {},
   "outputs": [],
   "source": [
    "df_tweets_orig = pd.read_csv('data/tweets_data_2010_2020.csv')"
   ]
  },
  {
   "cell_type": "code",
   "execution_count": 32,
   "id": "2c0aac9a",
   "metadata": {},
   "outputs": [],
   "source": [
    "df_tweets = df_tweets_orig.copy()"
   ]
  },
  {
   "cell_type": "code",
   "execution_count": 33,
   "id": "4963fbbe",
   "metadata": {},
   "outputs": [
    {
     "data": {
      "text/html": [
       "<div>\n",
       "<style scoped>\n",
       "    .dataframe tbody tr th:only-of-type {\n",
       "        vertical-align: middle;\n",
       "    }\n",
       "\n",
       "    .dataframe tbody tr th {\n",
       "        vertical-align: top;\n",
       "    }\n",
       "\n",
       "    .dataframe thead th {\n",
       "        text-align: right;\n",
       "    }\n",
       "</style>\n",
       "<table border=\"1\" class=\"dataframe\">\n",
       "  <thead>\n",
       "    <tr style=\"text-align: right;\">\n",
       "      <th></th>\n",
       "      <th>date</th>\n",
       "      <th>text</th>\n",
       "      <th>tokenized_text</th>\n",
       "      <th>like_count</th>\n",
       "      <th>reply_count</th>\n",
       "      <th>retweet_count</th>\n",
       "    </tr>\n",
       "  </thead>\n",
       "  <tbody>\n",
       "    <tr>\n",
       "      <th>0</th>\n",
       "      <td>2011-12-01</td>\n",
       "      <td>{I made the volume on the Model S  http://t.co/wMCnT53M go to 11.  Now I just need to work in a miniature Stonehenge..., Went to Iceland on Sat to ride bumper cars on ice!  No, not the country, Vlad's rink in Van Nuys. Awesome family fun :)  http://t.co/rBQXJ9IT}</td>\n",
       "      <td>['made', 'volume', 'model', 'go', 'need', 'work', 'miniature', 'stonehenge', 'went', 'iceland', 'sat', 'ride', 'bumper', 'cars', 'ice', 'country', 'vladrink', 'van', 'nuys', 'awesome', 'family', 'fun']</td>\n",
       "      <td>267</td>\n",
       "      <td>63</td>\n",
       "      <td>24</td>\n",
       "    </tr>\n",
       "    <tr>\n",
       "      <th>1</th>\n",
       "      <td>2011-12-03</td>\n",
       "      <td>{That was a total non sequitur btw, Great Voltaire quote, arguably better than Twain. Hearing news of his own death, Voltaire replied the reports were true, only premature.}</td>\n",
       "      <td>['total', 'non', 'sequitur', 'great', 'voltaire', 'quote', 'arguably', 'better', 'twain', 'hearing', 'news', 'death', 'voltaire', 'replied', 'reports', 'true', 'premature']</td>\n",
       "      <td>82</td>\n",
       "      <td>38</td>\n",
       "      <td>31</td>\n",
       "    </tr>\n",
       "    <tr>\n",
       "      <th>2</th>\n",
       "      <td>2011-12-04</td>\n",
       "      <td>{Am reading a great biography of Ben Franklin by Isaacson. Highly recommended.}</td>\n",
       "      <td>['reading', 'great', 'biography', 'ben', 'franklin', 'isaacson', 'highly', 'recommended']</td>\n",
       "      <td>65</td>\n",
       "      <td>17</td>\n",
       "      <td>9</td>\n",
       "    </tr>\n",
       "    <tr>\n",
       "      <th>3</th>\n",
       "      <td>2011-12-21</td>\n",
       "      <td>{Yum! Even better than deep fried butter:  http://t.co/Ody21NuD, Yeah, this really is me, as my Mom @mayemusk will attest. Not sure I can handle just doing 140 char missives. Will put longer thoughts on G+, Got called randomly by Kanye West today and received a download of his thoughts, ranging from shoes to Moses. He was polite, but opaque., His singing and acting talent will be sorely missed:   http://t.co/IIFKob75 South Park sequel coming soon..., Why does the crowd cry over the glorious leader Kim Il Sung's death?  Fear of being shot may play a role:   http://t.co/hoQrYtG1, Sam Harris also wrote a nice piece on the awesomeness of Hitchens:  http://t.co/fPkLiK3v May the good man RIP., Read \"Lying\", the new book by my friend Sam Harris.  Excellent cover art and lots of good reasons not to lie!}</td>\n",
       "      <td>['yum', 'even', 'better', 'deep', 'fried', 'butter', 'yeah', 'really', 'mom', 'mayemusk', 'attest', 'sure', 'handle', 'char', 'missives', 'put', 'longer', 'thoughts', 'got', 'called', 'randomly', 'kanye', 'west', 'today', 'received', 'download', 'thoughts', 'ranging', 'shoes', 'moses', 'polite', 'opaque', 'singing', 'acting', 'talent', 'sorely', 'missed', 'south', 'park', 'sequel', 'coming', 'soon', 'crowd', 'cry', 'glorious', 'leader', 'il', 'fear', 'shot', 'may', 'play', 'role', 'sam', 'harris', 'wrote', 'nice', 'piece', 'awesomeness', 'hitchens', 'may', 'good', 'man', 'rip', 'read', 'lying', 'new', 'book', 'friend', 'sam', 'harris', 'excellent', 'cover', 'art', 'lots', 'good', 'reasons', 'lie']</td>\n",
       "      <td>1330</td>\n",
       "      <td>87</td>\n",
       "      <td>597</td>\n",
       "    </tr>\n",
       "    <tr>\n",
       "      <th>4</th>\n",
       "      <td>2011-12-22</td>\n",
       "      <td>{Model S options are out! Performance in red and black for me.  I will deliver my car in June/July.  http://t.co/acnyP4nh, Hi, I'm Art Garfunkel. Have you heard the sound of silence? Because, you know, it makes a sound...  http://t.co/7vgya9xL, Raul Campos invited me to do a guest DJ gig on KCRW.  Hear my random holiday season music selections at  http://t.co/o6FQASvC}</td>\n",
       "      <td>['model', 'options', 'performance', 'red', 'black', 'deliver', 'car', 'hi', 'iart', 'garfunkel', 'heard', 'sound', 'know', 'makes', 'sound', 'raul', 'campos', 'invited', 'guest', 'dj', 'gig', 'kcrw', 'hear', 'random', 'holiday', 'season', 'music', 'selections']</td>\n",
       "      <td>1349</td>\n",
       "      <td>132</td>\n",
       "      <td>206</td>\n",
       "    </tr>\n",
       "    <tr>\n",
       "      <th>5</th>\n",
       "      <td>2011-12-24</td>\n",
       "      <td>{The Russians are having some challenges with their rockets. Too many of the engineers that designed them have retired:  http://t.co/rEs7spSU, We had a long and interesting conversation on many subjects. He has exciting ideas for extending his creative talents beyond music., Kanye stopped by the SpaceX rocket factory today.  http://t.co/6z7gHBn6}</td>\n",
       "      <td>['russians', 'challenges', 'rockets', 'many', 'engineers', 'designed', 'retired', 'long', 'interesting', 'conversation', 'many', 'subjects', 'exciting', 'ideas', 'extending', 'creative', 'talents', 'beyond', 'music', 'kanye', 'stopped', 'spacex', 'rocket', 'factory', 'today']</td>\n",
       "      <td>117113</td>\n",
       "      <td>1370</td>\n",
       "      <td>8434</td>\n",
       "    </tr>\n",
       "    <tr>\n",
       "      <th>6</th>\n",
       "      <td>2011-12-26</td>\n",
       "      <td>{Walked around a neighborhood recently rebuilt with help from APJ and others  http://t.co/KYHjsS1k, It was Xmas, so we brought presents for the kids at the orphanage. They don't usually get much.  http://t.co/r8qfluIG, Met with UNICEF, Doctors Without Borders and Artists for Peace &amp; Justice. I support them and would recommend others do too., Just returned from a trip to Haiti. Covered a lot of ground and saw many tough situations. They need a lot of help., Single character Tweets are the ulitmate extension of the Twitmeme..., I}</td>\n",
       "      <td>['walked', 'around', 'neighborhood', 'recently', 'rebuilt', 'help', 'apj', 'others', 'xmas', 'brought', 'presents', 'kids', 'orphanage', 'donusually', 'get', 'much', 'met', 'unicef', 'doctors', 'without', 'borders', 'artists', 'peace', 'justice', 'support', 'would', 'recommend', 'others', 'returned', 'trip', 'haiti', 'covered', 'lot', 'ground', 'saw', 'many', 'tough', 'situations', 'need', 'lot', 'help', 'single', 'character', 'tweets', 'ulitmate', 'extension', 'twitmeme']</td>\n",
       "      <td>558</td>\n",
       "      <td>102</td>\n",
       "      <td>171</td>\n",
       "    </tr>\n",
       "    <tr>\n",
       "      <th>7</th>\n",
       "      <td>2011-12-27</td>\n",
       "      <td>{If you ever wanted to know the *real* truth about the moon landings ...(best Onion article ever)  http://t.co/pgNEJsjI}</td>\n",
       "      <td>['ever', 'wanted', 'know', 'real', 'truth', 'moon', 'landings', 'best', 'onion', 'article', 'ever']</td>\n",
       "      <td>39</td>\n",
       "      <td>13</td>\n",
       "      <td>34</td>\n",
       "    </tr>\n",
       "    <tr>\n",
       "      <th>8</th>\n",
       "      <td>2011-12-28</td>\n",
       "      <td>{@TheOnion So true :)}</td>\n",
       "      <td>['theonion', 'true']</td>\n",
       "      <td>12</td>\n",
       "      <td>7</td>\n",
       "      <td>1</td>\n",
       "    </tr>\n",
       "    <tr>\n",
       "      <th>9</th>\n",
       "      <td>2011-12-29</td>\n",
       "      <td>{Am not saying that is *necessarily* good or bad, but reality will force us to live with the consequences of our actions  http://t.co/fnXmhUok, Interesting Economist article about how humanity's collective actions have created a fundamentally new geological age -- the Anthropocene., @om Cool personal essay. It really resonated with me, as I felt the same way after coming very close to dying from malaria ten years ago., @richardbranson Liked \"Screw Business as Usual\" a lot. This approach should be taken to heart by all, as it really is the smart move., @kanyewest Just returned from Haiti. For those who want to help, I recommend donating to MSF, UNICEF and Artists for Peace &amp; Justice.}</td>\n",
       "      <td>['saying', 'necessarily', 'good', 'bad', 'reality', 'force', 'live', 'consequences', 'actions', 'interesting', 'economist', 'article', 'humanitycollective', 'actions', 'created', 'fundamentally', 'new', 'geological', 'age', 'anthropocene', 'om', 'cool', 'personal', 'essay', 'really', 'resonated', 'felt', 'way', 'coming', 'close', 'dying', 'malaria', 'ten', 'years', 'ago', 'richardbranson', 'liked', 'screw', 'business', 'usual', 'lot', 'approach', 'taken', 'heart', 'really', 'smart', 'move', 'kanyewest', 'returned', 'haiti', 'want', 'help', 'recommend', 'donating', 'msf', 'unicef', 'artists', 'peace', 'justice']</td>\n",
       "      <td>187</td>\n",
       "      <td>39</td>\n",
       "      <td>41</td>\n",
       "    </tr>\n",
       "  </tbody>\n",
       "</table>\n",
       "</div>"
      ],
      "text/plain": [
       "         date  \\\n",
       "0  2011-12-01   \n",
       "1  2011-12-03   \n",
       "2  2011-12-04   \n",
       "3  2011-12-21   \n",
       "4  2011-12-22   \n",
       "5  2011-12-24   \n",
       "6  2011-12-26   \n",
       "7  2011-12-27   \n",
       "8  2011-12-28   \n",
       "9  2011-12-29   \n",
       "\n",
       "                                                                                                                                                                                                                                                                                                                                                                                                                                                                                                                                                                                                                                                                                                                                                                                                                                      text  \\\n",
       "0  {I made the volume on the Model S  http://t.co/wMCnT53M go to 11.  Now I just need to work in a miniature Stonehenge..., Went to Iceland on Sat to ride bumper cars on ice!  No, not the country, Vlad's rink in Van Nuys. Awesome family fun :)  http://t.co/rBQXJ9IT}                                                                                                                                                                                                                                                                                                                                                                                                                                                                                                                                                                   \n",
       "1  {That was a total non sequitur btw, Great Voltaire quote, arguably better than Twain. Hearing news of his own death, Voltaire replied the reports were true, only premature.}                                                                                                                                                                                                                                                                                                                                                                                                                                                                                                                                                                                                                                                             \n",
       "2  {Am reading a great biography of Ben Franklin by Isaacson. Highly recommended.}                                                                                                                                                                                                                                                                                                                                                                                                                                                                                                                                                                                                                                                                                                                                                           \n",
       "3  {Yum! Even better than deep fried butter:  http://t.co/Ody21NuD, Yeah, this really is me, as my Mom @mayemusk will attest. Not sure I can handle just doing 140 char missives. Will put longer thoughts on G+, Got called randomly by Kanye West today and received a download of his thoughts, ranging from shoes to Moses. He was polite, but opaque., His singing and acting talent will be sorely missed:   http://t.co/IIFKob75 South Park sequel coming soon..., Why does the crowd cry over the glorious leader Kim Il Sung's death?  Fear of being shot may play a role:   http://t.co/hoQrYtG1, Sam Harris also wrote a nice piece on the awesomeness of Hitchens:  http://t.co/fPkLiK3v May the good man RIP., Read \"Lying\", the new book by my friend Sam Harris.  Excellent cover art and lots of good reasons not to lie!}   \n",
       "4  {Model S options are out! Performance in red and black for me.  I will deliver my car in June/July.  http://t.co/acnyP4nh, Hi, I'm Art Garfunkel. Have you heard the sound of silence? Because, you know, it makes a sound...  http://t.co/7vgya9xL, Raul Campos invited me to do a guest DJ gig on KCRW.  Hear my random holiday season music selections at  http://t.co/o6FQASvC}                                                                                                                                                                                                                                                                                                                                                                                                                                                       \n",
       "5  {The Russians are having some challenges with their rockets. Too many of the engineers that designed them have retired:  http://t.co/rEs7spSU, We had a long and interesting conversation on many subjects. He has exciting ideas for extending his creative talents beyond music., Kanye stopped by the SpaceX rocket factory today.  http://t.co/6z7gHBn6}                                                                                                                                                                                                                                                                                                                                                                                                                                                                              \n",
       "6  {Walked around a neighborhood recently rebuilt with help from APJ and others  http://t.co/KYHjsS1k, It was Xmas, so we brought presents for the kids at the orphanage. They don't usually get much.  http://t.co/r8qfluIG, Met with UNICEF, Doctors Without Borders and Artists for Peace & Justice. I support them and would recommend others do too., Just returned from a trip to Haiti. Covered a lot of ground and saw many tough situations. They need a lot of help., Single character Tweets are the ulitmate extension of the Twitmeme..., I}                                                                                                                                                                                                                                                                                    \n",
       "7  {If you ever wanted to know the *real* truth about the moon landings ...(best Onion article ever)  http://t.co/pgNEJsjI}                                                                                                                                                                                                                                                                                                                                                                                                                                                                                                                                                                                                                                                                                                                  \n",
       "8  {@TheOnion So true :)}                                                                                                                                                                                                                                                                                                                                                                                                                                                                                                                                                                                                                                                                                                                                                                                                                    \n",
       "9  {Am not saying that is *necessarily* good or bad, but reality will force us to live with the consequences of our actions  http://t.co/fnXmhUok, Interesting Economist article about how humanity's collective actions have created a fundamentally new geological age -- the Anthropocene., @om Cool personal essay. It really resonated with me, as I felt the same way after coming very close to dying from malaria ten years ago., @richardbranson Liked \"Screw Business as Usual\" a lot. This approach should be taken to heart by all, as it really is the smart move., @kanyewest Just returned from Haiti. For those who want to help, I recommend donating to MSF, UNICEF and Artists for Peace & Justice.}                                                                                                                      \n",
       "\n",
       "                                                                                                                                                                                                                                                                                                                                                                                                                                                                                                                                                                                                                                                                                                                       tokenized_text  \\\n",
       "0  ['made', 'volume', 'model', 'go', 'need', 'work', 'miniature', 'stonehenge', 'went', 'iceland', 'sat', 'ride', 'bumper', 'cars', 'ice', 'country', 'vladrink', 'van', 'nuys', 'awesome', 'family', 'fun']                                                                                                                                                                                                                                                                                                                                                                                                                                                                                                                            \n",
       "1  ['total', 'non', 'sequitur', 'great', 'voltaire', 'quote', 'arguably', 'better', 'twain', 'hearing', 'news', 'death', 'voltaire', 'replied', 'reports', 'true', 'premature']                                                                                                                                                                                                                                                                                                                                                                                                                                                                                                                                                         \n",
       "2  ['reading', 'great', 'biography', 'ben', 'franklin', 'isaacson', 'highly', 'recommended']                                                                                                                                                                                                                                                                                                                                                                                                                                                                                                                                                                                                                                            \n",
       "3  ['yum', 'even', 'better', 'deep', 'fried', 'butter', 'yeah', 'really', 'mom', 'mayemusk', 'attest', 'sure', 'handle', 'char', 'missives', 'put', 'longer', 'thoughts', 'got', 'called', 'randomly', 'kanye', 'west', 'today', 'received', 'download', 'thoughts', 'ranging', 'shoes', 'moses', 'polite', 'opaque', 'singing', 'acting', 'talent', 'sorely', 'missed', 'south', 'park', 'sequel', 'coming', 'soon', 'crowd', 'cry', 'glorious', 'leader', 'il', 'fear', 'shot', 'may', 'play', 'role', 'sam', 'harris', 'wrote', 'nice', 'piece', 'awesomeness', 'hitchens', 'may', 'good', 'man', 'rip', 'read', 'lying', 'new', 'book', 'friend', 'sam', 'harris', 'excellent', 'cover', 'art', 'lots', 'good', 'reasons', 'lie']   \n",
       "4  ['model', 'options', 'performance', 'red', 'black', 'deliver', 'car', 'hi', 'iart', 'garfunkel', 'heard', 'sound', 'know', 'makes', 'sound', 'raul', 'campos', 'invited', 'guest', 'dj', 'gig', 'kcrw', 'hear', 'random', 'holiday', 'season', 'music', 'selections']                                                                                                                                                                                                                                                                                                                                                                                                                                                                \n",
       "5  ['russians', 'challenges', 'rockets', 'many', 'engineers', 'designed', 'retired', 'long', 'interesting', 'conversation', 'many', 'subjects', 'exciting', 'ideas', 'extending', 'creative', 'talents', 'beyond', 'music', 'kanye', 'stopped', 'spacex', 'rocket', 'factory', 'today']                                                                                                                                                                                                                                                                                                                                                                                                                                                 \n",
       "6  ['walked', 'around', 'neighborhood', 'recently', 'rebuilt', 'help', 'apj', 'others', 'xmas', 'brought', 'presents', 'kids', 'orphanage', 'donusually', 'get', 'much', 'met', 'unicef', 'doctors', 'without', 'borders', 'artists', 'peace', 'justice', 'support', 'would', 'recommend', 'others', 'returned', 'trip', 'haiti', 'covered', 'lot', 'ground', 'saw', 'many', 'tough', 'situations', 'need', 'lot', 'help', 'single', 'character', 'tweets', 'ulitmate', 'extension', 'twitmeme']                                                                                                                                                                                                                                        \n",
       "7  ['ever', 'wanted', 'know', 'real', 'truth', 'moon', 'landings', 'best', 'onion', 'article', 'ever']                                                                                                                                                                                                                                                                                                                                                                                                                                                                                                                                                                                                                                  \n",
       "8  ['theonion', 'true']                                                                                                                                                                                                                                                                                                                                                                                                                                                                                                                                                                                                                                                                                                                 \n",
       "9  ['saying', 'necessarily', 'good', 'bad', 'reality', 'force', 'live', 'consequences', 'actions', 'interesting', 'economist', 'article', 'humanitycollective', 'actions', 'created', 'fundamentally', 'new', 'geological', 'age', 'anthropocene', 'om', 'cool', 'personal', 'essay', 'really', 'resonated', 'felt', 'way', 'coming', 'close', 'dying', 'malaria', 'ten', 'years', 'ago', 'richardbranson', 'liked', 'screw', 'business', 'usual', 'lot', 'approach', 'taken', 'heart', 'really', 'smart', 'move', 'kanyewest', 'returned', 'haiti', 'want', 'help', 'recommend', 'donating', 'msf', 'unicef', 'artists', 'peace', 'justice']                                                                                           \n",
       "\n",
       "   like_count  reply_count  retweet_count  \n",
       "0  267         63           24             \n",
       "1  82          38           31             \n",
       "2  65          17           9              \n",
       "3  1330        87           597            \n",
       "4  1349        132          206            \n",
       "5  117113      1370         8434           \n",
       "6  558         102          171            \n",
       "7  39          13           34             \n",
       "8  12          7            1              \n",
       "9  187         39           41             "
      ]
     },
     "execution_count": 33,
     "metadata": {},
     "output_type": "execute_result"
    }
   ],
   "source": [
    "df_tweets.head(10)"
   ]
  },
  {
   "cell_type": "code",
   "execution_count": 34,
   "id": "239dd95c",
   "metadata": {},
   "outputs": [
    {
     "data": {
      "text/plain": [
       "date              object\n",
       "text              object\n",
       "tokenized_text    object\n",
       "like_count        int64 \n",
       "reply_count       int64 \n",
       "retweet_count     int64 \n",
       "dtype: object"
      ]
     },
     "execution_count": 34,
     "metadata": {},
     "output_type": "execute_result"
    }
   ],
   "source": [
    "df_tweets.dtypes "
   ]
  },
  {
   "cell_type": "code",
   "execution_count": 35,
   "id": "8afeb389",
   "metadata": {},
   "outputs": [
    {
     "data": {
      "text/plain": [
       "(1719, 6)"
      ]
     },
     "execution_count": 35,
     "metadata": {},
     "output_type": "execute_result"
    }
   ],
   "source": [
    "df_tweets.shape"
   ]
  },
  {
   "cell_type": "code",
   "execution_count": 36,
   "id": "98dee3fe",
   "metadata": {},
   "outputs": [],
   "source": [
    "df_tweets['preprocessed_text'] = df_tweets.text.str.lower()"
   ]
  },
  {
   "cell_type": "code",
   "execution_count": 37,
   "id": "86c304bd",
   "metadata": {
    "scrolled": true
   },
   "outputs": [
    {
     "data": {
      "text/plain": [
       "['against',\n",
       " 'didn',\n",
       " \"you've\",\n",
       " \"weren't\",\n",
       " 'nor',\n",
       " 'needn',\n",
       " 'once',\n",
       " \"didn't\",\n",
       " 'than',\n",
       " 'don']"
      ]
     },
     "execution_count": 37,
     "metadata": {},
     "output_type": "execute_result"
    }
   ],
   "source": [
    "en_stop_words = set(stopwords.words('english'))\n",
    "list(en_stop_words)[:10]"
   ]
  },
  {
   "cell_type": "code",
   "execution_count": 38,
   "id": "f5385b3d",
   "metadata": {},
   "outputs": [],
   "source": [
    "df_tweets.preprocessed_text = df_tweets.preprocessed_text.apply(lambda row: ' '.join([word for word in row.split() if word not in (en_stop_words)]))"
   ]
  },
  {
   "cell_type": "code",
   "execution_count": 39,
   "id": "146789b5",
   "metadata": {},
   "outputs": [],
   "source": [
    "tokenizer = RegexpTokenizer('[a-zA-Z]\\w+\\'?\\w*')"
   ]
  },
  {
   "cell_type": "code",
   "execution_count": 40,
   "id": "927e04eb",
   "metadata": {},
   "outputs": [],
   "source": [
    "df_tweets['tokenized_text'] = df_tweets.preprocessed_text.apply(lambda row: tokenizer.tokenize(row))"
   ]
  },
  {
   "cell_type": "code",
   "execution_count": 41,
   "id": "79dcf62b",
   "metadata": {},
   "outputs": [
    {
     "data": {
      "text/html": [
       "<div>\n",
       "<style scoped>\n",
       "    .dataframe tbody tr th:only-of-type {\n",
       "        vertical-align: middle;\n",
       "    }\n",
       "\n",
       "    .dataframe tbody tr th {\n",
       "        vertical-align: top;\n",
       "    }\n",
       "\n",
       "    .dataframe thead th {\n",
       "        text-align: right;\n",
       "    }\n",
       "</style>\n",
       "<table border=\"1\" class=\"dataframe\">\n",
       "  <thead>\n",
       "    <tr style=\"text-align: right;\">\n",
       "      <th></th>\n",
       "      <th>date</th>\n",
       "      <th>text</th>\n",
       "      <th>tokenized_text</th>\n",
       "      <th>like_count</th>\n",
       "      <th>reply_count</th>\n",
       "      <th>retweet_count</th>\n",
       "      <th>preprocessed_text</th>\n",
       "    </tr>\n",
       "  </thead>\n",
       "  <tbody>\n",
       "    <tr>\n",
       "      <th>0</th>\n",
       "      <td>2011-12-01</td>\n",
       "      <td>{I made the volume on the Model S  http://t.co/wMCnT53M go to 11.  Now I just need to work in a miniature Stonehenge..., Went to Iceland on Sat to ride bumper cars on ice!  No, not the country, Vlad's rink in Van Nuys. Awesome family fun :)  http://t.co/rBQXJ9IT}</td>\n",
       "      <td>[made, volume, model, http, co, wmcnt53m, go, need, work, miniature, stonehenge, went, iceland, sat, ride, bumper, cars, ice, no, country, vlad's, rink, van, nuys, awesome, family, fun, http, co, rbqxj9it]</td>\n",
       "      <td>267</td>\n",
       "      <td>63</td>\n",
       "      <td>24</td>\n",
       "      <td>{i made volume model http://t.co/wmcnt53m go 11. need work miniature stonehenge..., went iceland sat ride bumper cars ice! no, country, vlad's rink van nuys. awesome family fun :) http://t.co/rbqxj9it}</td>\n",
       "    </tr>\n",
       "  </tbody>\n",
       "</table>\n",
       "</div>"
      ],
      "text/plain": [
       "         date  \\\n",
       "0  2011-12-01   \n",
       "\n",
       "                                                                                                                                                                                                                                                                      text  \\\n",
       "0  {I made the volume on the Model S  http://t.co/wMCnT53M go to 11.  Now I just need to work in a miniature Stonehenge..., Went to Iceland on Sat to ride bumper cars on ice!  No, not the country, Vlad's rink in Van Nuys. Awesome family fun :)  http://t.co/rBQXJ9IT}   \n",
       "\n",
       "                                                                                                                                                                                                  tokenized_text  \\\n",
       "0  [made, volume, model, http, co, wmcnt53m, go, need, work, miniature, stonehenge, went, iceland, sat, ride, bumper, cars, ice, no, country, vlad's, rink, van, nuys, awesome, family, fun, http, co, rbqxj9it]   \n",
       "\n",
       "   like_count  reply_count  retweet_count  \\\n",
       "0  267         63           24              \n",
       "\n",
       "                                                                                                                                                                                           preprocessed_text  \n",
       "0  {i made volume model http://t.co/wmcnt53m go 11. need work miniature stonehenge..., went iceland sat ride bumper cars ice! no, country, vlad's rink van nuys. awesome family fun :) http://t.co/rbqxj9it}  "
      ]
     },
     "execution_count": 41,
     "metadata": {},
     "output_type": "execute_result"
    }
   ],
   "source": [
    "df_tweets.head(1)"
   ]
  },
  {
   "cell_type": "code",
   "execution_count": 42,
   "id": "6cdd1a20",
   "metadata": {},
   "outputs": [],
   "source": [
    "def get_most_freq_words(str, n=None):\n",
    "    vect = CountVectorizer().fit(str)\n",
    "    bag_of_words = vect.transform(str)\n",
    "    sum_words = bag_of_words.sum(axis=0) \n",
    "    freq = [(word, sum_words[0, idx]) for word, idx in vect.vocabulary_.items()]\n",
    "    freq =sorted(freq, key = lambda x: x[1], reverse=True)\n",
    "    return freq[:n]"
   ]
  },
  {
   "cell_type": "code",
   "execution_count": 43,
   "id": "c8dc7cd1",
   "metadata": {},
   "outputs": [
    {
     "data": {
      "text/plain": [
       "[('co', 1834),\n",
       " ('https', 1421),\n",
       " ('tesla', 640),\n",
       " ('amp', 573),\n",
       " ('http', 412),\n",
       " ('model', 260),\n",
       " ('spacex', 245),\n",
       " ('good', 183),\n",
       " ('launch', 174),\n",
       " ('rocket', 166)]"
      ]
     },
     "execution_count": 43,
     "metadata": {},
     "output_type": "execute_result"
    }
   ],
   "source": [
    "get_most_freq_words([ word for tweet in df_tweets.tokenized_text for word in tweet],10)"
   ]
  },
  {
   "cell_type": "code",
   "execution_count": 44,
   "id": "cb9687eb",
   "metadata": {},
   "outputs": [],
   "source": [
    "## the function below takes the original tweets dataframe, the column containing the tweet text, the dictionary of stop words\n",
    "## it return a clean dataframe and a list of nb most frequent words, or all if None\n",
    "\n",
    "def clean_tweets(df=df_tweets_orig, \n",
    "                 tweet_col='text', \n",
    "                 date_col='date',\n",
    "                 stop_words=en_stop_words,\n",
    "                 nb=None):\n",
    "    \n",
    "    df_copy = df.copy()\n",
    "    \n",
    "    # drop rows with empty values\n",
    "    df_copy.dropna(inplace=True)\n",
    "    \n",
    "    \n",
    "    \n",
    "    # lower the tweets\n",
    "    df_copy['preprocessed_' + tweet_col] = df_copy[tweet_col].str.lower()\n",
    "    \n",
    "    # filter out stop words and URLs\n",
    "    url_re = '(https?:\\/\\/(?:www\\.|(?!www))[a-zA-Z0-9][a-zA-Z0-9-]+[a-zA-Z0-9]\\.[^\\s]{2,}|www\\.[a-zA-Z0-9][a-zA-Z0-9-]+[a-zA-Z0-9]\\.[^\\s]{2,}|https?:\\/\\/(?:www\\.|(?!www))[a-zA-Z0-9]+\\.[^\\s]{2,}|www\\.[a-zA-Z0-9]+\\.[^\\s]{2,})'        \n",
    "    df_copy['preprocessed_' + tweet_col] = df_copy['preprocessed_' + tweet_col].apply(lambda row: ' '.join([word for word in row.split() if (not word in stop_words) and (not re.match(url_re, word))]))\n",
    "    \n",
    "    # tokenize the tweets\n",
    "    tokenizer = RegexpTokenizer('[a-zA-Z]\\w+\\'?\\w*')\n",
    "    df_copy['tokenized_' + tweet_col] = df_copy['preprocessed_' + tweet_col].apply(lambda row: tokenizer.tokenize(row))\n",
    "    \n",
    "    # calculate word frequencies\n",
    "    word_freqs = get_most_freq_words([ word for tweet in df_copy['tokenized_' + tweet_col] for word in tweet],nb)\n",
    "    \n",
    "    return word_freqs, df_copy"
   ]
  },
  {
   "cell_type": "code",
   "execution_count": 45,
   "id": "15c9bedc",
   "metadata": {},
   "outputs": [],
   "source": [
    "extended_stop_words = en_stop_words | \\\n",
    "                      {\n",
    "                          'amp', 'rt', 'th','co', 're', 've', 'kim', 'daca', 'us', 'it', 'th', 'you', 'haha', 'st', 'et',\n",
    "                          'so', 'iii', 'also', 've', 'la', 're', 'the', 'https', 'wow', 'actually', 'due', 'ft', 'pcr', 'via',\n",
    "                          'am', 'gt', 'com', 'since', 'in', 'me', 'and', 'btw', 'yesterday', 'ii', 'inu', 'on', 'http', 'to', \n",
    "                          'vs', 'rd', 'ur', 'of', 'bs', 'km', 'est', 'em', 'lz', 'kms', 'aft', 'nd',  'here’s', 're',\n",
    "                          'mqxfakpzf' 'mph', 'ht', 'etc', 'dm'\n",
    "                      }"
   ]
  },
  {
   "cell_type": "code",
   "execution_count": 46,
   "id": "adbf32aa",
   "metadata": {},
   "outputs": [],
   "source": [
    "most_frequent_words, df_tweets_clean = clean_tweets(stop_words=extended_stop_words, nb=None)"
   ]
  },
  {
   "cell_type": "code",
   "execution_count": 47,
   "id": "d074035d",
   "metadata": {
    "scrolled": true
   },
   "outputs": [
    {
     "data": {
      "text/plain": [
       "[('tesla', 640),\n",
       " ('amp', 573),\n",
       " ('model', 260),\n",
       " ('spacex', 245),\n",
       " ('good', 183),\n",
       " ('launch', 174),\n",
       " ('rocket', 166),\n",
       " ('car', 163),\n",
       " ('falcon', 162),\n",
       " ('like', 151),\n",
       " ('time', 129),\n",
       " ('it', 127),\n",
       " ('first', 126),\n",
       " ('dragon', 118),\n",
       " ('great', 117)]"
      ]
     },
     "execution_count": 47,
     "metadata": {},
     "output_type": "execute_result"
    }
   ],
   "source": [
    "most_frequent_words[:15]"
   ]
  },
  {
   "cell_type": "code",
   "execution_count": 48,
   "id": "d978b848",
   "metadata": {
    "scrolled": true
   },
   "outputs": [
    {
     "data": {
      "text/html": [
       "<div>\n",
       "<style scoped>\n",
       "    .dataframe tbody tr th:only-of-type {\n",
       "        vertical-align: middle;\n",
       "    }\n",
       "\n",
       "    .dataframe tbody tr th {\n",
       "        vertical-align: top;\n",
       "    }\n",
       "\n",
       "    .dataframe thead th {\n",
       "        text-align: right;\n",
       "    }\n",
       "</style>\n",
       "<table border=\"1\" class=\"dataframe\">\n",
       "  <thead>\n",
       "    <tr style=\"text-align: right;\">\n",
       "      <th></th>\n",
       "      <th>date</th>\n",
       "      <th>text</th>\n",
       "      <th>tokenized_text</th>\n",
       "      <th>like_count</th>\n",
       "      <th>reply_count</th>\n",
       "      <th>retweet_count</th>\n",
       "      <th>preprocessed_text</th>\n",
       "    </tr>\n",
       "  </thead>\n",
       "  <tbody>\n",
       "    <tr>\n",
       "      <th>0</th>\n",
       "      <td>2011-12-01</td>\n",
       "      <td>{I made the volume on the Model S  http://t.co/wMCnT53M go to 11.  Now I just need to work in a miniature Stonehenge..., Went to Iceland on Sat to ride bumper cars on ice!  No, not the country, Vlad's rink in Van Nuys. Awesome family fun :)  http://t.co/rBQXJ9IT}</td>\n",
       "      <td>[made, volume, model, go, need, work, miniature, stonehenge, went, iceland, sat, ride, bumper, cars, ice, no, country, vlad's, rink, van, nuys, awesome, family, fun]</td>\n",
       "      <td>267</td>\n",
       "      <td>63</td>\n",
       "      <td>24</td>\n",
       "      <td>{i made volume model go 11. need work miniature stonehenge..., went iceland sat ride bumper cars ice! no, country, vlad's rink van nuys. awesome family fun :)</td>\n",
       "    </tr>\n",
       "    <tr>\n",
       "      <th>1</th>\n",
       "      <td>2011-12-03</td>\n",
       "      <td>{That was a total non sequitur btw, Great Voltaire quote, arguably better than Twain. Hearing news of his own death, Voltaire replied the reports were true, only premature.}</td>\n",
       "      <td>[that, total, non, sequitur, btw, great, voltaire, quote, arguably, better, twain, hearing, news, death, voltaire, replied, reports, true, premature]</td>\n",
       "      <td>82</td>\n",
       "      <td>38</td>\n",
       "      <td>31</td>\n",
       "      <td>{that total non sequitur btw, great voltaire quote, arguably better twain. hearing news death, voltaire replied reports true, premature.}</td>\n",
       "    </tr>\n",
       "    <tr>\n",
       "      <th>2</th>\n",
       "      <td>2011-12-04</td>\n",
       "      <td>{Am reading a great biography of Ben Franklin by Isaacson. Highly recommended.}</td>\n",
       "      <td>[am, reading, great, biography, ben, franklin, isaacson, highly, recommended]</td>\n",
       "      <td>65</td>\n",
       "      <td>17</td>\n",
       "      <td>9</td>\n",
       "      <td>{am reading great biography ben franklin isaacson. highly recommended.}</td>\n",
       "    </tr>\n",
       "    <tr>\n",
       "      <th>3</th>\n",
       "      <td>2011-12-21</td>\n",
       "      <td>{Yum! Even better than deep fried butter:  http://t.co/Ody21NuD, Yeah, this really is me, as my Mom @mayemusk will attest. Not sure I can handle just doing 140 char missives. Will put longer thoughts on G+, Got called randomly by Kanye West today and received a download of his thoughts, ranging from shoes to Moses. He was polite, but opaque., His singing and acting talent will be sorely missed:   http://t.co/IIFKob75 South Park sequel coming soon..., Why does the crowd cry over the glorious leader Kim Il Sung's death?  Fear of being shot may play a role:   http://t.co/hoQrYtG1, Sam Harris also wrote a nice piece on the awesomeness of Hitchens:  http://t.co/fPkLiK3v May the good man RIP., Read \"Lying\", the new book by my friend Sam Harris.  Excellent cover art and lots of good reasons not to lie!}</td>\n",
       "      <td>[yum, even, better, deep, fried, butter, yeah, really, me, mom, mayemusk, attest, sure, handle, char, missives, put, longer, thoughts, got, called, randomly, kanye, west, today, received, download, thoughts, ranging, shoes, moses, polite, opaque, singing, acting, talent, sorely, missed, south, park, sequel, coming, soon, crowd, cry, glorious, leader, il, sung's, death, fear, shot, may, play, role, sam, harris, wrote, nice, piece, awesomeness, hitchens, may, good, man, rip, read, lying, new, book, friend, sam, harris, excellent, cover, art, lots, good, reasons, lie]</td>\n",
       "      <td>1330</td>\n",
       "      <td>87</td>\n",
       "      <td>597</td>\n",
       "      <td>{yum! even better deep fried butter: yeah, really me, mom @mayemusk attest. sure handle 140 char missives. put longer thoughts g+, got called randomly kanye west today received download thoughts, ranging shoes moses. polite, opaque., singing acting talent sorely missed: south park sequel coming soon..., crowd cry glorious leader il sung's death? fear shot may play role: sam harris wrote nice piece awesomeness hitchens: may good man rip., read \"lying\", new book friend sam harris. excellent cover art lots good reasons lie!}</td>\n",
       "    </tr>\n",
       "    <tr>\n",
       "      <th>4</th>\n",
       "      <td>2011-12-22</td>\n",
       "      <td>{Model S options are out! Performance in red and black for me.  I will deliver my car in June/July.  http://t.co/acnyP4nh, Hi, I'm Art Garfunkel. Have you heard the sound of silence? Because, you know, it makes a sound...  http://t.co/7vgya9xL, Raul Campos invited me to do a guest DJ gig on KCRW.  Hear my random holiday season music selections at  http://t.co/o6FQASvC}</td>\n",
       "      <td>[model, options, out, performance, red, black, me, deliver, car, june, july, hi, art, garfunkel, heard, sound, silence, because, know, makes, sound, raul, campos, invited, guest, dj, gig, kcrw, hear, random, holiday, season, music, selections]</td>\n",
       "      <td>1349</td>\n",
       "      <td>132</td>\n",
       "      <td>206</td>\n",
       "      <td>{model options out! performance red black me. deliver car june/july. hi, i'm art garfunkel. heard sound silence? because, know, makes sound... raul campos invited guest dj gig kcrw. hear random holiday season music selections</td>\n",
       "    </tr>\n",
       "  </tbody>\n",
       "</table>\n",
       "</div>"
      ],
      "text/plain": [
       "         date  \\\n",
       "0  2011-12-01   \n",
       "1  2011-12-03   \n",
       "2  2011-12-04   \n",
       "3  2011-12-21   \n",
       "4  2011-12-22   \n",
       "\n",
       "                                                                                                                                                                                                                                                                                                                                                                                                                                                                                                                                                                                                                                                                                                                                                                                                                                      text  \\\n",
       "0  {I made the volume on the Model S  http://t.co/wMCnT53M go to 11.  Now I just need to work in a miniature Stonehenge..., Went to Iceland on Sat to ride bumper cars on ice!  No, not the country, Vlad's rink in Van Nuys. Awesome family fun :)  http://t.co/rBQXJ9IT}                                                                                                                                                                                                                                                                                                                                                                                                                                                                                                                                                                   \n",
       "1  {That was a total non sequitur btw, Great Voltaire quote, arguably better than Twain. Hearing news of his own death, Voltaire replied the reports were true, only premature.}                                                                                                                                                                                                                                                                                                                                                                                                                                                                                                                                                                                                                                                             \n",
       "2  {Am reading a great biography of Ben Franklin by Isaacson. Highly recommended.}                                                                                                                                                                                                                                                                                                                                                                                                                                                                                                                                                                                                                                                                                                                                                           \n",
       "3  {Yum! Even better than deep fried butter:  http://t.co/Ody21NuD, Yeah, this really is me, as my Mom @mayemusk will attest. Not sure I can handle just doing 140 char missives. Will put longer thoughts on G+, Got called randomly by Kanye West today and received a download of his thoughts, ranging from shoes to Moses. He was polite, but opaque., His singing and acting talent will be sorely missed:   http://t.co/IIFKob75 South Park sequel coming soon..., Why does the crowd cry over the glorious leader Kim Il Sung's death?  Fear of being shot may play a role:   http://t.co/hoQrYtG1, Sam Harris also wrote a nice piece on the awesomeness of Hitchens:  http://t.co/fPkLiK3v May the good man RIP., Read \"Lying\", the new book by my friend Sam Harris.  Excellent cover art and lots of good reasons not to lie!}   \n",
       "4  {Model S options are out! Performance in red and black for me.  I will deliver my car in June/July.  http://t.co/acnyP4nh, Hi, I'm Art Garfunkel. Have you heard the sound of silence? Because, you know, it makes a sound...  http://t.co/7vgya9xL, Raul Campos invited me to do a guest DJ gig on KCRW.  Hear my random holiday season music selections at  http://t.co/o6FQASvC}                                                                                                                                                                                                                                                                                                                                                                                                                                                       \n",
       "\n",
       "                                                                                                                                                                                                                                                                                                                                                                                                                                                                                                                                                                                tokenized_text  \\\n",
       "0  [made, volume, model, go, need, work, miniature, stonehenge, went, iceland, sat, ride, bumper, cars, ice, no, country, vlad's, rink, van, nuys, awesome, family, fun]                                                                                                                                                                                                                                                                                                                                                                                                                         \n",
       "1  [that, total, non, sequitur, btw, great, voltaire, quote, arguably, better, twain, hearing, news, death, voltaire, replied, reports, true, premature]                                                                                                                                                                                                                                                                                                                                                                                                                                         \n",
       "2  [am, reading, great, biography, ben, franklin, isaacson, highly, recommended]                                                                                                                                                                                                                                                                                                                                                                                                                                                                                                                 \n",
       "3  [yum, even, better, deep, fried, butter, yeah, really, me, mom, mayemusk, attest, sure, handle, char, missives, put, longer, thoughts, got, called, randomly, kanye, west, today, received, download, thoughts, ranging, shoes, moses, polite, opaque, singing, acting, talent, sorely, missed, south, park, sequel, coming, soon, crowd, cry, glorious, leader, il, sung's, death, fear, shot, may, play, role, sam, harris, wrote, nice, piece, awesomeness, hitchens, may, good, man, rip, read, lying, new, book, friend, sam, harris, excellent, cover, art, lots, good, reasons, lie]   \n",
       "4  [model, options, out, performance, red, black, me, deliver, car, june, july, hi, art, garfunkel, heard, sound, silence, because, know, makes, sound, raul, campos, invited, guest, dj, gig, kcrw, hear, random, holiday, season, music, selections]                                                                                                                                                                                                                                                                                                                                           \n",
       "\n",
       "   like_count  reply_count  retweet_count  \\\n",
       "0  267         63           24              \n",
       "1  82          38           31              \n",
       "2  65          17           9               \n",
       "3  1330        87           597             \n",
       "4  1349        132          206             \n",
       "\n",
       "                                                                                                                                                                                                                                                                                                                                                                                                                                                                                                                                 preprocessed_text  \n",
       "0  {i made volume model go 11. need work miniature stonehenge..., went iceland sat ride bumper cars ice! no, country, vlad's rink van nuys. awesome family fun :)                                                                                                                                                                                                                                                                                                                                                                                   \n",
       "1  {that total non sequitur btw, great voltaire quote, arguably better twain. hearing news death, voltaire replied reports true, premature.}                                                                                                                                                                                                                                                                                                                                                                                                        \n",
       "2  {am reading great biography ben franklin isaacson. highly recommended.}                                                                                                                                                                                                                                                                                                                                                                                                                                                                          \n",
       "3  {yum! even better deep fried butter: yeah, really me, mom @mayemusk attest. sure handle 140 char missives. put longer thoughts g+, got called randomly kanye west today received download thoughts, ranging shoes moses. polite, opaque., singing acting talent sorely missed: south park sequel coming soon..., crowd cry glorious leader il sung's death? fear shot may play role: sam harris wrote nice piece awesomeness hitchens: may good man rip., read \"lying\", new book friend sam harris. excellent cover art lots good reasons lie!}  \n",
       "4  {model options out! performance red black me. deliver car june/july. hi, i'm art garfunkel. heard sound silence? because, know, makes sound... raul campos invited guest dj gig kcrw. hear random holiday season music selections                                                                                                                                                                                                                                                                                                                "
      ]
     },
     "execution_count": 48,
     "metadata": {},
     "output_type": "execute_result"
    }
   ],
   "source": [
    "df_tweets_clean.head()"
   ]
  },
  {
   "cell_type": "markdown",
   "id": "65b9e1e2",
   "metadata": {},
   "source": [
    "Latent Dirichlet Allocation is the probabilistic transformation of a bag-of-words count into a lower-dimensional topic space. Tweets are viewed as a subject distribution. The distribution of all the terms in the vocabulary, in turn, represents topics. However, we don't know how many subjects are in the corpus or how many tweets each topic contains. With LDA, we wish to approach the topic assignment of tweets as a random variable that is estimated from the available data."
   ]
  },
  {
   "cell_type": "code",
   "execution_count": 49,
   "id": "01bcd075",
   "metadata": {},
   "outputs": [],
   "source": [
    "tweets_dictionary = Dictionary(df_tweets_clean.tokenized_text)"
   ]
  },
  {
   "cell_type": "code",
   "execution_count": 50,
   "id": "bab42185",
   "metadata": {},
   "outputs": [
    {
     "name": "stdout",
     "output_type": "stream",
     "text": [
      "We have 1719 tweets and 8447 words in the dictionary.\n"
     ]
    }
   ],
   "source": [
    "print(\"We have {} tweets and {} words in the dictionary.\".format(df_tweets_clean.shape[0],len(tweets_dictionary)))"
   ]
  },
  {
   "cell_type": "code",
   "execution_count": 51,
   "id": "15914788",
   "metadata": {},
   "outputs": [],
   "source": [
    "tweets_corpus = [tweets_dictionary.doc2bow(tweet) for tweet in df_tweets_clean.tokenized_text]"
   ]
  },
  {
   "cell_type": "markdown",
   "id": "59047d5b",
   "metadata": {},
   "source": [
    "It's an art to find the correct number of themes for LDA. Perplexity techniques are frequently preferred over Topic Coherence procedures. With coherence, we measure the degree of semantic similarity between a topic's high-scoring words to determine its coherence. As a result, more human-interpretable subjects emerge. The method chooses the most commonly used words in each topic. To determine the coherence score for a given topic, it computes and aggregates the pairwise scores (UMass) for each of the words."
   ]
  },
  {
   "cell_type": "code",
   "execution_count": 52,
   "id": "4a3a690d",
   "metadata": {},
   "outputs": [
    {
     "name": "stdout",
     "output_type": "stream",
     "text": [
      "1 -2.4369486138563357\n",
      "2 -2.5532795684645517\n",
      "3 -2.6834662295711915\n",
      "4 -2.7883540609594677\n",
      "5 -2.7063743527314243\n",
      "6 -2.9395372007589464\n",
      "7 -2.909694577636242\n",
      "8 -3.086517632191979\n",
      "9 -3.484780177770087\n",
      "10 -3.357041594330903\n",
      "11 -3.6104621550092233\n",
      "12 -3.8309132699236677\n",
      "13 -3.3660304762635977\n",
      "14 -3.7339409879035927\n",
      "15 -3.7999679532703294\n",
      "16 -4.052592946006019\n",
      "17 -3.788669063518686\n",
      "18 -3.8921583061099088\n",
      "19 -4.175794448233874\n",
      "20 -4.016829136928655\n",
      "21 -4.061789698922613\n",
      "22 -4.078154184079357\n",
      "23 -4.261478384650918\n",
      "24 -4.412307565049935\n",
      "25 -4.689832184911197\n",
      "26 -4.414340667089929\n",
      "27 -4.087322105586177\n",
      "28 -4.666035480570371\n",
      "29 -4.746514452862188\n",
      "30 -4.846546703492\n",
      "31 -4.743185373008594\n",
      "32 -5.093487132647342\n",
      "33 -5.114386601046775\n",
      "34 -4.890762397785176\n",
      "35 -5.319477741639026\n"
     ]
    }
   ],
   "source": [
    "tweets_coherence = []\n",
    "for nb_topics in range(1,36):\n",
    "    lda = LdaModel(tweets_corpus, num_topics = nb_topics, id2word = tweets_dictionary, passes=10)\n",
    "    cohm = CoherenceModel(model=lda, corpus=tweets_corpus, dictionary=tweets_dictionary, coherence='u_mass')\n",
    "    coh = cohm.get_coherence()\n",
    "    tweets_coherence.append(coh)\n",
    "    print(nb_topics,coh)"
   ]
  },
  {
   "cell_type": "markdown",
   "id": "54deb425",
   "metadata": {},
   "source": [
    "We visualize the average coherence score per topic for a range of models trained with a different number of topics below. The number of topics for which the average score plateaus, is the sweet spot we are looking for. So our best guess for the number of topics is around 22. We should consider that, typically a corpus with very short documents (tweets in our case) tends to be more difficult to apply to coherent models than a corpus with longer documents."
   ]
  },
  {
   "cell_type": "code",
   "execution_count": 53,
   "id": "bdd194f9",
   "metadata": {},
   "outputs": [
    {
     "data": {
      "image/png": "[encoded data removed]",
      "text/plain": [
       "<Figure size 720x360 with 1 Axes>"
      ]
     },
     "metadata": {
      "needs_background": "light"
     },
     "output_type": "display_data"
    }
   ],
   "source": [
    "plt.figure(figsize=(10,5))\n",
    "plt.plot(range(1,36),tweets_coherence)\n",
    "plt.xlabel(\"Number of Topics\")\n",
    "plt.ylabel(\"Coherence Score\");"
   ]
  },
  {
   "cell_type": "markdown",
   "id": "eaf0a149",
   "metadata": {},
   "source": [
    "**Run LDA on the texts using the optimal value of $k$ found via the analysis above. Print out the top 10 words and associated betas for each of the $k$ topics. Comment on the results and their plausibility.**"
   ]
  },
  {
   "cell_type": "code",
   "execution_count": 54,
   "id": "f16e837f",
   "metadata": {},
   "outputs": [],
   "source": [
    "k = 22\n",
    "tweets_lda = LdaModel(tweets_corpus, num_topics = k, id2word = tweets_dictionary, passes=10)"
   ]
  },
  {
   "cell_type": "code",
   "execution_count": 55,
   "id": "18eedc5b",
   "metadata": {},
   "outputs": [],
   "source": [
    "def plot_top_words(lda=tweets_lda, nb_topics=k, nb_words=10):\n",
    "    top_words = [[word for word,_ in lda.show_topic(topic_id, topn=50)] for topic_id in range(lda.num_topics)]\n",
    "    top_betas = [[beta for _,beta in lda.show_topic(topic_id, topn=50)] for topic_id in range(lda.num_topics)]\n",
    "\n",
    "    gs  = gridspec.GridSpec(round(math.sqrt(k))+1,round(math.sqrt(k))+1)\n",
    "    gs.update(wspace=0.5, hspace=0.5)\n",
    "    plt.figure(figsize=(20,15))\n",
    "    for i in range(nb_topics):\n",
    "        ax = plt.subplot(gs[i])\n",
    "        plt.barh(range(nb_words), top_betas[i][:nb_words], align='center',color='blue', ecolor='black')\n",
    "        ax.invert_yaxis()\n",
    "        ax.set_yticks(range(nb_words))\n",
    "        ax.set_yticklabels(top_words[i][:nb_words])\n",
    "        plt.title(\"Topic \"+str(i))"
   ]
  },
  {
   "cell_type": "code",
   "execution_count": 56,
   "id": "1d252e36",
   "metadata": {},
   "outputs": [
    {
     "data": {
      "image/png": "[encoded data removed]",
      "text/plain": [
       "<Figure size 1440x1080 with 22 Axes>"
      ]
     },
     "metadata": {
      "needs_background": "light"
     },
     "output_type": "display_data"
    }
   ],
   "source": [
    "plot_top_words()"
   ]
  },
  {
   "cell_type": "markdown",
   "id": "aae73847",
   "metadata": {},
   "source": [
    "The topics do not make totally sense. However we can see the following meaningful match:\n",
    "\n",
    "Topic 1 - tesla\n",
    "\n",
    "Topic 5, - spaceX\n",
    "\n",
    "etc"
   ]
  },
  {
   "cell_type": "code",
   "execution_count": null,
   "id": "73d6c209",
   "metadata": {},
   "outputs": [],
   "source": []
  },
  {
   "cell_type": "code",
   "execution_count": null,
   "id": "0ac8ebd9",
   "metadata": {},
   "outputs": [],
   "source": []
  }
 ],
 "metadata": {
  "kernelspec": {
   "display_name": "mlenv",
   "language": "python",
   "name": "mlenv"
  },
  "language_info": {
   "codemirror_mode": {
    "name": "ipython",
    "version": 3
   },
   "file_extension": ".py",
   "mimetype": "text/x-python",
   "name": "python",
   "nbconvert_exporter": "python",
   "pygments_lexer": "ipython3",
   "version": "3.7.10"
  }
 },
 "nbformat": 4,
 "nbformat_minor": 5
}
