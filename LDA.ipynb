{
 "cells": [
  {
   "cell_type": "code",
   "execution_count": 71,
   "id": "ccfa446f",
   "metadata": {},
   "outputs": [
    {
     "data": {
      "text/html": [
       "<div>\n",
       "<style scoped>\n",
       "    .dataframe tbody tr th:only-of-type {\n",
       "        vertical-align: middle;\n",
       "    }\n",
       "\n",
       "    .dataframe tbody tr th {\n",
       "        vertical-align: top;\n",
       "    }\n",
       "\n",
       "    .dataframe thead th {\n",
       "        text-align: right;\n",
       "    }\n",
       "</style>\n",
       "<table border=\"1\" class=\"dataframe\">\n",
       "  <thead>\n",
       "    <tr style=\"text-align: right;\">\n",
       "      <th></th>\n",
       "      <th>date</th>\n",
       "      <th>like_count</th>\n",
       "      <th>reply_count</th>\n",
       "      <th>retweet_count</th>\n",
       "      <th>text</th>\n",
       "    </tr>\n",
       "  </thead>\n",
       "  <tbody>\n",
       "    <tr>\n",
       "      <th>0</th>\n",
       "      <td>2011-12-01</td>\n",
       "      <td>267</td>\n",
       "      <td>63</td>\n",
       "      <td>24</td>\n",
       "      <td>{I made the volume on the Model S  http://t.co/wMCnT53M go to 11.  Now I just need to work in a miniature Stonehenge..., Went to Iceland on Sat to ride bumper cars on ice!  No, not the country, Vlad's rink in Van Nuys. Awesome family fun :)  http://t.co/rBQXJ9IT}</td>\n",
       "    </tr>\n",
       "    <tr>\n",
       "      <th>1</th>\n",
       "      <td>2011-12-03</td>\n",
       "      <td>82</td>\n",
       "      <td>38</td>\n",
       "      <td>31</td>\n",
       "      <td>{That was a total non sequitur btw, Great Voltaire quote, arguably better than Twain. Hearing news of his own death, Voltaire replied the reports were true, only premature.}</td>\n",
       "    </tr>\n",
       "    <tr>\n",
       "      <th>2</th>\n",
       "      <td>2011-12-04</td>\n",
       "      <td>65</td>\n",
       "      <td>17</td>\n",
       "      <td>9</td>\n",
       "      <td>{Am reading a great biography of Ben Franklin by Isaacson. Highly recommended.}</td>\n",
       "    </tr>\n",
       "    <tr>\n",
       "      <th>3</th>\n",
       "      <td>2011-12-21</td>\n",
       "      <td>1330</td>\n",
       "      <td>87</td>\n",
       "      <td>597</td>\n",
       "      <td>{Yum! Even better than deep fried butter:  http://t.co/Ody21NuD, Yeah, this really is me, as my Mom @mayemusk will attest. Not sure I can handle just doing 140 char missives. Will put longer thoughts on G+, Got called randomly by Kanye West today and received a download of his thoughts, ranging from shoes to Moses. He was polite, but opaque., His singing and acting talent will be sorely missed:   http://t.co/IIFKob75 South Park sequel coming soon..., Why does the crowd cry over the glorious leader Kim Il Sung's death?  Fear of being shot may play a role:   http://t.co/hoQrYtG1, Sam Harris also wrote a nice piece on the awesomeness of Hitchens:  http://t.co/fPkLiK3v May the good man RIP., Read \"Lying\", the new book by my friend Sam Harris.  Excellent cover art and lots of good reasons not to lie!}</td>\n",
       "    </tr>\n",
       "    <tr>\n",
       "      <th>4</th>\n",
       "      <td>2011-12-22</td>\n",
       "      <td>1349</td>\n",
       "      <td>132</td>\n",
       "      <td>206</td>\n",
       "      <td>{Model S options are out! Performance in red and black for me.  I will deliver my car in June/July.  http://t.co/acnyP4nh, Hi, I'm Art Garfunkel. Have you heard the sound of silence? Because, you know, it makes a sound...  http://t.co/7vgya9xL, Raul Campos invited me to do a guest DJ gig on KCRW.  Hear my random holiday season music selections at  http://t.co/o6FQASvC}</td>\n",
       "    </tr>\n",
       "  </tbody>\n",
       "</table>\n",
       "</div>"
      ],
      "text/plain": [
       "         date  like_count  reply_count  retweet_count  \\\n",
       "0  2011-12-01  267         63           24              \n",
       "1  2011-12-03  82          38           31              \n",
       "2  2011-12-04  65          17           9               \n",
       "3  2011-12-21  1330        87           597             \n",
       "4  2011-12-22  1349        132          206             \n",
       "\n",
       "                                                                                                                                                                                                                                                                                                                                                                                                                                                                                                                                                                                                                                                                                                                                                                                                                                      text  \n",
       "0  {I made the volume on the Model S  http://t.co/wMCnT53M go to 11.  Now I just need to work in a miniature Stonehenge..., Went to Iceland on Sat to ride bumper cars on ice!  No, not the country, Vlad's rink in Van Nuys. Awesome family fun :)  http://t.co/rBQXJ9IT}                                                                                                                                                                                                                                                                                                                                                                                                                                                                                                                                                                  \n",
       "1  {That was a total non sequitur btw, Great Voltaire quote, arguably better than Twain. Hearing news of his own death, Voltaire replied the reports were true, only premature.}                                                                                                                                                                                                                                                                                                                                                                                                                                                                                                                                                                                                                                                            \n",
       "2  {Am reading a great biography of Ben Franklin by Isaacson. Highly recommended.}                                                                                                                                                                                                                                                                                                                                                                                                                                                                                                                                                                                                                                                                                                                                                          \n",
       "3  {Yum! Even better than deep fried butter:  http://t.co/Ody21NuD, Yeah, this really is me, as my Mom @mayemusk will attest. Not sure I can handle just doing 140 char missives. Will put longer thoughts on G+, Got called randomly by Kanye West today and received a download of his thoughts, ranging from shoes to Moses. He was polite, but opaque., His singing and acting talent will be sorely missed:   http://t.co/IIFKob75 South Park sequel coming soon..., Why does the crowd cry over the glorious leader Kim Il Sung's death?  Fear of being shot may play a role:   http://t.co/hoQrYtG1, Sam Harris also wrote a nice piece on the awesomeness of Hitchens:  http://t.co/fPkLiK3v May the good man RIP., Read \"Lying\", the new book by my friend Sam Harris.  Excellent cover art and lots of good reasons not to lie!}  \n",
       "4  {Model S options are out! Performance in red and black for me.  I will deliver my car in June/July.  http://t.co/acnyP4nh, Hi, I'm Art Garfunkel. Have you heard the sound of silence? Because, you know, it makes a sound...  http://t.co/7vgya9xL, Raul Campos invited me to do a guest DJ gig on KCRW.  Hear my random holiday season music selections at  http://t.co/o6FQASvC}                                                                                                                                                                                                                                                                                                                                                                                                                                                      "
      ]
     },
     "execution_count": 71,
     "metadata": {},
     "output_type": "execute_result"
    }
   ],
   "source": [
    "# Load to the data\n",
    "import pandas as pd\n",
    "df_tweets = pd.read_csv('data/tweets_data_lda.csv')\n",
    "df_tweets.head()"
   ]
  },
  {
   "cell_type": "markdown",
   "id": "db883f15",
   "metadata": {},
   "source": [
    "## Data Pre-processing\n",
    "**Preprocess the data by making it all lowercase. Remove a reasonable set of stopwords from the dataset and tokenize. Then, report the 10 most common words and their count. We need to iterate this process, adding some stop words as we understand the structure of the data. Justify additional stop words we've added.**"
   ]
  },
  {
   "cell_type": "code",
   "execution_count": 72,
   "id": "20561c04",
   "metadata": {},
   "outputs": [
    {
     "name": "stderr",
     "output_type": "stream",
     "text": [
      "[nltk_data] Downloading package stopwords to\n",
      "[nltk_data]     C:\\Users\\zkirsan\\AppData\\Roaming\\nltk_data...\n",
      "[nltk_data]   Package stopwords is already up-to-date!\n"
     ]
    },
    {
     "data": {
      "text/html": [
       "<div>\n",
       "<style scoped>\n",
       "    .dataframe tbody tr th:only-of-type {\n",
       "        vertical-align: middle;\n",
       "    }\n",
       "\n",
       "    .dataframe tbody tr th {\n",
       "        vertical-align: top;\n",
       "    }\n",
       "\n",
       "    .dataframe thead th {\n",
       "        text-align: right;\n",
       "    }\n",
       "</style>\n",
       "<table border=\"1\" class=\"dataframe\">\n",
       "  <thead>\n",
       "    <tr style=\"text-align: right;\">\n",
       "      <th></th>\n",
       "      <th>date</th>\n",
       "      <th>like_count</th>\n",
       "      <th>reply_count</th>\n",
       "      <th>retweet_count</th>\n",
       "      <th>text</th>\n",
       "      <th>preprocessed_text</th>\n",
       "      <th>tokenized_text</th>\n",
       "    </tr>\n",
       "  </thead>\n",
       "  <tbody>\n",
       "    <tr>\n",
       "      <th>0</th>\n",
       "      <td>2011-12-01</td>\n",
       "      <td>267</td>\n",
       "      <td>63</td>\n",
       "      <td>24</td>\n",
       "      <td>{I made the volume on the Model S  http://t.co/wMCnT53M go to 11.  Now I just need to work in a miniature Stonehenge..., Went to Iceland on Sat to ride bumper cars on ice!  No, not the country, Vlad's rink in Van Nuys. Awesome family fun :)  http://t.co/rBQXJ9IT}</td>\n",
       "      <td>{i made the volume on the model s go to 11. now i just need to work in a miniature stonehenge..., went to iceland on sat to ride bumper cars on ice! no, not the country, vlad rink in van nuys. awesome family fun :)</td>\n",
       "      <td>[made, volume, model, go, need, work, miniature, stonehenge, went, iceland, sat, ride, bumper, cars, ice, country, vlad, rink, van, nuys, awesome, family, fun]</td>\n",
       "    </tr>\n",
       "    <tr>\n",
       "      <th>1</th>\n",
       "      <td>2011-12-03</td>\n",
       "      <td>82</td>\n",
       "      <td>38</td>\n",
       "      <td>31</td>\n",
       "      <td>{That was a total non sequitur btw, Great Voltaire quote, arguably better than Twain. Hearing news of his own death, Voltaire replied the reports were true, only premature.}</td>\n",
       "      <td>{that was a total non sequitur btw, great voltaire quote, arguably better than twain. hearing news of his own death, voltaire replied the reports were true, only premature.}</td>\n",
       "      <td>[total, non, sequitur, great, voltaire, quote, arguably, better, twain, hearing, news, death, voltaire, replied, reports, true, premature]</td>\n",
       "    </tr>\n",
       "    <tr>\n",
       "      <th>2</th>\n",
       "      <td>2011-12-04</td>\n",
       "      <td>65</td>\n",
       "      <td>17</td>\n",
       "      <td>9</td>\n",
       "      <td>{Am reading a great biography of Ben Franklin by Isaacson. Highly recommended.}</td>\n",
       "      <td>{am reading a great biography of ben franklin by isaacson. highly recommended.}</td>\n",
       "      <td>[reading, great, biography, ben, franklin, isaacson, highly, recommended]</td>\n",
       "    </tr>\n",
       "    <tr>\n",
       "      <th>3</th>\n",
       "      <td>2011-12-21</td>\n",
       "      <td>1330</td>\n",
       "      <td>87</td>\n",
       "      <td>597</td>\n",
       "      <td>{Yum! Even better than deep fried butter:  http://t.co/Ody21NuD, Yeah, this really is me, as my Mom @mayemusk will attest. Not sure I can handle just doing 140 char missives. Will put longer thoughts on G+, Got called randomly by Kanye West today and received a download of his thoughts, ranging from shoes to Moses. He was polite, but opaque., His singing and acting talent will be sorely missed:   http://t.co/IIFKob75 South Park sequel coming soon..., Why does the crowd cry over the glorious leader Kim Il Sung's death?  Fear of being shot may play a role:   http://t.co/hoQrYtG1, Sam Harris also wrote a nice piece on the awesomeness of Hitchens:  http://t.co/fPkLiK3v May the good man RIP., Read \"Lying\", the new book by my friend Sam Harris.  Excellent cover art and lots of good reasons not to lie!}</td>\n",
       "      <td>{yum! even better than deep fried butter: yeah, this really is me, as my mom @mayemusk will attest. not sure i can handle just doing 140 char missives. will put longer thoughts on g+, got called randomly by kanye west today and received a download of his thoughts, ranging from shoes to moses. he was polite, but opaque., his singing and acting talent will be sorely missed: south park sequel coming soon..., why does the crowd cry over the glorious leader kim il sung fear of being shot may play a role: sam harris also wrote a nice piece on the awesomeness of hitchens: may the good man rip., read \"lying\", the new book by my friend sam harris. excellent cover art and lots of good reasons not to lie!}</td>\n",
       "      <td>[yum, even, better, deep, fried, butter, yeah, really, mom, mayemusk, attest, sure, handle, char, missives, put, longer, thoughts, got, called, randomly, kanye, west, today, received, download, thoughts, ranging, shoes, moses, polite, opaque, singing, acting, talent, sorely, missed, south, park, sequel, coming, soon, crowd, cry, glorious, leader, il, sung, fear, shot, may, play, role, sam, harris, wrote, nice, piece, awesomeness, hitchens, may, good, man, rip, read, lying, new, book, friend, sam, harris, excellent, cover, art, lots, good, reasons, lie]</td>\n",
       "    </tr>\n",
       "    <tr>\n",
       "      <th>4</th>\n",
       "      <td>2011-12-22</td>\n",
       "      <td>1349</td>\n",
       "      <td>132</td>\n",
       "      <td>206</td>\n",
       "      <td>{Model S options are out! Performance in red and black for me.  I will deliver my car in June/July.  http://t.co/acnyP4nh, Hi, I'm Art Garfunkel. Have you heard the sound of silence? Because, you know, it makes a sound...  http://t.co/7vgya9xL, Raul Campos invited me to do a guest DJ gig on KCRW.  Hear my random holiday season music selections at  http://t.co/o6FQASvC}</td>\n",
       "      <td>{model s options are out! performance in red and black for me. i will deliver my car in hi, i art garfunkel. have you heard the sound of because, you know, it makes a sound... raul campos invited me to do a guest dj gig on kcrw. hear my random holiday season music selections at</td>\n",
       "      <td>[model, options, performance, red, black, deliver, car, hi, art, garfunkel, heard, sound, know, makes, sound, raul, campos, invited, guest, dj, gig, kcrw, hear, random, holiday, season, music, selections]</td>\n",
       "    </tr>\n",
       "  </tbody>\n",
       "</table>\n",
       "</div>"
      ],
      "text/plain": [
       "         date  like_count  reply_count  retweet_count  \\\n",
       "0  2011-12-01  267         63           24              \n",
       "1  2011-12-03  82          38           31              \n",
       "2  2011-12-04  65          17           9               \n",
       "3  2011-12-21  1330        87           597             \n",
       "4  2011-12-22  1349        132          206             \n",
       "\n",
       "                                                                                                                                                                                                                                                                                                                                                                                                                                                                                                                                                                                                                                                                                                                                                                                                                                      text  \\\n",
       "0  {I made the volume on the Model S  http://t.co/wMCnT53M go to 11.  Now I just need to work in a miniature Stonehenge..., Went to Iceland on Sat to ride bumper cars on ice!  No, not the country, Vlad's rink in Van Nuys. Awesome family fun :)  http://t.co/rBQXJ9IT}                                                                                                                                                                                                                                                                                                                                                                                                                                                                                                                                                                   \n",
       "1  {That was a total non sequitur btw, Great Voltaire quote, arguably better than Twain. Hearing news of his own death, Voltaire replied the reports were true, only premature.}                                                                                                                                                                                                                                                                                                                                                                                                                                                                                                                                                                                                                                                             \n",
       "2  {Am reading a great biography of Ben Franklin by Isaacson. Highly recommended.}                                                                                                                                                                                                                                                                                                                                                                                                                                                                                                                                                                                                                                                                                                                                                           \n",
       "3  {Yum! Even better than deep fried butter:  http://t.co/Ody21NuD, Yeah, this really is me, as my Mom @mayemusk will attest. Not sure I can handle just doing 140 char missives. Will put longer thoughts on G+, Got called randomly by Kanye West today and received a download of his thoughts, ranging from shoes to Moses. He was polite, but opaque., His singing and acting talent will be sorely missed:   http://t.co/IIFKob75 South Park sequel coming soon..., Why does the crowd cry over the glorious leader Kim Il Sung's death?  Fear of being shot may play a role:   http://t.co/hoQrYtG1, Sam Harris also wrote a nice piece on the awesomeness of Hitchens:  http://t.co/fPkLiK3v May the good man RIP., Read \"Lying\", the new book by my friend Sam Harris.  Excellent cover art and lots of good reasons not to lie!}   \n",
       "4  {Model S options are out! Performance in red and black for me.  I will deliver my car in June/July.  http://t.co/acnyP4nh, Hi, I'm Art Garfunkel. Have you heard the sound of silence? Because, you know, it makes a sound...  http://t.co/7vgya9xL, Raul Campos invited me to do a guest DJ gig on KCRW.  Hear my random holiday season music selections at  http://t.co/o6FQASvC}                                                                                                                                                                                                                                                                                                                                                                                                                                                       \n",
       "\n",
       "                                                                                                                                                                                                                                                                                                                                                                                                                                                                                                                                                                                                                                                                                                                  preprocessed_text  \\\n",
       "0  {i made the volume on the model s go to 11. now i just need to work in a miniature stonehenge..., went to iceland on sat to ride bumper cars on ice! no, not the country, vlad rink in van nuys. awesome family fun :)                                                                                                                                                                                                                                                                                                                                                                                                                                                                                                             \n",
       "1  {that was a total non sequitur btw, great voltaire quote, arguably better than twain. hearing news of his own death, voltaire replied the reports were true, only premature.}                                                                                                                                                                                                                                                                                                                                                                                                                                                                                                                                                      \n",
       "2  {am reading a great biography of ben franklin by isaacson. highly recommended.}                                                                                                                                                                                                                                                                                                                                                                                                                                                                                                                                                                                                                                                    \n",
       "3  {yum! even better than deep fried butter: yeah, this really is me, as my mom @mayemusk will attest. not sure i can handle just doing 140 char missives. will put longer thoughts on g+, got called randomly by kanye west today and received a download of his thoughts, ranging from shoes to moses. he was polite, but opaque., his singing and acting talent will be sorely missed: south park sequel coming soon..., why does the crowd cry over the glorious leader kim il sung fear of being shot may play a role: sam harris also wrote a nice piece on the awesomeness of hitchens: may the good man rip., read \"lying\", the new book by my friend sam harris. excellent cover art and lots of good reasons not to lie!}   \n",
       "4  {model s options are out! performance in red and black for me. i will deliver my car in hi, i art garfunkel. have you heard the sound of because, you know, it makes a sound... raul campos invited me to do a guest dj gig on kcrw. hear my random holiday season music selections at                                                                                                                                                                                                                                                                                                                                                                                                                                             \n",
       "\n",
       "                                                                                                                                                                                                                                                                                                                                                                                                                                                                                                                                                                   tokenized_text  \n",
       "0  [made, volume, model, go, need, work, miniature, stonehenge, went, iceland, sat, ride, bumper, cars, ice, country, vlad, rink, van, nuys, awesome, family, fun]                                                                                                                                                                                                                                                                                                                                                                                                                 \n",
       "1  [total, non, sequitur, great, voltaire, quote, arguably, better, twain, hearing, news, death, voltaire, replied, reports, true, premature]                                                                                                                                                                                                                                                                                                                                                                                                                                      \n",
       "2  [reading, great, biography, ben, franklin, isaacson, highly, recommended]                                                                                                                                                                                                                                                                                                                                                                                                                                                                                                       \n",
       "3  [yum, even, better, deep, fried, butter, yeah, really, mom, mayemusk, attest, sure, handle, char, missives, put, longer, thoughts, got, called, randomly, kanye, west, today, received, download, thoughts, ranging, shoes, moses, polite, opaque, singing, acting, talent, sorely, missed, south, park, sequel, coming, soon, crowd, cry, glorious, leader, il, sung, fear, shot, may, play, role, sam, harris, wrote, nice, piece, awesomeness, hitchens, may, good, man, rip, read, lying, new, book, friend, sam, harris, excellent, cover, art, lots, good, reasons, lie]  \n",
       "4  [model, options, performance, red, black, deliver, car, hi, art, garfunkel, heard, sound, know, makes, sound, raul, campos, invited, guest, dj, gig, kcrw, hear, random, holiday, season, music, selections]                                                                                                                                                                                                                                                                                                                                                                    "
      ]
     },
     "execution_count": 72,
     "metadata": {},
     "output_type": "execute_result"
    }
   ],
   "source": [
    "# Data Pre-processing and make the tweets all lowercase and remove stopwords.\n",
    "from sklearn.feature_extraction.text import CountVectorizer\n",
    "from gensim.corpora import Dictionary\n",
    "from gensim.models.ldamodel import LdaModel\n",
    "from gensim.models import CoherenceModel\n",
    "from nltk.corpus import stopwords\n",
    "from nltk.tokenize import RegexpTokenizer\n",
    "from datetime import datetime\n",
    "from nltk.stem import PorterStemmer\n",
    "import re\n",
    "import nltk\n",
    "nltk.download('stopwords')\n",
    "import math\n",
    "import math\n",
    "\n",
    "twitter_df = df_tweets.copy()\n",
    "\n",
    "# lower the tweets\n",
    "twitter_df['preprocessed_text'] = twitter_df['text'].str.lower()\n",
    "\n",
    "# remove apostrophe from words and url\n",
    "twitter_df['preprocessed_text'] = [re.sub(\"('[a-z]+)\\s\", \" \", row) for row in twitter_df['preprocessed_text']]\n",
    "twitter_df['preprocessed_text'] = [re.sub(\"(')\\s\", \" \", row) for row in twitter_df['preprocessed_text']]\n",
    "twitter_df['preprocessed_text'] = [re.sub(\"(?:https:\\/\\/\\S+)\\s\", \"\", row) for row in twitter_df['preprocessed_text']]\n",
    "\n",
    "                                      \n",
    "# filter out rest URLs\n",
    "url_re = '(?:https?:\\/\\/)?(?:[^?\\/\\s]+[?\\/])(.*)'\n",
    "twitter_df['preprocessed_text'] = twitter_df['preprocessed_text'].apply(lambda row: ' '.join([word for word in row.split() if (not re.match(url_re, word))]))\n",
    "\n",
    "# tokenize the tweets\n",
    "tokenizer = RegexpTokenizer('[a-zA-Z]\\w+\\'?\\w*')\n",
    "twitter_df['tokenized_text'] = twitter_df['preprocessed_text'].apply(lambda row: tokenizer.tokenize(row))\n",
    "\n",
    "#create an object of class PorterStemmer\n",
    "porter = PorterStemmer()\n",
    "\n",
    "# apply stemming\n",
    "twitter_df['preprocessed_text'] = [porter.stem(row) for row in twitter_df['preprocessed_text']]   \n",
    "\n",
    "# filter out stop words\n",
    "en_stop_words = nltk.corpus.stopwords.words('english')\n",
    "additional_stop_words =['amp', 'rt', 'th','co', 're', 've', 'kim', 'daca', 'us', 'it', 'th', 'you', 'haha', 'st', 'et', 'so', 'iii', 'also', 've', 'la', 're', 'the', 'https', 'wow', 'actually', 'due', 'ft', 'pcr', 'via', 'am', 'gt', 'com', 'since', 'in', 'me', 'and', 'btw', 'yesterday', 'ii', 'inu', 'on', 'http', 'to', 'vs', 'rd', 'ur', 'of', 'bs', 'km', 'est', 'em', 'lz', 'kms', 'aft', 'nd',  'here’s', 're', 'mqxfakpzf' 'mph', 'ht', 'etc', 'dm', 'doo']\n",
    "en_stop_words.extend(additional_stop_words)\n",
    "\n",
    "twitter_df['tokenized_text'] = twitter_df['tokenized_text'].apply(lambda row: [word for word in row if (not word in en_stop_words)])\n",
    "\n",
    "df_tweets_clean = twitter_df.copy()\n",
    "df_tweets_clean.head()"
   ]
  },
  {
   "cell_type": "markdown",
   "id": "dd504071",
   "metadata": {},
   "source": [
    "### Bag of Words\n",
    "If we want to classify text on a topic basis, we often do not want to look at the sequences of words. We do not want to classify text. Instead, we present the text as an unordered word package, ignoring its original position in the text and keeping its frequency."
   ]
  },
  {
   "cell_type": "code",
   "execution_count": 73,
   "id": "6f388569",
   "metadata": {
    "scrolled": true
   },
   "outputs": [
    {
     "data": {
      "text/plain": [
       "[('tesla', 608),\n",
       " ('model', 258),\n",
       " ('spacex', 213),\n",
       " ('good', 177),\n",
       " ('rocket', 165),\n",
       " ('launch', 159),\n",
       " ('car', 155),\n",
       " ('falcon', 151),\n",
       " ('like', 148),\n",
       " ('time', 124)]"
      ]
     },
     "execution_count": 73,
     "metadata": {},
     "output_type": "execute_result"
    }
   ],
   "source": [
    "def get_most_freq_words(str, n=None):\n",
    "    vect = CountVectorizer().fit(str)\n",
    "    bag_of_words = vect.transform(str)\n",
    "    sum_words = bag_of_words.sum(axis=0) \n",
    "    freq = [(word, sum_words[0, idx]) for word, idx in vect.vocabulary_.items()]\n",
    "    freq =sorted(freq, key = lambda x: x[1], reverse=True)\n",
    "    return freq[:n]\n",
    "  \n",
    "get_most_freq_words([ word for tweet in df_tweets_clean.tokenized_text for word in tweet],10)"
   ]
  },
  {
   "cell_type": "markdown",
   "id": "dba5d02e",
   "metadata": {},
   "source": [
    "### Identify the number of subjects"
   ]
  },
  {
   "cell_type": "code",
   "execution_count": 75,
   "id": "6bc7ed87",
   "metadata": {},
   "outputs": [
    {
     "data": {
      "image/png": "[encoded data removed]",
      "text/plain": [
       "<Figure size 720x360 with 1 Axes>"
      ]
     },
     "metadata": {
      "needs_background": "light"
     },
     "output_type": "display_data"
    }
   ],
   "source": [
    "# build a dictionary where for each tweet, each word has its own id.\n",
    "tweets_dictionary = Dictionary(df_tweets_clean.tokenized_text)\n",
    "\n",
    "# build the corpus i.e. vectors with the number of occurence of each word per tweet\n",
    "tweets_corpus = [tweets_dictionary.doc2bow(tweet) for tweet in df_tweets_clean.tokenized_text]\n",
    "\n",
    "# compute coherence\n",
    "tweets_coherence = []\n",
    "for nb_topics in range(1,36):\n",
    "    lda = LdaModel(tweets_corpus, num_topics = nb_topics, id2word = tweets_dictionary, passes=10)\n",
    "    cohm = CoherenceModel(model=lda, corpus=tweets_corpus, dictionary=tweets_dictionary, coherence='u_mass')\n",
    "    coh = cohm.get_coherence()\n",
    "    tweets_coherence.append(coh)\n",
    "\n",
    "# visualize coherence\n",
    "import matplotlib.pyplot as plt\n",
    "\n",
    "plt.figure(figsize=(10,5))\n",
    "plt.plot(range(1,36),tweets_coherence)\n",
    "plt.xlabel(\"Number of Topics\")\n",
    "plt.ylabel(\"Coherence Score\");"
   ]
  },
  {
   "cell_type": "markdown",
   "id": "eaf0a149",
   "metadata": {},
   "source": [
    "### Running the LDA"
   ]
  },
  {
   "cell_type": "code",
   "execution_count": 76,
   "id": "f16e837f",
   "metadata": {},
   "outputs": [
    {
     "data": {
      "image/png": "[encoded data removed]",
      "text/plain": [
       "<Figure size 1440x1080 with 5 Axes>"
      ]
     },
     "metadata": {
      "needs_background": "light"
     },
     "output_type": "display_data"
    }
   ],
   "source": [
    "import matplotlib.gridspec as gridspec\n",
    "\n",
    "k = 5\n",
    "tweets_lda = LdaModel(tweets_corpus, num_topics = k, id2word = tweets_dictionary, passes=10)\n",
    "\n",
    "def plot_top_words(lda=tweets_lda, nb_topics=k, nb_words=10):\n",
    "    top_words = [[word for word,_ in lda.show_topic(topic_id, topn=50)] for topic_id in range(lda.num_topics)]\n",
    "    top_betas = [[beta for _,beta in lda.show_topic(topic_id, topn=50)] for topic_id in range(lda.num_topics)]\n",
    "\n",
    "    gs  = gridspec.GridSpec(round(math.sqrt(k))+1,round(math.sqrt(k))+1)\n",
    "    gs.update(wspace=0.5, hspace=0.5)\n",
    "    plt.figure(figsize=(20,15))\n",
    "    for i in range(nb_topics):\n",
    "        ax = plt.subplot(gs[i])\n",
    "        plt.barh(range(nb_words), top_betas[i][:nb_words], align='center',color='blue', ecolor='black')\n",
    "        ax.invert_yaxis()\n",
    "        ax.set_yticks(range(nb_words))\n",
    "        ax.set_yticklabels(top_words[i][:nb_words])\n",
    "        plt.title(\"Topic \"+str(i))\n",
    "        \n",
    "  \n",
    "plot_top_words()"
   ]
  },
  {
   "cell_type": "markdown",
   "id": "aae73847",
   "metadata": {},
   "source": [
    "The topics do not make totally sense. However we can see the following meaningful match:\n",
    "\n",
    "Topic 1 - tesla\n",
    "\n",
    "Topic 3, - spaceX\n",
    "\n",
    "etc"
   ]
  },
  {
   "cell_type": "markdown",
   "id": "9c6de46b",
   "metadata": {},
   "source": [
    "Reference; https://towardsdatascience.com/topic-modeling-with-latent-dirichlet-allocation-by-example-3b22cd10c835, date; 2021-07-21, time; 2.25 pm"
   ]
  },
  {
   "cell_type": "code",
   "execution_count": null,
   "id": "0ac8ebd9",
   "metadata": {},
   "outputs": [],
   "source": []
  }
 ],
 "metadata": {
  "kernelspec": {
   "display_name": "mlenv",
   "language": "python",
   "name": "mlenv"
  },
  "language_info": {
   "codemirror_mode": {
    "name": "ipython",
    "version": 3
   },
   "file_extension": ".py",
   "mimetype": "text/x-python",
   "name": "python",
   "nbconvert_exporter": "python",
   "pygments_lexer": "ipython3",
   "version": "3.7.10"
  }
 },
 "nbformat": 4,
 "nbformat_minor": 5
}
