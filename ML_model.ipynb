{
 "cells": [
  {
   "cell_type": "code",
   "execution_count": 7,
   "metadata": {},
   "outputs": [],
   "source": [
    "%matplotlib inline"
   ]
  },
  {
   "cell_type": "code",
   "execution_count": 8,
   "metadata": {},
   "outputs": [],
   "source": [
    "# Setting up libraries\n",
    "import pandas as pd\n",
    "import numpy as np\n",
    "import matplotlib.pyplot as plt\n",
    "import sqlalchemy\n",
    "from sqlalchemy import create_engine, inspect\n",
    "import psycopg2\n",
    "from sklearn.feature_extraction.text import CountVectorizer\n",
    "from sklearn.model_selection import train_test_split\n",
    "from sklearn.decomposition import PCA\n",
    "import sklearn as skl\n",
    "import ast\n",
    "\n",
    "from config import user, password, hostname"
   ]
  },
  {
   "cell_type": "markdown",
   "metadata": {},
   "source": [
    "# Preprocessing\n",
    "### In order to perform machine learning on text documents, we first need to turn the text content into numerical feature vectors. "
   ]
  },
  {
   "cell_type": "markdown",
   "metadata": {},
   "source": [
    "## Connecting to database"
   ]
  },
  {
   "cell_type": "code",
   "execution_count": 9,
   "metadata": {},
   "outputs": [
    {
     "data": {
      "text/plain": [
       "['stock', 'tweets_text', 'twitter_vs_stocks']"
      ]
     },
     "execution_count": 9,
     "metadata": {},
     "output_type": "execute_result"
    }
   ],
   "source": [
    "# Create engine\n",
    "engine = create_engine(f'postgresql+psycopg2://{user}:{password}@{hostname}/twitter_vs_stocks')\n",
    "\n",
    "# Use the Inspector to explore the database and print the table names\n",
    "inspector = inspect(engine)\n",
    "inspector.get_table_names()"
   ]
  },
  {
   "cell_type": "code",
   "execution_count": 27,
   "metadata": {},
   "outputs": [
    {
     "data": {
      "text/html": [
       "<div>\n",
       "<style scoped>\n",
       "    .dataframe tbody tr th:only-of-type {\n",
       "        vertical-align: middle;\n",
       "    }\n",
       "\n",
       "    .dataframe tbody tr th {\n",
       "        vertical-align: top;\n",
       "    }\n",
       "\n",
       "    .dataframe thead th {\n",
       "        text-align: right;\n",
       "    }\n",
       "</style>\n",
       "<table border=\"1\" class=\"dataframe\">\n",
       "  <thead>\n",
       "    <tr style=\"text-align: right;\">\n",
       "      <th></th>\n",
       "      <th>date</th>\n",
       "      <th>tokenized_text</th>\n",
       "      <th>like_count</th>\n",
       "      <th>reply_count</th>\n",
       "      <th>retweet_count</th>\n",
       "      <th>volume_traded</th>\n",
       "      <th>change</th>\n",
       "    </tr>\n",
       "  </thead>\n",
       "  <tbody>\n",
       "    <tr>\n",
       "      <th>0</th>\n",
       "      <td>2011-12-01</td>\n",
       "      <td>['made', 'volume', 'model', 'go', 'need', 'wor...</td>\n",
       "      <td>267</td>\n",
       "      <td>63</td>\n",
       "      <td>24</td>\n",
       "      <td>5151000.0</td>\n",
       "      <td>-0.028</td>\n",
       "    </tr>\n",
       "    <tr>\n",
       "      <th>1</th>\n",
       "      <td>2011-12-21</td>\n",
       "      <td>['yum', 'even', 'better', 'deep', 'fried', 'bu...</td>\n",
       "      <td>1330</td>\n",
       "      <td>87</td>\n",
       "      <td>597</td>\n",
       "      <td>8527500.0</td>\n",
       "      <td>-0.066</td>\n",
       "    </tr>\n",
       "    <tr>\n",
       "      <th>2</th>\n",
       "      <td>2011-12-22</td>\n",
       "      <td>['model', 'options', 'performance', 'red', 'bl...</td>\n",
       "      <td>1349</td>\n",
       "      <td>132</td>\n",
       "      <td>206</td>\n",
       "      <td>5047000.0</td>\n",
       "      <td>0.040</td>\n",
       "    </tr>\n",
       "    <tr>\n",
       "      <th>3</th>\n",
       "      <td>2011-12-27</td>\n",
       "      <td>['ever', 'wanted', 'know', 'real', 'truth', 'm...</td>\n",
       "      <td>39</td>\n",
       "      <td>13</td>\n",
       "      <td>34</td>\n",
       "      <td>3887500.0</td>\n",
       "      <td>0.134</td>\n",
       "    </tr>\n",
       "    <tr>\n",
       "      <th>4</th>\n",
       "      <td>2011-12-28</td>\n",
       "      <td>['theonion', 'true']</td>\n",
       "      <td>12</td>\n",
       "      <td>7</td>\n",
       "      <td>1</td>\n",
       "      <td>2876000.0</td>\n",
       "      <td>-0.012</td>\n",
       "    </tr>\n",
       "  </tbody>\n",
       "</table>\n",
       "</div>"
      ],
      "text/plain": [
       "        date                                     tokenized_text  like_count  \\\n",
       "0 2011-12-01  ['made', 'volume', 'model', 'go', 'need', 'wor...         267   \n",
       "1 2011-12-21  ['yum', 'even', 'better', 'deep', 'fried', 'bu...        1330   \n",
       "2 2011-12-22  ['model', 'options', 'performance', 'red', 'bl...        1349   \n",
       "3 2011-12-27  ['ever', 'wanted', 'know', 'real', 'truth', 'm...          39   \n",
       "4 2011-12-28                               ['theonion', 'true']          12   \n",
       "\n",
       "   reply_count  retweet_count  volume_traded  change  \n",
       "0           63             24      5151000.0  -0.028  \n",
       "1           87            597      8527500.0  -0.066  \n",
       "2          132            206      5047000.0   0.040  \n",
       "3           13             34      3887500.0   0.134  \n",
       "4            7              1      2876000.0  -0.012  "
      ]
     },
     "execution_count": 27,
     "metadata": {},
     "output_type": "execute_result"
    }
   ],
   "source": [
    "# Create dataframe from SQL table\n",
    "twitter_vs_stocks = pd.read_sql_table(\n",
    "    'twitter_vs_stocks',\n",
    "    con=engine)\n",
    "twitter_vs_stocks.set_index(['date'], inplace=False)\n",
    "twitter_vs_stocks.rename({'volume': 'volume_traded'}, axis=1, inplace=True)\n",
    "twitter_vs_stocks.head()"
   ]
  },
  {
   "cell_type": "markdown",
   "metadata": {},
   "source": [
    "### Defining the most common words in tweets"
   ]
  },
  {
   "cell_type": "code",
   "execution_count": 28,
   "metadata": {},
   "outputs": [],
   "source": [
    "# define function for counting words\n",
    "def count_words(str, n=None):\n",
    "    vect = CountVectorizer().fit(str)\n",
    "    bag_of_words = vect.transform(str)\n",
    "    sum_words = bag_of_words.sum(axis=0) \n",
    "    freq = [(word, sum_words[0, idx]) for word, idx in vect.vocabulary_.items()]\n",
    "    freq = sorted(freq, key = lambda x: x[1], reverse=True)\n",
    "    return freq[:n]"
   ]
  },
  {
   "cell_type": "code",
   "execution_count": 29,
   "metadata": {},
   "outputs": [
    {
     "name": "stdout",
     "output_type": "stream",
     "text": [
      "Elon Musked used 6428 word in his tweets.\n",
      "The most popular words:\n"
     ]
    },
    {
     "data": {
      "text/plain": [
       "[('tesla', 450),\n",
       " ('model', 197),\n",
       " ('spacex', 171),\n",
       " ('car', 119),\n",
       " ('falcon', 118),\n",
       " ('launch', 113),\n",
       " ('good', 112),\n",
       " ('rocket', 108),\n",
       " ('like', 102),\n",
       " ('cars', 81),\n",
       " ('new', 81),\n",
       " ('next', 81),\n",
       " ('first', 79),\n",
       " ('people', 79),\n",
       " ('time', 78),\n",
       " ('dragon', 76),\n",
       " ('great', 71),\n",
       " ('would', 66),\n",
       " ('thanks', 66),\n",
       " ('space', 65),\n",
       " ('landing', 63),\n",
       " ('much', 62),\n",
       " ('mars', 62),\n",
       " ('solar', 61),\n",
       " ('test', 61),\n",
       " ('soon', 59),\n",
       " ('year', 58),\n",
       " ('flight', 58),\n",
       " ('one', 57),\n",
       " ('high', 57)]"
      ]
     },
     "execution_count": 29,
     "metadata": {},
     "output_type": "execute_result"
    }
   ],
   "source": [
    "# count words in tweets\n",
    "words_in_tweets = count_words(twitter_vs_stocks.tokenized_text)\n",
    "print(f'Elon Musked used {len(words_in_tweets)} word in his tweets.')\n",
    "print(f'The most popular words:')\n",
    "words_in_tweets[:30]"
   ]
  },
  {
   "cell_type": "code",
   "execution_count": 30,
   "metadata": {},
   "outputs": [
    {
     "name": "stdout",
     "output_type": "stream",
     "text": [
      "There are 4603 words used once or twice.\n",
      "There are 1825 words left for analysis.\n"
     ]
    },
    {
     "data": {
      "text/plain": [
       "['tesla',\n",
       " 'model',\n",
       " 'spacex',\n",
       " 'car',\n",
       " 'falcon',\n",
       " 'launch',\n",
       " 'good',\n",
       " 'rocket',\n",
       " 'like',\n",
       " 'cars']"
      ]
     },
     "execution_count": 30,
     "metadata": {},
     "output_type": "execute_result"
    }
   ],
   "source": [
    "# analyse only words that appear 3 or more times\n",
    "words_to_analyse = [word for word, freq in words_in_tweets if freq >= 3]\n",
    "print(f'There are {len([word for word, freq in words_in_tweets if freq < 3])} words used once or twice.')\n",
    "print(f'There are {len(words_to_analyse)} words left for analysis.')\n",
    "words_to_analyse[:10]"
   ]
  },
  {
   "cell_type": "markdown",
   "metadata": {},
   "source": [
    "### Count words in tweets"
   ]
  },
  {
   "cell_type": "code",
   "execution_count": 31,
   "metadata": {},
   "outputs": [],
   "source": [
    "# count words in the tokenized text (tweets)\n",
    "for column in words_to_analyse:\n",
    "    count_list = []\n",
    "    for row in np.arange(0,len(twitter_vs_stocks.tokenized_text)):\n",
    "         count_list.append(twitter_vs_stocks.tokenized_text[row].count(column))\n",
    "    twitter_vs_stocks[column] = count_list"
   ]
  },
  {
   "cell_type": "code",
   "execution_count": 32,
   "metadata": {},
   "outputs": [
    {
     "data": {
      "text/html": [
       "<div>\n",
       "<style scoped>\n",
       "    .dataframe tbody tr th:only-of-type {\n",
       "        vertical-align: middle;\n",
       "    }\n",
       "\n",
       "    .dataframe tbody tr th {\n",
       "        vertical-align: top;\n",
       "    }\n",
       "\n",
       "    .dataframe thead th {\n",
       "        text-align: right;\n",
       "    }\n",
       "</style>\n",
       "<table border=\"1\" class=\"dataframe\">\n",
       "  <thead>\n",
       "    <tr style=\"text-align: right;\">\n",
       "      <th></th>\n",
       "      <th>date</th>\n",
       "      <th>tokenized_text</th>\n",
       "      <th>like_count</th>\n",
       "      <th>reply_count</th>\n",
       "      <th>retweet_count</th>\n",
       "      <th>volume_traded</th>\n",
       "      <th>change</th>\n",
       "      <th>tesla</th>\n",
       "      <th>model</th>\n",
       "      <th>spacex</th>\n",
       "      <th>...</th>\n",
       "      <th>cell</th>\n",
       "      <th>interests</th>\n",
       "      <th>jwangark</th>\n",
       "      <th>suppliers</th>\n",
       "      <th>nets</th>\n",
       "      <th>crypto</th>\n",
       "      <th>cov2</th>\n",
       "      <th>cyberpunk</th>\n",
       "      <th>sn10</th>\n",
       "      <th>nbcsnl</th>\n",
       "    </tr>\n",
       "  </thead>\n",
       "  <tbody>\n",
       "    <tr>\n",
       "      <th>0</th>\n",
       "      <td>0</td>\n",
       "      <td>['made', 'volume', 'model', 'go', 'need', 'wor...</td>\n",
       "      <td>267</td>\n",
       "      <td>63</td>\n",
       "      <td>24</td>\n",
       "      <td>5151000.0</td>\n",
       "      <td>0</td>\n",
       "      <td>0</td>\n",
       "      <td>1</td>\n",
       "      <td>0</td>\n",
       "      <td>...</td>\n",
       "      <td>0</td>\n",
       "      <td>0</td>\n",
       "      <td>0</td>\n",
       "      <td>0</td>\n",
       "      <td>0</td>\n",
       "      <td>0</td>\n",
       "      <td>0</td>\n",
       "      <td>0</td>\n",
       "      <td>0</td>\n",
       "      <td>0</td>\n",
       "    </tr>\n",
       "    <tr>\n",
       "      <th>1</th>\n",
       "      <td>0</td>\n",
       "      <td>['yum', 'even', 'better', 'deep', 'fried', 'bu...</td>\n",
       "      <td>1330</td>\n",
       "      <td>87</td>\n",
       "      <td>597</td>\n",
       "      <td>8527500.0</td>\n",
       "      <td>0</td>\n",
       "      <td>0</td>\n",
       "      <td>0</td>\n",
       "      <td>0</td>\n",
       "      <td>...</td>\n",
       "      <td>1</td>\n",
       "      <td>0</td>\n",
       "      <td>0</td>\n",
       "      <td>0</td>\n",
       "      <td>0</td>\n",
       "      <td>0</td>\n",
       "      <td>0</td>\n",
       "      <td>0</td>\n",
       "      <td>0</td>\n",
       "      <td>0</td>\n",
       "    </tr>\n",
       "    <tr>\n",
       "      <th>2</th>\n",
       "      <td>0</td>\n",
       "      <td>['model', 'options', 'performance', 'red', 'bl...</td>\n",
       "      <td>1349</td>\n",
       "      <td>132</td>\n",
       "      <td>206</td>\n",
       "      <td>5047000.0</td>\n",
       "      <td>0</td>\n",
       "      <td>0</td>\n",
       "      <td>1</td>\n",
       "      <td>0</td>\n",
       "      <td>...</td>\n",
       "      <td>0</td>\n",
       "      <td>0</td>\n",
       "      <td>0</td>\n",
       "      <td>0</td>\n",
       "      <td>0</td>\n",
       "      <td>0</td>\n",
       "      <td>0</td>\n",
       "      <td>0</td>\n",
       "      <td>0</td>\n",
       "      <td>0</td>\n",
       "    </tr>\n",
       "    <tr>\n",
       "      <th>3</th>\n",
       "      <td>0</td>\n",
       "      <td>['ever', 'wanted', 'know', 'real', 'truth', 'm...</td>\n",
       "      <td>39</td>\n",
       "      <td>13</td>\n",
       "      <td>34</td>\n",
       "      <td>3887500.0</td>\n",
       "      <td>0</td>\n",
       "      <td>0</td>\n",
       "      <td>0</td>\n",
       "      <td>0</td>\n",
       "      <td>...</td>\n",
       "      <td>0</td>\n",
       "      <td>0</td>\n",
       "      <td>0</td>\n",
       "      <td>0</td>\n",
       "      <td>0</td>\n",
       "      <td>0</td>\n",
       "      <td>0</td>\n",
       "      <td>0</td>\n",
       "      <td>0</td>\n",
       "      <td>0</td>\n",
       "    </tr>\n",
       "    <tr>\n",
       "      <th>4</th>\n",
       "      <td>0</td>\n",
       "      <td>['theonion', 'true']</td>\n",
       "      <td>12</td>\n",
       "      <td>7</td>\n",
       "      <td>1</td>\n",
       "      <td>2876000.0</td>\n",
       "      <td>0</td>\n",
       "      <td>0</td>\n",
       "      <td>0</td>\n",
       "      <td>0</td>\n",
       "      <td>...</td>\n",
       "      <td>0</td>\n",
       "      <td>0</td>\n",
       "      <td>0</td>\n",
       "      <td>0</td>\n",
       "      <td>0</td>\n",
       "      <td>0</td>\n",
       "      <td>0</td>\n",
       "      <td>0</td>\n",
       "      <td>0</td>\n",
       "      <td>0</td>\n",
       "    </tr>\n",
       "  </tbody>\n",
       "</table>\n",
       "<p>5 rows × 1830 columns</p>\n",
       "</div>"
      ],
      "text/plain": [
       "   date                                     tokenized_text  like_count  \\\n",
       "0     0  ['made', 'volume', 'model', 'go', 'need', 'wor...         267   \n",
       "1     0  ['yum', 'even', 'better', 'deep', 'fried', 'bu...        1330   \n",
       "2     0  ['model', 'options', 'performance', 'red', 'bl...        1349   \n",
       "3     0  ['ever', 'wanted', 'know', 'real', 'truth', 'm...          39   \n",
       "4     0                               ['theonion', 'true']          12   \n",
       "\n",
       "   reply_count  retweet_count  volume_traded  change  tesla  model  spacex  \\\n",
       "0           63             24      5151000.0       0      0      1       0   \n",
       "1           87            597      8527500.0       0      0      0       0   \n",
       "2          132            206      5047000.0       0      0      1       0   \n",
       "3           13             34      3887500.0       0      0      0       0   \n",
       "4            7              1      2876000.0       0      0      0       0   \n",
       "\n",
       "   ...  cell  interests  jwangark  suppliers  nets  crypto  cov2  cyberpunk  \\\n",
       "0  ...     0          0         0          0     0       0     0          0   \n",
       "1  ...     1          0         0          0     0       0     0          0   \n",
       "2  ...     0          0         0          0     0       0     0          0   \n",
       "3  ...     0          0         0          0     0       0     0          0   \n",
       "4  ...     0          0         0          0     0       0     0          0   \n",
       "\n",
       "   sn10  nbcsnl  \n",
       "0     0       0  \n",
       "1     0       0  \n",
       "2     0       0  \n",
       "3     0       0  \n",
       "4     0       0  \n",
       "\n",
       "[5 rows x 1830 columns]"
      ]
     },
     "execution_count": 32,
     "metadata": {},
     "output_type": "execute_result"
    }
   ],
   "source": [
    "twitter_vs_stocks.head()"
   ]
  },
  {
   "cell_type": "markdown",
   "metadata": {},
   "source": [
    "### Scaling and Features Extraction"
   ]
  },
  {
   "cell_type": "code",
   "execution_count": 33,
   "metadata": {},
   "outputs": [],
   "source": [
    "X = twitter_vs_stocks.drop(columns=['tokenized_text', 'change', 'volume_traded'])\n",
    "y_change = twitter_vs_stocks.change\n",
    "y_volume = twitter_vs_stocks.volume"
   ]
  },
  {
   "cell_type": "code",
   "execution_count": 34,
   "metadata": {},
   "outputs": [
    {
     "data": {
      "text/html": [
       "<div>\n",
       "<style scoped>\n",
       "    .dataframe tbody tr th:only-of-type {\n",
       "        vertical-align: middle;\n",
       "    }\n",
       "\n",
       "    .dataframe tbody tr th {\n",
       "        vertical-align: top;\n",
       "    }\n",
       "\n",
       "    .dataframe thead th {\n",
       "        text-align: right;\n",
       "    }\n",
       "</style>\n",
       "<table border=\"1\" class=\"dataframe\">\n",
       "  <thead>\n",
       "    <tr style=\"text-align: right;\">\n",
       "      <th></th>\n",
       "      <th>date</th>\n",
       "      <th>like_count</th>\n",
       "      <th>reply_count</th>\n",
       "      <th>retweet_count</th>\n",
       "      <th>tesla</th>\n",
       "      <th>model</th>\n",
       "      <th>spacex</th>\n",
       "      <th>car</th>\n",
       "      <th>falcon</th>\n",
       "      <th>launch</th>\n",
       "      <th>...</th>\n",
       "      <th>cell</th>\n",
       "      <th>interests</th>\n",
       "      <th>jwangark</th>\n",
       "      <th>suppliers</th>\n",
       "      <th>nets</th>\n",
       "      <th>crypto</th>\n",
       "      <th>cov2</th>\n",
       "      <th>cyberpunk</th>\n",
       "      <th>sn10</th>\n",
       "      <th>nbcsnl</th>\n",
       "    </tr>\n",
       "  </thead>\n",
       "  <tbody>\n",
       "    <tr>\n",
       "      <th>0</th>\n",
       "      <td>0</td>\n",
       "      <td>267</td>\n",
       "      <td>63</td>\n",
       "      <td>24</td>\n",
       "      <td>0</td>\n",
       "      <td>1</td>\n",
       "      <td>0</td>\n",
       "      <td>1</td>\n",
       "      <td>0</td>\n",
       "      <td>0</td>\n",
       "      <td>...</td>\n",
       "      <td>0</td>\n",
       "      <td>0</td>\n",
       "      <td>0</td>\n",
       "      <td>0</td>\n",
       "      <td>0</td>\n",
       "      <td>0</td>\n",
       "      <td>0</td>\n",
       "      <td>0</td>\n",
       "      <td>0</td>\n",
       "      <td>0</td>\n",
       "    </tr>\n",
       "    <tr>\n",
       "      <th>1</th>\n",
       "      <td>0</td>\n",
       "      <td>1330</td>\n",
       "      <td>87</td>\n",
       "      <td>597</td>\n",
       "      <td>0</td>\n",
       "      <td>0</td>\n",
       "      <td>0</td>\n",
       "      <td>0</td>\n",
       "      <td>0</td>\n",
       "      <td>0</td>\n",
       "      <td>...</td>\n",
       "      <td>1</td>\n",
       "      <td>0</td>\n",
       "      <td>0</td>\n",
       "      <td>0</td>\n",
       "      <td>0</td>\n",
       "      <td>0</td>\n",
       "      <td>0</td>\n",
       "      <td>0</td>\n",
       "      <td>0</td>\n",
       "      <td>0</td>\n",
       "    </tr>\n",
       "    <tr>\n",
       "      <th>2</th>\n",
       "      <td>0</td>\n",
       "      <td>1349</td>\n",
       "      <td>132</td>\n",
       "      <td>206</td>\n",
       "      <td>0</td>\n",
       "      <td>1</td>\n",
       "      <td>0</td>\n",
       "      <td>1</td>\n",
       "      <td>0</td>\n",
       "      <td>0</td>\n",
       "      <td>...</td>\n",
       "      <td>0</td>\n",
       "      <td>0</td>\n",
       "      <td>0</td>\n",
       "      <td>0</td>\n",
       "      <td>0</td>\n",
       "      <td>0</td>\n",
       "      <td>0</td>\n",
       "      <td>0</td>\n",
       "      <td>0</td>\n",
       "      <td>0</td>\n",
       "    </tr>\n",
       "    <tr>\n",
       "      <th>3</th>\n",
       "      <td>0</td>\n",
       "      <td>39</td>\n",
       "      <td>13</td>\n",
       "      <td>34</td>\n",
       "      <td>0</td>\n",
       "      <td>0</td>\n",
       "      <td>0</td>\n",
       "      <td>0</td>\n",
       "      <td>0</td>\n",
       "      <td>0</td>\n",
       "      <td>...</td>\n",
       "      <td>0</td>\n",
       "      <td>0</td>\n",
       "      <td>0</td>\n",
       "      <td>0</td>\n",
       "      <td>0</td>\n",
       "      <td>0</td>\n",
       "      <td>0</td>\n",
       "      <td>0</td>\n",
       "      <td>0</td>\n",
       "      <td>0</td>\n",
       "    </tr>\n",
       "    <tr>\n",
       "      <th>4</th>\n",
       "      <td>0</td>\n",
       "      <td>12</td>\n",
       "      <td>7</td>\n",
       "      <td>1</td>\n",
       "      <td>0</td>\n",
       "      <td>0</td>\n",
       "      <td>0</td>\n",
       "      <td>0</td>\n",
       "      <td>0</td>\n",
       "      <td>0</td>\n",
       "      <td>...</td>\n",
       "      <td>0</td>\n",
       "      <td>0</td>\n",
       "      <td>0</td>\n",
       "      <td>0</td>\n",
       "      <td>0</td>\n",
       "      <td>0</td>\n",
       "      <td>0</td>\n",
       "      <td>0</td>\n",
       "      <td>0</td>\n",
       "      <td>0</td>\n",
       "    </tr>\n",
       "  </tbody>\n",
       "</table>\n",
       "<p>5 rows × 1827 columns</p>\n",
       "</div>"
      ],
      "text/plain": [
       "   date  like_count  reply_count  retweet_count  tesla  model  spacex  car  \\\n",
       "0     0         267           63             24      0      1       0    1   \n",
       "1     0        1330           87            597      0      0       0    0   \n",
       "2     0        1349          132            206      0      1       0    1   \n",
       "3     0          39           13             34      0      0       0    0   \n",
       "4     0          12            7              1      0      0       0    0   \n",
       "\n",
       "   falcon  launch  ...  cell  interests  jwangark  suppliers  nets  crypto  \\\n",
       "0       0       0  ...     0          0         0          0     0       0   \n",
       "1       0       0  ...     1          0         0          0     0       0   \n",
       "2       0       0  ...     0          0         0          0     0       0   \n",
       "3       0       0  ...     0          0         0          0     0       0   \n",
       "4       0       0  ...     0          0         0          0     0       0   \n",
       "\n",
       "   cov2  cyberpunk  sn10  nbcsnl  \n",
       "0     0          0     0       0  \n",
       "1     0          0     0       0  \n",
       "2     0          0     0       0  \n",
       "3     0          0     0       0  \n",
       "4     0          0     0       0  \n",
       "\n",
       "[5 rows x 1827 columns]"
      ]
     },
     "execution_count": 34,
     "metadata": {},
     "output_type": "execute_result"
    }
   ],
   "source": [
    "X.head()"
   ]
  },
  {
   "cell_type": "markdown",
   "metadata": {},
   "source": [
    "#### Tagret is Change"
   ]
  },
  {
   "cell_type": "code",
   "execution_count": 35,
   "metadata": {},
   "outputs": [],
   "source": [
    "# Split dataset to training and testing\n",
    "X_train, X_test, y_change_train, y_change_test = train_test_split(X, y_change, random_state=12)"
   ]
  },
  {
   "cell_type": "code",
   "execution_count": 36,
   "metadata": {},
   "outputs": [],
   "source": [
    "# Create scaler instance\n",
    "scaler = skl.preprocessing.StandardScaler()\n",
    "\n",
    "# Fit the scaler\n",
    "scaler.fit(X_train)\n",
    "\n",
    "# Scale the data\n",
    "X_train_scaled = scaler.transform(X_train)\n",
    "X_test_scaled = scaler.transform(X_test)"
   ]
  },
  {
   "cell_type": "code",
   "execution_count": 37,
   "metadata": {},
   "outputs": [
    {
     "data": {
      "text/plain": [
       "300"
      ]
     },
     "execution_count": 37,
     "metadata": {},
     "output_type": "execute_result"
    }
   ],
   "source": [
    "len(X_test_scaled)"
   ]
  },
  {
   "cell_type": "code",
   "execution_count": 38,
   "metadata": {},
   "outputs": [
    {
     "data": {
      "text/plain": [
       "Text(0, 0.5, 'cumulative explained variance')"
      ]
     },
     "execution_count": 38,
     "metadata": {},
     "output_type": "execute_result"
    },
    {
     "data": {
      "image/png": "[encoded data removed]",
      "text/plain": [
       "<Figure size 432x288 with 1 Axes>"
      ]
     },
     "metadata": {
      "needs_background": "light"
     },
     "output_type": "display_data"
    }
   ],
   "source": [
    "# choose number of components for PCA\n",
    "pca = PCA().fit(X_train_scaled)\n",
    "plt.plot(np.cumsum(pca.explained_variance_ratio_))\n",
    "plt.xlabel('number of components')\n",
    "plt.ylabel('cumulative explained variance')"
   ]
  },
  {
   "cell_type": "markdown",
   "metadata": {},
   "source": [
    "#### we need at least 600 components to describe 90% of the variance"
   ]
  },
  {
   "cell_type": "code",
   "execution_count": 39,
   "metadata": {},
   "outputs": [],
   "source": [
    "# Reduce the number of components in X using PCA\n",
    "pca = PCA(n_components=300)\n",
    "X_train_pca = pca.fit_transform(X_train_scaled)\n",
    "X_test_pca = pca.fit_transform(X_test_scaled)"
   ]
  },
  {
   "cell_type": "markdown",
   "metadata": {},
   "source": [
    "#### Tagret is Volume Traded"
   ]
  },
  {
   "cell_type": "code",
   "execution_count": 40,
   "metadata": {},
   "outputs": [],
   "source": [
    "# Split dataset to training and testing\n",
    "X_train, X_test, y_volume_train, y_volume_test = train_test_split(X, y_volume, random_state=10)"
   ]
  },
  {
   "cell_type": "code",
   "execution_count": 41,
   "metadata": {},
   "outputs": [],
   "source": [
    "scaler = skl.preprocessing.StandardScaler()\n",
    "\n",
    "# Fit the scaler\n",
    "scaler.fit(X_train)\n",
    "\n",
    "# Scale the data\n",
    "X_train_scaled = scaler.transform(X_train)\n",
    "X_test_scaled = scaler.transform(X_test)"
   ]
  },
  {
   "cell_type": "code",
   "execution_count": 42,
   "metadata": {},
   "outputs": [
    {
     "data": {
      "text/plain": [
       "Text(0, 0.5, 'cumulative explained variance')"
      ]
     },
     "execution_count": 42,
     "metadata": {},
     "output_type": "execute_result"
    },
    {
     "data": {
      "image/png": "[encoded data removed]",
      "text/plain": [
       "<Figure size 432x288 with 1 Axes>"
      ]
     },
     "metadata": {
      "needs_background": "light"
     },
     "output_type": "display_data"
    }
   ],
   "source": [
    "# choose number of components for PCA\n",
    "pca = PCA().fit(X_train_scaled)\n",
    "plt.plot(np.cumsum(pca.explained_variance_ratio_))\n",
    "plt.xlabel('number of components')\n",
    "plt.ylabel('cumulative explained variance')"
   ]
  },
  {
   "cell_type": "code",
   "execution_count": 43,
   "metadata": {},
   "outputs": [],
   "source": [
    "# Reduce the number of components in X using PCA\n",
    "pca = PCA(n_components=300)\n",
    "X_train_pca = pca.fit_transform(X_train_scaled)\n",
    "X_test_pca = pca.fit_transform(X_test_scaled)"
   ]
  },
  {
   "cell_type": "markdown",
   "metadata": {},
   "source": [
    "# ML Model"
   ]
  },
  {
   "cell_type": "code",
   "execution_count": null,
   "metadata": {},
   "outputs": [],
   "source": []
  },
  {
   "cell_type": "code",
   "execution_count": null,
   "metadata": {},
   "outputs": [],
   "source": []
  },
  {
   "cell_type": "code",
   "execution_count": null,
   "metadata": {},
   "outputs": [],
   "source": []
  }
 ],
 "metadata": {
  "interpreter": {
   "hash": "801dd5eee37480936b14d219984276aecdbc0fffcaa1c38299e8fde776f1c6c6"
  },
  "kernelspec": {
   "display_name": "mlenv",
   "language": "python",
   "name": "mlenv"
  },
  "language_info": {
   "codemirror_mode": {
    "name": "ipython",
    "version": 3
   },
   "file_extension": ".py",
   "mimetype": "text/x-python",
   "name": "python",
   "nbconvert_exporter": "python",
   "pygments_lexer": "ipython3",
   "version": "3.7.10"
  }
 },
 "nbformat": 4,
 "nbformat_minor": 2
}
