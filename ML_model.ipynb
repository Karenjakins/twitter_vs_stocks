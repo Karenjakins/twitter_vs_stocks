{
 "metadata": {
  "language_info": {
   "codemirror_mode": {
    "name": "ipython",
    "version": 3
   },
   "file_extension": ".py",
   "mimetype": "text/x-python",
   "name": "python",
   "nbconvert_exporter": "python",
   "pygments_lexer": "ipython3",
   "version": "3.8.5"
  },
  "orig_nbformat": 4,
  "kernelspec": {
   "name": "pythondata",
   "display_name": "Python 3.8.5 64-bit ('PythonData': conda)"
  },
  "interpreter": {
   "hash": "dd600c1e32c3b68d98e7c9239ab6282fbb57786a2604389a60edb55a27cdb977"
  }
 },
 "nbformat": 4,
 "nbformat_minor": 2,
 "cells": [
  {
   "cell_type": "code",
   "execution_count": 12,
   "metadata": {},
   "outputs": [],
   "source": [
    "# Setting up libraries\n",
    "import pandas as pd\n",
    "import sqlalchemy\n",
    "from sqlalchemy import create_engine, inspect\n",
    "from config import user, password, hostname\n",
    "from sklearn.feature_extraction.text import CountVectorizer"
   ]
  },
  {
   "source": [
    "### Connecting to database"
   ],
   "cell_type": "markdown",
   "metadata": {}
  },
  {
   "cell_type": "code",
   "execution_count": 9,
   "metadata": {},
   "outputs": [
    {
     "output_type": "execute_result",
     "data": {
      "text/plain": [
       "['stock', 'tweets_text', 'twitter_vs_stocks']"
      ]
     },
     "metadata": {},
     "execution_count": 9
    }
   ],
   "source": [
    "# Create engine\n",
    "engine = create_engine(f'postgres://{user}:{password}@{hostname}/twitter_vs_stocks')\n",
    "\n",
    "# Use the Inspector to explore the database and print the table names\n",
    "inspector = inspect(engine)\n",
    "inspector.get_table_names()"
   ]
  },
  {
   "cell_type": "code",
   "execution_count": 10,
   "metadata": {},
   "outputs": [
    {
     "output_type": "execute_result",
     "data": {
      "text/plain": [
       "                                               tokenized_text  like_count  \\\n",
       "date                                                                        \n",
       "2021-07-09  ['solar', 'powerwall', 'battery', 'ensures', '...       37454   \n",
       "2021-07-09  ['tesla', 'solar', 'roof', 'powerwall', 'major...       13972   \n",
       "2021-07-09  ['autonomous', 'spacex', 'droneship', 'shortfa...       63291   \n",
       "2021-07-09  ['electrekco', 'bought', 'first', 'tesla', her...           0   \n",
       "2021-07-08                 ['maybe', 'movie', 'gaslit', 'us']       26485   \n",
       "\n",
       "            quote_count  reply_count  retweet_count    change    volume  \n",
       "date                                                                     \n",
       "2021-07-09          400         4443           2871  4.140015  18118500  \n",
       "2021-07-09          119         2185           1407  4.140015  18118500  \n",
       "2021-07-09          860         3653           6553  4.140015  18118500  \n",
       "2021-07-09            0            0            979  4.140015  18118500  \n",
       "2021-07-08           92         1927           1045  8.159973  22773300  "
      ],
      "text/html": "<div>\n<style scoped>\n    .dataframe tbody tr th:only-of-type {\n        vertical-align: middle;\n    }\n\n    .dataframe tbody tr th {\n        vertical-align: top;\n    }\n\n    .dataframe thead th {\n        text-align: right;\n    }\n</style>\n<table border=\"1\" class=\"dataframe\">\n  <thead>\n    <tr style=\"text-align: right;\">\n      <th></th>\n      <th>tokenized_text</th>\n      <th>like_count</th>\n      <th>quote_count</th>\n      <th>reply_count</th>\n      <th>retweet_count</th>\n      <th>change</th>\n      <th>volume</th>\n    </tr>\n    <tr>\n      <th>date</th>\n      <th></th>\n      <th></th>\n      <th></th>\n      <th></th>\n      <th></th>\n      <th></th>\n      <th></th>\n    </tr>\n  </thead>\n  <tbody>\n    <tr>\n      <th>2021-07-09</th>\n      <td>['solar', 'powerwall', 'battery', 'ensures', '...</td>\n      <td>37454</td>\n      <td>400</td>\n      <td>4443</td>\n      <td>2871</td>\n      <td>4.140015</td>\n      <td>18118500</td>\n    </tr>\n    <tr>\n      <th>2021-07-09</th>\n      <td>['tesla', 'solar', 'roof', 'powerwall', 'major...</td>\n      <td>13972</td>\n      <td>119</td>\n      <td>2185</td>\n      <td>1407</td>\n      <td>4.140015</td>\n      <td>18118500</td>\n    </tr>\n    <tr>\n      <th>2021-07-09</th>\n      <td>['autonomous', 'spacex', 'droneship', 'shortfa...</td>\n      <td>63291</td>\n      <td>860</td>\n      <td>3653</td>\n      <td>6553</td>\n      <td>4.140015</td>\n      <td>18118500</td>\n    </tr>\n    <tr>\n      <th>2021-07-09</th>\n      <td>['electrekco', 'bought', 'first', 'tesla', her...</td>\n      <td>0</td>\n      <td>0</td>\n      <td>0</td>\n      <td>979</td>\n      <td>4.140015</td>\n      <td>18118500</td>\n    </tr>\n    <tr>\n      <th>2021-07-08</th>\n      <td>['maybe', 'movie', 'gaslit', 'us']</td>\n      <td>26485</td>\n      <td>92</td>\n      <td>1927</td>\n      <td>1045</td>\n      <td>8.159973</td>\n      <td>22773300</td>\n    </tr>\n  </tbody>\n</table>\n</div>"
     },
     "metadata": {},
     "execution_count": 10
    }
   ],
   "source": [
    "# Create dataframe from SQL table\n",
    "twitter_vs_stocks = pd.read_sql_table(\n",
    "    'twitter_vs_stocks',\n",
    "    con=engine)\n",
    "twitter_vs_stocks.set_index(['date'], inplace=True)\n",
    "twitter_vs_stocks.head()"
   ]
  },
  {
   "source": [
    "### Defining the most common words in tweets"
   ],
   "cell_type": "markdown",
   "metadata": {}
  },
  {
   "cell_type": "code",
   "execution_count": 25,
   "metadata": {},
   "outputs": [],
   "source": [
    "# define function for counting words\n",
    "def count_words(str, n=None):\n",
    "    vect = CountVectorizer().fit(str)\n",
    "    bag_of_words = vect.transform(str)\n",
    "    sum_words = bag_of_words.sum(axis=0) \n",
    "    freq = [(word, sum_words[0, idx]) for word, idx in vect.vocabulary_.items()]\n",
    "    freq = sorted(freq, key = lambda x: x[1], reverse=True)\n",
    "    return freq[:n]"
   ]
  },
  {
   "cell_type": "code",
   "execution_count": 26,
   "metadata": {},
   "outputs": [
    {
     "output_type": "execute_result",
     "data": {
      "text/plain": [
       "[('spacex', 120),\n",
       " ('tesla', 81),\n",
       " ('falcon', 43),\n",
       " ('launch', 40),\n",
       " ('first', 34),\n",
       " ('dragon', 28),\n",
       " ('model', 22),\n",
       " ('mission', 21),\n",
       " ('crew', 21),\n",
       " ('starship', 20),\n",
       " ('flight', 19),\n",
       " ('landing', 17),\n",
       " ('space_station', 17),\n",
       " ('starlink', 16),\n",
       " ('doo', 15),\n",
       " ('stage', 15),\n",
       " ('next', 14),\n",
       " ('giga', 14),\n",
       " ('nasa', 14),\n",
       " ('doge', 13)]"
      ]
     },
     "metadata": {},
     "execution_count": 26
    }
   ],
   "source": [
    "# count words in tweets\n",
    "words_in_tweets = count_words(twitter_vs_stocks.tokenized_text)\n",
    "words_in_tweets[:20]"
   ]
  },
  {
   "cell_type": "code",
   "execution_count": 36,
   "metadata": {},
   "outputs": [
    {
     "output_type": "execute_result",
     "data": {
      "text/plain": [
       "330"
      ]
     },
     "metadata": {},
     "execution_count": 36
    }
   ],
   "source": [
    "# analyse only words that appear 3 or more times\n",
    "words_to_analyse = [word for word, freq in words_in_tweets if freq >= 3]\n",
    "len(words_to_analyse)"
   ]
  },
  {
   "cell_type": "code",
   "execution_count": null,
   "metadata": {},
   "outputs": [],
   "source": []
  }
 ]
}