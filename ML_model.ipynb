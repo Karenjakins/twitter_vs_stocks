{
 "metadata": {
  "language_info": {
   "codemirror_mode": {
    "name": "ipython",
    "version": 3
   },
   "file_extension": ".py",
   "mimetype": "text/x-python",
   "name": "python",
   "nbconvert_exporter": "python",
   "pygments_lexer": "ipython3",
   "version": "3.8.5"
  },
  "orig_nbformat": 4,
  "kernelspec": {
   "name": "pythondata",
   "display_name": "Python 3.8.5 64-bit ('PythonData': conda)"
  },
  "interpreter": {
   "hash": "dd600c1e32c3b68d98e7c9239ab6282fbb57786a2604389a60edb55a27cdb977"
  }
 },
 "nbformat": 4,
 "nbformat_minor": 2,
 "cells": [
  {
   "cell_type": "code",
   "execution_count": 69,
   "metadata": {},
   "outputs": [],
   "source": [
    "# Setting up libraries\n",
    "import pandas as pd\n",
    "import sqlalchemy\n",
    "from sqlalchemy import create_engine, inspect\n",
    "from sqlalchemy.ext.automap import automap_base\n",
    "from sqlalchemy.orm import Session\n",
    "import psycopg2\n",
    "from config import user, password, hostname"
   ]
  },
  {
   "source": [
    "### Connecting to database"
   ],
   "cell_type": "markdown",
   "metadata": {}
  },
  {
   "cell_type": "code",
   "execution_count": 70,
   "metadata": {},
   "outputs": [
    {
     "output_type": "execute_result",
     "data": {
      "text/plain": [
       "['stock', 'tweets_text', 'twitter_vs_stocks']"
      ]
     },
     "metadata": {},
     "execution_count": 70
    }
   ],
   "source": [
    "# Create engine\n",
    "engine = create_engine(f'postgres+psycopg2://{user}:{password}@{hostname}/twitter_vs_stocks')\n",
    "\n",
    "# Use the Inspector to explore the database and print the table names\n",
    "inspector = inspect(engine)\n",
    "inspector.get_table_names()"
   ]
  },
  {
   "cell_type": "code",
   "execution_count": 72,
   "metadata": {},
   "outputs": [
    {
     "output_type": "execute_result",
     "data": {
      "text/plain": [
       "        date                                     tokenized_text  like_count  \\\n",
       "0 2021-07-09  ['solar', 'powerwall', 'battery', 'ensures', '...       37454   \n",
       "1 2021-07-09  ['tesla', 'solar', 'roof', 'powerwall', 'major...       13972   \n",
       "2 2021-07-09  ['autonomous', 'spacex', 'droneship', 'shortfa...       63291   \n",
       "3 2021-07-09  ['electrekco', 'bought', 'first', 'tesla', her...           0   \n",
       "4 2021-07-08                 ['maybe', 'movie', 'gaslit', 'us']       26485   \n",
       "\n",
       "   quote_count  reply_count  retweet_count    change    volume  \n",
       "0          400         4443           2871  4.140015  18118500  \n",
       "1          119         2185           1407  4.140015  18118500  \n",
       "2          860         3653           6553  4.140015  18118500  \n",
       "3            0            0            979  4.140015  18118500  \n",
       "4           92         1927           1045  8.159973  22773300  "
      ],
      "text/html": "<div>\n<style scoped>\n    .dataframe tbody tr th:only-of-type {\n        vertical-align: middle;\n    }\n\n    .dataframe tbody tr th {\n        vertical-align: top;\n    }\n\n    .dataframe thead th {\n        text-align: right;\n    }\n</style>\n<table border=\"1\" class=\"dataframe\">\n  <thead>\n    <tr style=\"text-align: right;\">\n      <th></th>\n      <th>date</th>\n      <th>tokenized_text</th>\n      <th>like_count</th>\n      <th>quote_count</th>\n      <th>reply_count</th>\n      <th>retweet_count</th>\n      <th>change</th>\n      <th>volume</th>\n    </tr>\n  </thead>\n  <tbody>\n    <tr>\n      <th>0</th>\n      <td>2021-07-09</td>\n      <td>['solar', 'powerwall', 'battery', 'ensures', '...</td>\n      <td>37454</td>\n      <td>400</td>\n      <td>4443</td>\n      <td>2871</td>\n      <td>4.140015</td>\n      <td>18118500</td>\n    </tr>\n    <tr>\n      <th>1</th>\n      <td>2021-07-09</td>\n      <td>['tesla', 'solar', 'roof', 'powerwall', 'major...</td>\n      <td>13972</td>\n      <td>119</td>\n      <td>2185</td>\n      <td>1407</td>\n      <td>4.140015</td>\n      <td>18118500</td>\n    </tr>\n    <tr>\n      <th>2</th>\n      <td>2021-07-09</td>\n      <td>['autonomous', 'spacex', 'droneship', 'shortfa...</td>\n      <td>63291</td>\n      <td>860</td>\n      <td>3653</td>\n      <td>6553</td>\n      <td>4.140015</td>\n      <td>18118500</td>\n    </tr>\n    <tr>\n      <th>3</th>\n      <td>2021-07-09</td>\n      <td>['electrekco', 'bought', 'first', 'tesla', her...</td>\n      <td>0</td>\n      <td>0</td>\n      <td>0</td>\n      <td>979</td>\n      <td>4.140015</td>\n      <td>18118500</td>\n    </tr>\n    <tr>\n      <th>4</th>\n      <td>2021-07-08</td>\n      <td>['maybe', 'movie', 'gaslit', 'us']</td>\n      <td>26485</td>\n      <td>92</td>\n      <td>1927</td>\n      <td>1045</td>\n      <td>8.159973</td>\n      <td>22773300</td>\n    </tr>\n  </tbody>\n</table>\n</div>"
     },
     "metadata": {},
     "execution_count": 72
    }
   ],
   "source": [
    "twitter_vs_stocks = pd.read_sql_table(\n",
    "    'twitter_vs_stocks',\n",
    "    con=engine\n",
    ")\n",
    "twitter_vs_stocks.head()"
   ]
  },
  {
   "cell_type": "code",
   "execution_count": null,
   "metadata": {},
   "outputs": [],
   "source": [
    "# reflect an existing database into a new model\n",
    "Base = automap_base()\n",
    "\n",
    "# reflect the tables\n",
    "Base.prepare(engine, reflect=True)\n",
    "Base.classes.keys()"
   ]
  },
  {
   "cell_type": "code",
   "execution_count": 33,
   "metadata": {},
   "outputs": [
    {
     "output_type": "error",
     "ename": "AttributeError",
     "evalue": "twitter_vs_stocks",
     "traceback": [
      "\u001b[0;31m---------------------------------------------------------------------------\u001b[0m",
      "\u001b[0;31mKeyError\u001b[0m                                  Traceback (most recent call last)",
      "\u001b[0;32m~/opt/anaconda3/envs/PythonData/lib/python3.8/site-packages/sqlalchemy/util/_collections.py\u001b[0m in \u001b[0;36m__getattr__\u001b[0;34m(self, key)\u001b[0m\n\u001b[1;32m    209\u001b[0m         \u001b[0;32mtry\u001b[0m\u001b[0;34m:\u001b[0m\u001b[0;34m\u001b[0m\u001b[0;34m\u001b[0m\u001b[0m\n\u001b[0;32m--> 210\u001b[0;31m             \u001b[0;32mreturn\u001b[0m \u001b[0mself\u001b[0m\u001b[0;34m.\u001b[0m\u001b[0m_data\u001b[0m\u001b[0;34m[\u001b[0m\u001b[0mkey\u001b[0m\u001b[0;34m]\u001b[0m\u001b[0;34m\u001b[0m\u001b[0;34m\u001b[0m\u001b[0m\n\u001b[0m\u001b[1;32m    211\u001b[0m         \u001b[0;32mexcept\u001b[0m \u001b[0mKeyError\u001b[0m\u001b[0;34m:\u001b[0m\u001b[0;34m\u001b[0m\u001b[0;34m\u001b[0m\u001b[0m\n",
      "\u001b[0;31mKeyError\u001b[0m: 'twitter_vs_stocks'",
      "\nDuring handling of the above exception, another exception occurred:\n",
      "\u001b[0;31mAttributeError\u001b[0m                            Traceback (most recent call last)",
      "\u001b[0;32m<ipython-input-33-7a7051925c74>\u001b[0m in \u001b[0;36m<module>\u001b[0;34m\u001b[0m\n\u001b[1;32m      1\u001b[0m \u001b[0;31m# change name of table -----------------------------<<<<<<<<<<<<<<<<<<\u001b[0m\u001b[0;34m\u001b[0m\u001b[0;34m\u001b[0m\u001b[0;34m\u001b[0m\u001b[0m\n\u001b[0;32m----> 2\u001b[0;31m \u001b[0mposts_vs_stock\u001b[0m \u001b[0;34m=\u001b[0m \u001b[0mBase\u001b[0m\u001b[0;34m.\u001b[0m\u001b[0mclasses\u001b[0m\u001b[0;34m.\u001b[0m\u001b[0mtwitter_vs_stocks\u001b[0m\u001b[0;34m\u001b[0m\u001b[0;34m\u001b[0m\u001b[0m\n\u001b[0m",
      "\u001b[0;32m~/opt/anaconda3/envs/PythonData/lib/python3.8/site-packages/sqlalchemy/util/_collections.py\u001b[0m in \u001b[0;36m__getattr__\u001b[0;34m(self, key)\u001b[0m\n\u001b[1;32m    210\u001b[0m             \u001b[0;32mreturn\u001b[0m \u001b[0mself\u001b[0m\u001b[0;34m.\u001b[0m\u001b[0m_data\u001b[0m\u001b[0;34m[\u001b[0m\u001b[0mkey\u001b[0m\u001b[0;34m]\u001b[0m\u001b[0;34m\u001b[0m\u001b[0;34m\u001b[0m\u001b[0m\n\u001b[1;32m    211\u001b[0m         \u001b[0;32mexcept\u001b[0m \u001b[0mKeyError\u001b[0m\u001b[0;34m:\u001b[0m\u001b[0;34m\u001b[0m\u001b[0;34m\u001b[0m\u001b[0m\n\u001b[0;32m--> 212\u001b[0;31m             \u001b[0;32mraise\u001b[0m \u001b[0mAttributeError\u001b[0m\u001b[0;34m(\u001b[0m\u001b[0mkey\u001b[0m\u001b[0;34m)\u001b[0m\u001b[0;34m\u001b[0m\u001b[0;34m\u001b[0m\u001b[0m\n\u001b[0m\u001b[1;32m    213\u001b[0m \u001b[0;34m\u001b[0m\u001b[0m\n\u001b[1;32m    214\u001b[0m     \u001b[0;32mdef\u001b[0m \u001b[0m__contains__\u001b[0m\u001b[0;34m(\u001b[0m\u001b[0mself\u001b[0m\u001b[0;34m,\u001b[0m \u001b[0mkey\u001b[0m\u001b[0;34m)\u001b[0m\u001b[0;34m:\u001b[0m\u001b[0;34m\u001b[0m\u001b[0;34m\u001b[0m\u001b[0m\n",
      "\u001b[0;31mAttributeError\u001b[0m: twitter_vs_stocks"
     ]
    }
   ],
   "source": [
    "# change name of table -----------------------------<<<<<<<<<<<<<<<<<<\n",
    "posts_vs_stock = Base.classes.twitter_vs_stocks"
   ]
  },
  {
   "cell_type": "code",
   "execution_count": 34,
   "metadata": {},
   "outputs": [
    {
     "output_type": "execute_result",
     "data": {
      "text/plain": [
       "['stock', 'tweets_text', 'twitter_vs_stocks']"
      ]
     },
     "metadata": {},
     "execution_count": 34
    }
   ],
   "source": [
    "# Use the Inspector to explore the database and print the table names\n",
    "inspector = inspect(engine)\n",
    "inspector.get_table_names()"
   ]
  },
  {
   "cell_type": "code",
   "execution_count": 63,
   "metadata": {},
   "outputs": [],
   "source": [
    "from sqlalchemy import Column, Integer, String, Date, Float\n",
    "from sqlalchemy.ext.declarative import declarative_base\n",
    "\n",
    "Base = declarative_base()\n",
    "\n",
    "class twitter_vs_stocks(Base):\n",
    "    __tablename__ = 'twitter_vs_stocks'\n",
    "    date = Column(Date)\n",
    "    tokenized_text = Column(String, primary_key=True)\n",
    "    like_count = Column(Integer)\n",
    "    quote_count = Column(Integer)\n",
    "    reply_count = Column(Integer)\n",
    "    retweet_count = Column(Integer)\n",
    "    change = Column(Float)\n",
    "    volume = Column(Integer)\n",
    "\n",
    "    def __repr__(self):\n",
    "        return \"(date='{}', tokenized_text='{}', like_count={}, quote_count={}, reply_count={}, retweet_count={}, change={}, volume={})\"\\\n",
    "                .format(self.date, self.tokenized_text, self.like_count, self.quote_count, self.reply_count, self.retweet_count, \\\n",
    "                    self.change, self.volume)"
   ]
  },
  {
   "cell_type": "code",
   "execution_count": 64,
   "metadata": {},
   "outputs": [],
   "source": [
    "# Create  session from Python to the DB\n",
    "session = Session(engine)"
   ]
  },
  {
   "cell_type": "code",
   "execution_count": 65,
   "metadata": {},
   "outputs": [],
   "source": [
    "results = session.query(twitter_vs_stocks).first()"
   ]
  },
  {
   "cell_type": "code",
   "execution_count": 66,
   "metadata": {},
   "outputs": [
    {
     "output_type": "execute_result",
     "data": {
      "text/plain": [
       "(date='2021-07-09', tokenized_text='['solar', 'powerwall', 'battery', 'ensures', 'home', 'never', 'loses', 'power']', like_count=37454, quote_count=400, reply_count=4443, retweet_count=2871, change=4.1400146484375, volume=18118500)"
      ]
     },
     "metadata": {},
     "execution_count": 66
    }
   ],
   "source": [
    "results"
   ]
  },
  {
   "cell_type": "code",
   "execution_count": 67,
   "metadata": {},
   "outputs": [
    {
     "output_type": "error",
     "ename": "ValueError",
     "evalue": "DataFrame constructor not properly called!",
     "traceback": [
      "\u001b[0;31m---------------------------------------------------------------------------\u001b[0m",
      "\u001b[0;31mValueError\u001b[0m                                Traceback (most recent call last)",
      "\u001b[0;32m<ipython-input-67-1f451dbe8b6d>\u001b[0m in \u001b[0;36m<module>\u001b[0;34m\u001b[0m\n\u001b[0;32m----> 1\u001b[0;31m \u001b[0mdf\u001b[0m \u001b[0;34m=\u001b[0m \u001b[0mpd\u001b[0m\u001b[0;34m.\u001b[0m\u001b[0mDataFrame\u001b[0m\u001b[0;34m(\u001b[0m\u001b[0mresults\u001b[0m\u001b[0;34m,\u001b[0m \u001b[0mcolumns\u001b[0m\u001b[0;34m=\u001b[0m\u001b[0;34m[\u001b[0m\u001b[0;34m'date'\u001b[0m\u001b[0;34m,\u001b[0m\u001b[0;34m'tokenized_text'\u001b[0m\u001b[0;34m,\u001b[0m \u001b[0;34m'like_count'\u001b[0m\u001b[0;34m,\u001b[0m \u001b[0;34m'quote_count'\u001b[0m\u001b[0;34m,\u001b[0m \u001b[0;34m'reply_count'\u001b[0m\u001b[0;34m,\u001b[0m \u001b[0;34m'retweet_count'\u001b[0m\u001b[0;34m,\u001b[0m \u001b[0;34m'change'\u001b[0m\u001b[0;34m,\u001b[0m \u001b[0;34m'volume'\u001b[0m\u001b[0;34m]\u001b[0m\u001b[0;34m)\u001b[0m\u001b[0;34m\u001b[0m\u001b[0;34m\u001b[0m\u001b[0m\n\u001b[0m\u001b[1;32m      2\u001b[0m \u001b[0mdf\u001b[0m\u001b[0;34m.\u001b[0m\u001b[0mset_index\u001b[0m\u001b[0;34m(\u001b[0m\u001b[0mdf\u001b[0m\u001b[0;34m[\u001b[0m\u001b[0;34m'date'\u001b[0m\u001b[0;34m]\u001b[0m\u001b[0;34m,\u001b[0m \u001b[0minplace\u001b[0m\u001b[0;34m=\u001b[0m\u001b[0;32mTrue\u001b[0m\u001b[0;34m)\u001b[0m\u001b[0;34m\u001b[0m\u001b[0;34m\u001b[0m\u001b[0m\n\u001b[1;32m      3\u001b[0m \u001b[0mdf\u001b[0m\u001b[0;34m.\u001b[0m\u001b[0mhead\u001b[0m\u001b[0;34m(\u001b[0m\u001b[0;34m)\u001b[0m\u001b[0;34m\u001b[0m\u001b[0;34m\u001b[0m\u001b[0m\n",
      "\u001b[0;32m~/opt/anaconda3/envs/PythonData/lib/python3.8/site-packages/pandas/core/frame.py\u001b[0m in \u001b[0;36m__init__\u001b[0;34m(self, data, index, columns, dtype, copy)\u001b[0m\n\u001b[1;32m    527\u001b[0m         \u001b[0;32melse\u001b[0m\u001b[0;34m:\u001b[0m\u001b[0;34m\u001b[0m\u001b[0;34m\u001b[0m\u001b[0m\n\u001b[1;32m    528\u001b[0m             \u001b[0;32mif\u001b[0m \u001b[0mindex\u001b[0m \u001b[0;32mis\u001b[0m \u001b[0;32mNone\u001b[0m \u001b[0;32mor\u001b[0m \u001b[0mcolumns\u001b[0m \u001b[0;32mis\u001b[0m \u001b[0;32mNone\u001b[0m\u001b[0;34m:\u001b[0m\u001b[0;34m\u001b[0m\u001b[0;34m\u001b[0m\u001b[0m\n\u001b[0;32m--> 529\u001b[0;31m                 \u001b[0;32mraise\u001b[0m \u001b[0mValueError\u001b[0m\u001b[0;34m(\u001b[0m\u001b[0;34m\"DataFrame constructor not properly called!\"\u001b[0m\u001b[0;34m)\u001b[0m\u001b[0;34m\u001b[0m\u001b[0;34m\u001b[0m\u001b[0m\n\u001b[0m\u001b[1;32m    530\u001b[0m \u001b[0;34m\u001b[0m\u001b[0m\n\u001b[1;32m    531\u001b[0m             \u001b[0;32mif\u001b[0m \u001b[0;32mnot\u001b[0m \u001b[0mdtype\u001b[0m\u001b[0;34m:\u001b[0m\u001b[0;34m\u001b[0m\u001b[0;34m\u001b[0m\u001b[0m\n",
      "\u001b[0;31mValueError\u001b[0m: DataFrame constructor not properly called!"
     ]
    }
   ],
   "source": [
    "df = pd.DataFrame(results, columns=['date','tokenized_text', 'like_count', 'quote_count', 'reply_count', 'retweet_count', 'change', 'volume'])\n",
    "df.set_index(df['date'], inplace=True)\n",
    "df.head()"
   ]
  },
  {
   "cell_type": "code",
   "execution_count": 68,
   "metadata": {},
   "outputs": [
    {
     "output_type": "execute_result",
     "data": {
      "text/plain": [
       "        date                                     tokenized_text  like_count  \\\n",
       "0 2021-07-09  ['solar', 'powerwall', 'battery', 'ensures', '...       37454   \n",
       "1 2021-07-09  ['tesla', 'solar', 'roof', 'powerwall', 'major...       13972   \n",
       "2 2021-07-09  ['autonomous', 'spacex', 'droneship', 'shortfa...       63291   \n",
       "3 2021-07-09  ['electrekco', 'bought', 'first', 'tesla', her...           0   \n",
       "4 2021-07-08                 ['maybe', 'movie', 'gaslit', 'us']       26485   \n",
       "\n",
       "   quote_count  reply_count  retweet_count    change    volume  \n",
       "0          400         4443           2871  4.140015  18118500  \n",
       "1          119         2185           1407  4.140015  18118500  \n",
       "2          860         3653           6553  4.140015  18118500  \n",
       "3            0            0            979  4.140015  18118500  \n",
       "4           92         1927           1045  8.159973  22773300  "
      ],
      "text/html": "<div>\n<style scoped>\n    .dataframe tbody tr th:only-of-type {\n        vertical-align: middle;\n    }\n\n    .dataframe tbody tr th {\n        vertical-align: top;\n    }\n\n    .dataframe thead th {\n        text-align: right;\n    }\n</style>\n<table border=\"1\" class=\"dataframe\">\n  <thead>\n    <tr style=\"text-align: right;\">\n      <th></th>\n      <th>date</th>\n      <th>tokenized_text</th>\n      <th>like_count</th>\n      <th>quote_count</th>\n      <th>reply_count</th>\n      <th>retweet_count</th>\n      <th>change</th>\n      <th>volume</th>\n    </tr>\n  </thead>\n  <tbody>\n    <tr>\n      <th>0</th>\n      <td>2021-07-09</td>\n      <td>['solar', 'powerwall', 'battery', 'ensures', '...</td>\n      <td>37454</td>\n      <td>400</td>\n      <td>4443</td>\n      <td>2871</td>\n      <td>4.140015</td>\n      <td>18118500</td>\n    </tr>\n    <tr>\n      <th>1</th>\n      <td>2021-07-09</td>\n      <td>['tesla', 'solar', 'roof', 'powerwall', 'major...</td>\n      <td>13972</td>\n      <td>119</td>\n      <td>2185</td>\n      <td>1407</td>\n      <td>4.140015</td>\n      <td>18118500</td>\n    </tr>\n    <tr>\n      <th>2</th>\n      <td>2021-07-09</td>\n      <td>['autonomous', 'spacex', 'droneship', 'shortfa...</td>\n      <td>63291</td>\n      <td>860</td>\n      <td>3653</td>\n      <td>6553</td>\n      <td>4.140015</td>\n      <td>18118500</td>\n    </tr>\n    <tr>\n      <th>3</th>\n      <td>2021-07-09</td>\n      <td>['electrekco', 'bought', 'first', 'tesla', her...</td>\n      <td>0</td>\n      <td>0</td>\n      <td>0</td>\n      <td>979</td>\n      <td>4.140015</td>\n      <td>18118500</td>\n    </tr>\n    <tr>\n      <th>4</th>\n      <td>2021-07-08</td>\n      <td>['maybe', 'movie', 'gaslit', 'us']</td>\n      <td>26485</td>\n      <td>92</td>\n      <td>1927</td>\n      <td>1045</td>\n      <td>8.159973</td>\n      <td>22773300</td>\n    </tr>\n  </tbody>\n</table>\n</div>"
     },
     "metadata": {},
     "execution_count": 68
    }
   ],
   "source": [
    "table_df = pd.read_sql_table(\n",
    "    'twitter_vs_stocks',\n",
    "    con=engine\n",
    ")\n",
    "table_df.head()"
   ]
  },
  {
   "cell_type": "code",
   "execution_count": null,
   "metadata": {},
   "outputs": [],
   "source": []
  },
  {
   "cell_type": "code",
   "execution_count": null,
   "metadata": {},
   "outputs": [],
   "source": []
  },
  {
   "cell_type": "code",
   "execution_count": null,
   "metadata": {},
   "outputs": [],
   "source": []
  },
  {
   "cell_type": "code",
   "execution_count": null,
   "metadata": {},
   "outputs": [],
   "source": []
  },
  {
   "cell_type": "code",
   "execution_count": null,
   "metadata": {},
   "outputs": [],
   "source": [
    "session.close()"
   ]
  }
 ]
}