{
 "cells": [
  {
   "cell_type": "markdown",
   "id": "82f3a362",
   "metadata": {},
   "source": [
    "# Machine Learning Model - First Segment Project Deliverable"
   ]
  },
  {
   "cell_type": "markdown",
   "id": "9cc72a57",
   "metadata": {},
   "source": [
    "## Model Plan\n",
    "\n",
    "1. Prepare the dataframe with columns: tweet text, price previous day, price next day, price_diff\n",
    "2. Preprocess the tweet text into features (countVectorier, tfidf)\n",
    "    1. Classification: predict if it goes up or down (Binomial Naive Bayes)\n",
    "    2. Regress the actual price difference (RandomForests, if time allows XGBoost or lightgbm)\n",
    "3. Evaluate algorithms and discuss results"
   ]
  },
  {
   "cell_type": "markdown",
   "id": "5a412b2b",
   "metadata": {},
   "source": [
    "### 1. Prepare the dataframe with columns: tweet text, price previous day, price next day, price_diff"
   ]
  },
  {
   "cell_type": "code",
   "execution_count": 1,
   "id": "af82539e-5e32-4859-b979-65da960922b7",
   "metadata": {},
   "outputs": [],
   "source": [
    "# Set-up Imports:\n",
    "\n",
    "import requests\n",
    "import pandas as pd"
   ]
  },
  {
   "cell_type": "code",
   "execution_count": 2,
   "id": "082ce990-8e25-414b-abd2-5e1b515807e4",
   "metadata": {},
   "outputs": [],
   "source": [
    "# Import data\n",
    "tweets = pd.read_csv('https://raw.githubusercontent.com/angkohtenko/twitter_vs_stocks/kimberly_branch/Data/elon_tweets.csv')\n",
    "tweets = tweets[['date', 'text']]\n",
    "\n",
    "# import API key for financialmodelingprep.com\n",
    "from config import API_key_stocks\n",
    "\n",
    "url = 'https://financialmodelingprep.com/api/v3/historical-price-full/TSLA?serietype=line&apikey='+ API_key_stocks\n",
    "\n",
    "# Get data from API for Tesla stocks and reformat it\n",
    "tesla = requests.get(url).json()\n",
    "tesla_df = pd.DataFrame.from_dict(data=tesla['historical'])\n",
    "tesla_df['date'] = pd.to_datetime(tesla_df.date)\n",
    "tesla_df = tesla_df.set_index('date').resample('D').ffill().reset_index()"
   ]
  },
  {
   "cell_type": "code",
   "execution_count": 3,
   "id": "907d035e",
   "metadata": {},
   "outputs": [],
   "source": [
    "# Reformate Date abndn time types\n",
    "from datetime import timedelta\n",
    "\n",
    "tweets['prev_date'] = pd.to_datetime(tweets.date) - timedelta(days=1)\n",
    "tweets['next_date'] = pd.to_datetime(tweets.date) + timedelta(days=1)"
   ]
  },
  {
   "cell_type": "code",
   "execution_count": 4,
   "id": "767dfac2",
   "metadata": {},
   "outputs": [
    {
     "data": {
      "text/plain": [
       "(849, 4)"
      ]
     },
     "execution_count": 4,
     "metadata": {},
     "output_type": "execute_result"
    }
   ],
   "source": [
    "# Check for NaN\n",
    "tweets.dropna().shape"
   ]
  },
  {
   "cell_type": "code",
   "execution_count": 5,
   "id": "310b1449",
   "metadata": {},
   "outputs": [],
   "source": [
    "# Merge Dataframes \n",
    "tweets_price = pd.merge(tweets, tesla_df, how='left', left_on='prev_date', right_on='date', suffixes=('', '_prev'))\n",
    "tweets_price = pd.merge(tweets_price, tesla_df, how='left', left_on='next_date', right_on='date', suffixes=('', '_next'))"
   ]
  },
  {
   "cell_type": "code",
   "execution_count": 6,
   "id": "af307811",
   "metadata": {},
   "outputs": [
    {
     "data": {
      "text/plain": [
       "(845, 5)"
      ]
     },
     "execution_count": 6,
     "metadata": {},
     "output_type": "execute_result"
    }
   ],
   "source": [
    "# Rename Columns \n",
    "tweets_price = tweets_price.rename(columns={'close': 'close_prev'})\n",
    "tweets_price = tweets_price[['date', 'text', 'close_prev', 'close_next']]\n",
    "tweets_price['close_price_diff'] = tweets_price['close_next'] - tweets_price['close_prev']\n",
    "tweets_price.dropna(inplace=True)\n",
    "tweets_price.shape"
   ]
  },
  {
   "cell_type": "code",
   "execution_count": null,
   "id": "28b20155-ec8b-40e9-9972-17e0e983aac3",
   "metadata": {},
   "outputs": [],
   "source": []
  }
 ],
 "metadata": {
  "kernelspec": {
   "display_name": "mlenv",
   "language": "python",
   "name": "mlenv"
  },
  "language_info": {
   "codemirror_mode": {
    "name": "ipython",
    "version": 3
   },
   "file_extension": ".py",
   "mimetype": "text/x-python",
   "name": "python",
   "nbconvert_exporter": "python",
   "pygments_lexer": "ipython3",
   "version": "3.7.10"
  }
 },
 "nbformat": 4,
 "nbformat_minor": 5
}
