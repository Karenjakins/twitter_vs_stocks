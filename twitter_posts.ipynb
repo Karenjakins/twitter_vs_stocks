{
 "cells": [
  {
   "cell_type": "code",
   "execution_count": 33,
   "id": "7aa7cbb0",
   "metadata": {},
   "outputs": [],
   "source": [
    "from twarc import Twarc2, expansions\n",
    "import json\n",
    "import datetime\n",
    "import pandas as pd\n",
    "from pprint import pprint"
   ]
  },
  {
   "cell_type": "code",
   "execution_count": 2,
   "metadata": {},
   "outputs": [],
   "source": [
    "from config import bearer_token"
   ]
  },
  {
   "cell_type": "code",
   "execution_count": 3,
   "id": "44e07020",
   "metadata": {},
   "outputs": [],
   "source": [
    "client = Twarc2(bearer_token=bearer_token)"
   ]
  },
  {
   "cell_type": "code",
   "execution_count": 79,
   "metadata": {},
   "outputs": [],
   "source": [
    "user = 'elonmusk'\n",
    "posts_dict = {\n",
    "    'date':[],\n",
    "    'text':[],\n",
    "    'like_count':[],\n",
    "    'quote_count':[],\n",
    "    'reply_count':[],\n",
    "    'retweet_count':[]\n",
    "}"
   ]
  },
  {
   "cell_type": "code",
   "execution_count": 80,
   "metadata": {},
   "outputs": [],
   "source": [
    "# pull posts from Twitter and create a dictionary\n",
    "user_timeline = client.timeline(user=user, exclude_replies=True, start_time=datetime.datetime(2020, 1, 1) )\n",
    "for page in user_timeline:\n",
    "    result = expansions.flatten(page)\n",
    "    for tweet in result:\n",
    "        posts_dict['date'].append(tweet['created_at'])\n",
    "        posts_dict['text'].append(tweet['text'])\n",
    "        posts_dict['like_count'].append(tweet['public_metrics']['like_count'])\n",
    "        posts_dict['quote_count'].append(tweet['public_metrics']['quote_count'])\n",
    "        posts_dict['reply_count'].append(tweet['public_metrics']['reply_count'])\n",
    "        posts_dict['retweet_count'].append(tweet['public_metrics']['retweet_count'])\n"
   ]
  },
  {
   "cell_type": "code",
   "execution_count": 83,
   "metadata": {},
   "outputs": [
    {
     "output_type": "execute_result",
     "data": {
      "text/plain": [
       "                         date  \\\n",
       "0    2021-07-05T07:12:04.000Z   \n",
       "1    2021-07-04T18:06:48.000Z   \n",
       "2    2021-07-04T17:59:19.000Z   \n",
       "3    2021-07-03T21:23:23.000Z   \n",
       "4    2021-07-02T13:20:14.000Z   \n",
       "..                        ...   \n",
       "843  2020-06-10T14:15:45.000Z   \n",
       "844  2020-06-09T22:28:43.000Z   \n",
       "845  2020-06-08T18:18:41.000Z   \n",
       "846  2020-06-08T17:28:25.000Z   \n",
       "847  2020-06-07T00:46:56.000Z   \n",
       "\n",
       "                                                  text  like_count  \\\n",
       "0                                         Free Britney      404626   \n",
       "1                                    Happy 4th to all!       81689   \n",
       "2                Bless America https://t.co/QNagk4PArb      227398   \n",
       "3    New SpaceX Starlink cover shows transfer orbit...       93831   \n",
       "4                              https://t.co/oGKHhHROQa      196814   \n",
       "..                                                 ...         ...   \n",
       "843  Wort reading the whole thing\\nhttps://t.co/4ly...       37342   \n",
       "844  RT @SpaceX: Starlink fairing deploy sequence h...           0   \n",
       "845  Wow, this is extremely important!! https://t.c...       51626   \n",
       "846               Stankonia at https://t.co/LJJCD7BAgX       49419   \n",
       "847                                    Gateway to Mars       63010   \n",
       "\n",
       "     quote_count  reply_count  retweet_count  \n",
       "0           3281        16202          49791  \n",
       "1            117         3264           3302  \n",
       "2           1210        10967          12252  \n",
       "3            444         6181           6202  \n",
       "4           2224        15970          19628  \n",
       "..           ...          ...            ...  \n",
       "843          389         2060           2833  \n",
       "844            0            0          14212  \n",
       "845          226         1249           3832  \n",
       "846          428         1643           3888  \n",
       "847          280         1499           3058  \n",
       "\n",
       "[848 rows x 6 columns]"
      ],
      "text/html": "<div>\n<style scoped>\n    .dataframe tbody tr th:only-of-type {\n        vertical-align: middle;\n    }\n\n    .dataframe tbody tr th {\n        vertical-align: top;\n    }\n\n    .dataframe thead th {\n        text-align: right;\n    }\n</style>\n<table border=\"1\" class=\"dataframe\">\n  <thead>\n    <tr style=\"text-align: right;\">\n      <th></th>\n      <th>date</th>\n      <th>text</th>\n      <th>like_count</th>\n      <th>quote_count</th>\n      <th>reply_count</th>\n      <th>retweet_count</th>\n    </tr>\n  </thead>\n  <tbody>\n    <tr>\n      <th>0</th>\n      <td>2021-07-05T07:12:04.000Z</td>\n      <td>Free Britney</td>\n      <td>404626</td>\n      <td>3281</td>\n      <td>16202</td>\n      <td>49791</td>\n    </tr>\n    <tr>\n      <th>1</th>\n      <td>2021-07-04T18:06:48.000Z</td>\n      <td>Happy 4th to all!</td>\n      <td>81689</td>\n      <td>117</td>\n      <td>3264</td>\n      <td>3302</td>\n    </tr>\n    <tr>\n      <th>2</th>\n      <td>2021-07-04T17:59:19.000Z</td>\n      <td>Bless America https://t.co/QNagk4PArb</td>\n      <td>227398</td>\n      <td>1210</td>\n      <td>10967</td>\n      <td>12252</td>\n    </tr>\n    <tr>\n      <th>3</th>\n      <td>2021-07-03T21:23:23.000Z</td>\n      <td>New SpaceX Starlink cover shows transfer orbit...</td>\n      <td>93831</td>\n      <td>444</td>\n      <td>6181</td>\n      <td>6202</td>\n    </tr>\n    <tr>\n      <th>4</th>\n      <td>2021-07-02T13:20:14.000Z</td>\n      <td>https://t.co/oGKHhHROQa</td>\n      <td>196814</td>\n      <td>2224</td>\n      <td>15970</td>\n      <td>19628</td>\n    </tr>\n    <tr>\n      <th>...</th>\n      <td>...</td>\n      <td>...</td>\n      <td>...</td>\n      <td>...</td>\n      <td>...</td>\n      <td>...</td>\n    </tr>\n    <tr>\n      <th>843</th>\n      <td>2020-06-10T14:15:45.000Z</td>\n      <td>Wort reading the whole thing\\nhttps://t.co/4ly...</td>\n      <td>37342</td>\n      <td>389</td>\n      <td>2060</td>\n      <td>2833</td>\n    </tr>\n    <tr>\n      <th>844</th>\n      <td>2020-06-09T22:28:43.000Z</td>\n      <td>RT @SpaceX: Starlink fairing deploy sequence h...</td>\n      <td>0</td>\n      <td>0</td>\n      <td>0</td>\n      <td>14212</td>\n    </tr>\n    <tr>\n      <th>845</th>\n      <td>2020-06-08T18:18:41.000Z</td>\n      <td>Wow, this is extremely important!! https://t.c...</td>\n      <td>51626</td>\n      <td>226</td>\n      <td>1249</td>\n      <td>3832</td>\n    </tr>\n    <tr>\n      <th>846</th>\n      <td>2020-06-08T17:28:25.000Z</td>\n      <td>Stankonia at https://t.co/LJJCD7BAgX</td>\n      <td>49419</td>\n      <td>428</td>\n      <td>1643</td>\n      <td>3888</td>\n    </tr>\n    <tr>\n      <th>847</th>\n      <td>2020-06-07T00:46:56.000Z</td>\n      <td>Gateway to Mars</td>\n      <td>63010</td>\n      <td>280</td>\n      <td>1499</td>\n      <td>3058</td>\n    </tr>\n  </tbody>\n</table>\n<p>848 rows × 6 columns</p>\n</div>"
     },
     "metadata": {},
     "execution_count": 83
    }
   ],
   "source": [
    "# convert dictionary of posts to dataframe\n",
    "df_posts = pd.DataFrame.from_dict(posts_dict)\n",
    "df_posts"
   ]
  },
  {
   "cell_type": "code",
   "execution_count": null,
   "metadata": {},
   "outputs": [],
   "source": []
  }
 ],
 "metadata": {
  "kernelspec": {
   "name": "python3",
   "display_name": "Python 3.7.10 64-bit ('mlenv': conda)"
  },
  "language_info": {
   "codemirror_mode": {
    "name": "ipython",
    "version": 3
   },
   "file_extension": ".py",
   "mimetype": "text/x-python",
   "name": "python",
   "nbconvert_exporter": "python",
   "pygments_lexer": "ipython3",
   "version": "3.7.10"
  },
  "interpreter": {
   "hash": "801dd5eee37480936b14d219984276aecdbc0fffcaa1c38299e8fde776f1c6c6"
  }
 },
 "nbformat": 4,
 "nbformat_minor": 5
}