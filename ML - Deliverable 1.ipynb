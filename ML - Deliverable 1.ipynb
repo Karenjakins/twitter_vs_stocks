{
 "cells": [
  {
   "cell_type": "markdown",
   "id": "82f3a362",
   "metadata": {},
   "source": [
    "# Machine Learning Model - First Segment Project Deliverable"
   ]
  },
  {
   "cell_type": "markdown",
   "id": "9cc72a57",
   "metadata": {},
   "source": [
    "## Model Plan\n",
    "\n",
    "1. Prepare the dataframe with columns: tweet text, price previous day, price next day, price_diff\n",
    "2. Preprocess the tweet text into features (countVectorier, tfidf)\n",
    "    1. Classification: predict if it goes up or down (Binomial Naive Bayes)\n",
    "    2. Regress the actual price difference (RandomForests, if time allows XGBoost or lightgbm)\n",
    "3. Evaluate algorithms and discuss results"
   ]
  },
  {
   "cell_type": "markdown",
   "id": "5a412b2b",
   "metadata": {},
   "source": [
    "### 1. Prepare the dataframe with columns: tweet text, price previous day, price next day, price_diff"
   ]
  },
  {
   "cell_type": "code",
   "execution_count": 1,
   "id": "af82539e-5e32-4859-b979-65da960922b7",
   "metadata": {},
   "outputs": [],
   "source": [
    "# Set-up Imports:\n",
    "\n",
    "import requests\n",
    "import pandas as pd"
   ]
  },
  {
   "cell_type": "code",
   "execution_count": 2,
   "id": "082ce990-8e25-414b-abd2-5e1b515807e4",
   "metadata": {},
   "outputs": [],
   "source": [
    "# Import data\n",
    "tweets = pd.read_csv('https://raw.githubusercontent.com/angkohtenko/twitter_vs_stocks/kimberly_branch/Data/elon_tweets.csv')\n",
    "tweets = tweets[['date', 'text']]\n",
    "\n",
    "# import API key for financialmodelingprep.com\n",
    "from config import API_key_stocks\n",
    "\n",
    "url = 'https://financialmodelingprep.com/api/v3/historical-price-full/TSLA?serietype=line&apikey='+ API_key_stocks\n",
    "\n",
    "# Get data from API for Tesla stocks and reformat it\n",
    "tesla = requests.get(url).json()\n",
    "tesla_df = pd.DataFrame.from_dict(data=tesla['historical'])\n",
    "tesla_df['date'] = pd.to_datetime(tesla_df.date)\n",
    "tesla_df = tesla_df.set_index('date').resample('D').ffill().reset_index()"
   ]
  },
  {
   "cell_type": "code",
   "execution_count": 3,
   "id": "907d035e",
   "metadata": {},
   "outputs": [],
   "source": [
    "# Reformate Date abndn time types\n",
    "from datetime import timedelta\n",
    "\n",
    "tweets['prev_date'] = pd.to_datetime(tweets.date) - timedelta(days=1)\n",
    "tweets['next_date'] = pd.to_datetime(tweets.date) + timedelta(days=1)"
   ]
  },
  {
   "cell_type": "code",
   "execution_count": 4,
   "id": "767dfac2",
   "metadata": {},
   "outputs": [
    {
     "data": {
      "text/plain": [
       "(849, 4)"
      ]
     },
     "execution_count": 4,
     "metadata": {},
     "output_type": "execute_result"
    }
   ],
   "source": [
    "# Check for NaN\n",
    "tweets.dropna().shape"
   ]
  },
  {
   "cell_type": "code",
   "execution_count": 5,
   "id": "310b1449",
   "metadata": {},
   "outputs": [],
   "source": [
    "# Merge Dataframes \n",
    "tweets_price = pd.merge(tweets, tesla_df, how='left', left_on='prev_date', right_on='date', suffixes=('', '_prev'))\n",
    "tweets_price = pd.merge(tweets_price, tesla_df, how='left', left_on='next_date', right_on='date', suffixes=('', '_next'))"
   ]
  },
  {
   "cell_type": "code",
   "execution_count": 6,
   "id": "af307811",
   "metadata": {},
   "outputs": [
    {
     "data": {
      "text/plain": [
       "(845, 5)"
      ]
     },
     "execution_count": 6,
     "metadata": {},
     "output_type": "execute_result"
    }
   ],
   "source": [
    "# Rename Columns \n",
    "tweets_price = tweets_price.rename(columns={'close': 'close_prev'})\n",
    "tweets_price = tweets_price[['date', 'text', 'close_prev', 'close_next']]\n",
    "tweets_price['close_price_diff'] = tweets_price['close_next'] - tweets_price['close_prev']\n",
    "tweets_price.dropna(inplace=True)\n",
    "tweets_price.shape"
   ]
  },
  {
   "cell_type": "markdown",
   "id": "96593c41",
   "metadata": {},
   "source": [
    "## A - Classification: Which tweets increase stock price vs decrease\n",
    "    -Preprocess the tweet text into features (countVectorier, tfidf)\n",
    "    -Classification: predict if it goes up or down (Binomial Naive Bayes)"
   ]
  },
  {
   "cell_type": "code",
   "execution_count": 7,
   "id": "6f35a147",
   "metadata": {},
   "outputs": [],
   "source": [
    "# Setting up libraries for model\n",
    "\n",
    "from sklearn.feature_extraction.text import CountVectorizer\n",
    "from sklearn.feature_extraction.text import TfidfTransformer\n",
    "from sklearn.naive_bayes import MultinomialNB\n",
    "from sklearn.pipeline import Pipeline\n",
    "from sklearn.model_selection import train_test_split\n",
    "\n",
    "text_clf = Pipeline([\n",
    "    ('vect', CountVectorizer()),\n",
    "    ('tfidf', TfidfTransformer()),\n",
    "    ('clf', MultinomialNB()),\n",
    "])"
   ]
  },
  {
   "cell_type": "code",
   "execution_count": 8,
   "id": "54d3a93b",
   "metadata": {},
   "outputs": [],
   "source": [
    "# Setting up variables\n",
    "X = tweets_price.text.tolist()\n",
    "y = (tweets_price['close_price_diff'] > 0).astype(int).values"
   ]
  },
  {
   "cell_type": "code",
   "execution_count": 9,
   "id": "846b1940",
   "metadata": {},
   "outputs": [],
   "source": [
    "# Separating data from training vs testing data\n",
    "X_train, X_test, y_train, y_test = train_test_split(X, y)"
   ]
  },
  {
   "cell_type": "code",
   "execution_count": 10,
   "id": "8c6487e4",
   "metadata": {},
   "outputs": [
    {
     "data": {
      "text/plain": [
       "Pipeline(steps=[('vect', CountVectorizer()), ('tfidf', TfidfTransformer()),\n",
       "                ('clf', MultinomialNB())])"
      ]
     },
     "execution_count": 10,
     "metadata": {},
     "output_type": "execute_result"
    }
   ],
   "source": [
    "# Classify text data\n",
    "text_clf.fit(X_train, y_train)"
   ]
  },
  {
   "cell_type": "code",
   "execution_count": 11,
   "id": "82f67577",
   "metadata": {},
   "outputs": [],
   "source": [
    "# Testing predicted probability\n",
    "predicted_proba_test = text_clf.predict_proba(X_test)[:, 1]"
   ]
  },
  {
   "cell_type": "code",
   "execution_count": 12,
   "id": "e8dac268",
   "metadata": {},
   "outputs": [
    {
     "data": {
      "text/html": [
       "<div>\n",
       "<style scoped>\n",
       "    .dataframe tbody tr th:only-of-type {\n",
       "        vertical-align: middle;\n",
       "    }\n",
       "\n",
       "    .dataframe tbody tr th {\n",
       "        vertical-align: top;\n",
       "    }\n",
       "\n",
       "    .dataframe thead th {\n",
       "        text-align: right;\n",
       "    }\n",
       "</style>\n",
       "<table border=\"1\" class=\"dataframe\">\n",
       "  <thead>\n",
       "    <tr style=\"text-align: right;\">\n",
       "      <th></th>\n",
       "      <th>proba_positive_tweet</th>\n",
       "      <th>tweet</th>\n",
       "      <th>label</th>\n",
       "    </tr>\n",
       "  </thead>\n",
       "  <tbody>\n",
       "    <tr>\n",
       "      <th>143</th>\n",
       "      <td>0.848459</td>\n",
       "      <td>RT @SpaceX: Falcon 9’s first stage has landed on the Of Course I Still Love You droneship https://t.co/szO3thMxqa</td>\n",
       "      <td>0</td>\n",
       "    </tr>\n",
       "    <tr>\n",
       "      <th>45</th>\n",
       "      <td>0.823316</td>\n",
       "      <td>RT @SpaceX: Falcon 9’s first stage lands on the Of Course I Still Love You droneship https://t.co/hd0IBPX3T5</td>\n",
       "      <td>0</td>\n",
       "    </tr>\n",
       "    <tr>\n",
       "      <th>122</th>\n",
       "      <td>0.821067</td>\n",
       "      <td>RT @SpaceX: Falcon 9’s first stage has landed on the Of Course I Still Love You droneship – the 9th landing of this booster https://t.co/wz…</td>\n",
       "      <td>0</td>\n",
       "    </tr>\n",
       "    <tr>\n",
       "      <th>14</th>\n",
       "      <td>0.699693</td>\n",
       "      <td>RT @SpaceX: Falcon 9 lands on Just Read the Instructions after delivering GPS III Space Vehicle 03 to orbit for the @SpaceForceDoD https://…</td>\n",
       "      <td>0</td>\n",
       "    </tr>\n",
       "    <tr>\n",
       "      <th>142</th>\n",
       "      <td>0.690645</td>\n",
       "      <td>RT @SpaceX: Falcon 9’s first stage has landed on Landing Zone 1! https://t.co/26M9Ptomg7</td>\n",
       "      <td>0</td>\n",
       "    </tr>\n",
       "  </tbody>\n",
       "</table>\n",
       "</div>"
      ],
      "text/plain": [
       "     proba_positive_tweet  \\\n",
       "143              0.848459   \n",
       "45               0.823316   \n",
       "122              0.821067   \n",
       "14               0.699693   \n",
       "142              0.690645   \n",
       "\n",
       "                                                                                                                                            tweet  \\\n",
       "143                             RT @SpaceX: Falcon 9’s first stage has landed on the Of Course I Still Love You droneship https://t.co/szO3thMxqa   \n",
       "45                                   RT @SpaceX: Falcon 9’s first stage lands on the Of Course I Still Love You droneship https://t.co/hd0IBPX3T5   \n",
       "122  RT @SpaceX: Falcon 9’s first stage has landed on the Of Course I Still Love You droneship – the 9th landing of this booster https://t.co/wz…   \n",
       "14   RT @SpaceX: Falcon 9 lands on Just Read the Instructions after delivering GPS III Space Vehicle 03 to orbit for the @SpaceForceDoD https://…   \n",
       "142                                                      RT @SpaceX: Falcon 9’s first stage has landed on Landing Zone 1! https://t.co/26M9Ptomg7   \n",
       "\n",
       "     label  \n",
       "143      0  \n",
       "45       0  \n",
       "122      0  \n",
       "14       0  \n",
       "142      0  "
      ]
     },
     "execution_count": 12,
     "metadata": {},
     "output_type": "execute_result"
    }
   ],
   "source": [
    "# Adding results into DataFrame\n",
    "results_test = pd.DataFrame({\n",
    "    'proba_positive_tweet': predicted_proba_test,\n",
    "    'tweet': X_test,\n",
    "    'label': y_test\n",
    "}).sort_values('proba_positive_tweet', ascending=False)\n",
    "pd.set_option('display.max_colwidth', None)\n",
    "results_test.head()"
   ]
  },
  {
   "cell_type": "markdown",
   "id": "b743ca90",
   "metadata": {},
   "source": [
    "## B. Regression - Predict the stock price difference"
   ]
  },
  {
   "cell_type": "code",
   "execution_count": 13,
   "id": "a006dea4",
   "metadata": {},
   "outputs": [],
   "source": [
    "# Setting up libraries for regression model\n",
    "\n",
    "from sklearn.feature_extraction.text import CountVectorizer\n",
    "from sklearn.feature_extraction.text import TfidfTransformer\n",
    "from sklearn.ensemble import RandomForestRegressor\n",
    "from sklearn.linear_model import LinearRegression\n",
    "from sklearn.model_selection import train_test_split\n",
    "\n",
    "from sklearn.pipeline import Pipeline\n",
    "text_reg = Pipeline([\n",
    "    ('vect', CountVectorizer()),\n",
    "    ('tfidf', TfidfTransformer()),\n",
    "    ('reg', RandomForestRegressor()),\n",
    "])"
   ]
  },
  {
   "cell_type": "code",
   "execution_count": 14,
   "id": "c2a22604",
   "metadata": {},
   "outputs": [],
   "source": [
    "# Setting up variables\n",
    "X = tweets_price.text.tolist()\n",
    "y = tweets_price['close_price_diff']"
   ]
  },
  {
   "cell_type": "code",
   "execution_count": 15,
   "id": "ab5ebc9b",
   "metadata": {},
   "outputs": [],
   "source": [
    "# Separating data from training vs testing data\n",
    "X_train, X_test, y_train, y_test = train_test_split(X, y)"
   ]
  },
  {
   "cell_type": "code",
   "execution_count": 16,
   "id": "879c24bf",
   "metadata": {},
   "outputs": [
    {
     "data": {
      "text/plain": [
       "Pipeline(steps=[('vect', CountVectorizer()), ('tfidf', TfidfTransformer()),\n",
       "                ('reg', RandomForestRegressor())])"
      ]
     },
     "execution_count": 16,
     "metadata": {},
     "output_type": "execute_result"
    }
   ],
   "source": [
    "# Training\n",
    "text_reg.fit(X_train, y_train)"
   ]
  },
  {
   "cell_type": "code",
   "execution_count": 17,
   "id": "479297a8",
   "metadata": {},
   "outputs": [
    {
     "data": {
      "text/plain": [
       "-0.05211284698575924"
      ]
     },
     "execution_count": 17,
     "metadata": {},
     "output_type": "execute_result"
    }
   ],
   "source": [
    "# Sklearn - Determine accuracy\n",
    "text_reg.score(X_test, y_test)"
   ]
  },
  {
   "cell_type": "markdown",
   "id": "6d1efbf9",
   "metadata": {},
   "source": [
    "## Multiclass classification: Positive, Neutral or Negative"
   ]
  },
  {
   "cell_type": "code",
   "execution_count": 18,
   "id": "c4d1689f",
   "metadata": {},
   "outputs": [],
   "source": [
    "# Setting up libraries for multiclass classification model of text data\n",
    "\n",
    "from sklearn.feature_extraction.text import CountVectorizer\n",
    "from sklearn.feature_extraction.text import TfidfTransformer\n",
    "from sklearn.naive_bayes import MultinomialNB\n",
    "from sklearn.model_selection import train_test_split\n",
    "\n",
    "from sklearn.pipeline import Pipeline\n",
    "text_clf = Pipeline([\n",
    "    ('vect', CountVectorizer()),\n",
    "    ('tfidf', TfidfTransformer()),\n",
    "    ('clf', MultinomialNB()),\n",
    "])"
   ]
  },
  {
   "cell_type": "code",
   "execution_count": 19,
   "id": "4820275b",
   "metadata": {},
   "outputs": [
    {
     "name": "stdout",
     "output_type": "stream",
     "text": [
      "[Interval(-88.111, -7.95, closed='right'), Interval(-7.95, 0.0, closed='right'), Interval(0.0, 12.3, closed='right'), Interval(12.3, 124.04, closed='right')]\n"
     ]
    }
   ],
   "source": [
    "#Setting up variables for classification\n",
    "X = tweets_price.text.tolist()\n",
    "y = pd.qcut(tweets_price['close_price_diff'], 4)\n",
    "print(y.dtype.categories.tolist())\n",
    "y = pd.qcut(tweets_price['close_price_diff'], 4, labels=False)"
   ]
  },
  {
   "cell_type": "code",
   "execution_count": 20,
   "id": "6a686300",
   "metadata": {},
   "outputs": [],
   "source": [
    "# Separating data from training vs testing data\n",
    "X_train, X_test, y_train, y_test = train_test_split(X, y)"
   ]
  },
  {
   "cell_type": "code",
   "execution_count": 21,
   "id": "d9601a5b",
   "metadata": {},
   "outputs": [
    {
     "data": {
      "text/plain": [
       "0.33962264150943394"
      ]
     },
     "execution_count": 21,
     "metadata": {},
     "output_type": "execute_result"
    }
   ],
   "source": [
    "# Training to get accuracy of guess\n",
    "text_clf.fit(X_train, y_train)\n",
    "text_clf.score(X_test, y_test)"
   ]
  },
  {
   "cell_type": "markdown",
   "id": "db576076",
   "metadata": {},
   "source": [
    "## Setting up Clusters for Analysis - kmeans"
   ]
  },
  {
   "cell_type": "code",
   "execution_count": 22,
   "id": "3a59ea28",
   "metadata": {},
   "outputs": [],
   "source": [
    "# Setting up imports for kmeans clusters\n",
    "\n",
    "\n",
    "from sklearn.feature_extraction.text import CountVectorizer\n",
    "from sklearn.feature_extraction.text import TfidfTransformer\n",
    "from sklearn.naive_bayes import MultinomialNB\n",
    "from sklearn.cluster import KMeans\n",
    "from sklearn.model_selection import train_test_split\n",
    "\n",
    "from sklearn.pipeline import Pipeline\n",
    "text_clf = Pipeline([\n",
    "    ('vect', CountVectorizer()),\n",
    "    ('tfidf', TfidfTransformer()),\n",
    "    ('clf', MultinomialNB()),\n",
    "])"
   ]
  },
  {
   "cell_type": "code",
   "execution_count": 23,
   "id": "6affa084",
   "metadata": {},
   "outputs": [],
   "source": [
    "#Setting up variables for clusters\n",
    "X = tweets_price.text.tolist()\n",
    "km = KMeans(n_clusters=3)\n",
    "km.fit(tweets_price['close_price_diff'].values.reshape(-1,1))\n",
    "y = km.predict(tweets_price['close_price_diff'].values.reshape(-1,1))"
   ]
  },
  {
   "cell_type": "code",
   "execution_count": 24,
   "id": "02694da9",
   "metadata": {},
   "outputs": [],
   "source": [
    "# Separating data from training vs testing data\n",
    "X_train, X_test, y_train, y_test = train_test_split(X, y)"
   ]
  },
  {
   "cell_type": "code",
   "execution_count": 25,
   "id": "bfa1d5c4",
   "metadata": {},
   "outputs": [
    {
     "data": {
      "text/plain": [
       "0.7264150943396226"
      ]
     },
     "execution_count": 25,
     "metadata": {},
     "output_type": "execute_result"
    }
   ],
   "source": [
    "# Training to get accuracy of guess\n",
    "text_clf.fit(X_train, y_train)\n",
    "text_clf.score(X_test, y_test)"
   ]
  },
  {
   "cell_type": "code",
   "execution_count": 26,
   "id": "56fc92e6",
   "metadata": {},
   "outputs": [
    {
     "data": {
      "text/plain": [
       "0    596\n",
       "1    163\n",
       "2     86\n",
       "dtype: int64"
      ]
     },
     "execution_count": 26,
     "metadata": {},
     "output_type": "execute_result"
    }
   ],
   "source": [
    "# Checking value counts for labels (0: neutral 1: positive 2: negative effect on stocks)\n",
    "pd.Series(y).value_counts()"
   ]
  },
  {
   "cell_type": "code",
   "execution_count": 27,
   "id": "1c35185d",
   "metadata": {},
   "outputs": [
    {
     "data": {
      "text/plain": [
       "array([[ -0.84726102],\n",
       "       [ 40.05287325],\n",
       "       [-51.20509231]])"
      ]
     },
     "execution_count": 27,
     "metadata": {},
     "output_type": "execute_result"
    }
   ],
   "source": [
    "# Viewing Cluster centers\n",
    "km.cluster_centers_"
   ]
  },
  {
   "cell_type": "code",
   "execution_count": null,
   "id": "0654c4ee",
   "metadata": {},
   "outputs": [],
   "source": []
  }
 ],
 "metadata": {
  "kernelspec": {
   "display_name": "mlenv",
   "language": "python",
   "name": "mlenv"
  },
  "language_info": {
   "codemirror_mode": {
    "name": "ipython",
    "version": 3
   },
   "file_extension": ".py",
   "mimetype": "text/x-python",
   "name": "python",
   "nbconvert_exporter": "python",
   "pygments_lexer": "ipython3",
   "version": "3.7.10"
  }
 },
 "nbformat": 4,
 "nbformat_minor": 5
}
