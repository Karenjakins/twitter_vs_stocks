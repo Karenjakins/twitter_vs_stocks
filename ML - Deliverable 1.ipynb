{
 "cells": [
  {
   "cell_type": "markdown",
   "id": "82f3a362",
   "metadata": {},
   "source": [
    "# Machine Learning Model - First Segment Project Deliverable"
   ]
  },
  {
   "cell_type": "markdown",
   "id": "9cc72a57",
   "metadata": {},
   "source": [
    "## Model Plan\n",
    "\n",
    "1. Prepare the dataframe with columns: tweet text, price previous day, price next day, price_diff\n",
    "2. Preprocess the tweet text into features (countVectorier, tfidf)\n",
    "    1. Classification: predict if it goes up or down (Binomial Naive Bayes)\n",
    "    2. Regress the actual price difference (RandomForests, if time allows XGBoost or lightgbm)\n",
    "3. Evaluate algorithms and discuss results"
   ]
  },
  {
   "cell_type": "markdown",
   "id": "5a412b2b",
   "metadata": {},
   "source": [
    "### 1. Prepare the dataframe with columns: tweet text, price previous day, price next day, price_diff"
   ]
  },
  {
   "cell_type": "code",
   "execution_count": 1,
   "id": "af82539e-5e32-4859-b979-65da960922b7",
   "metadata": {},
   "outputs": [],
   "source": [
    "# Setting up libraries:\n",
    "\n",
    "import requests\n",
    "import pandas as pd"
   ]
  },
  {
   "cell_type": "code",
   "execution_count": 2,
   "id": "082ce990-8e25-414b-abd2-5e1b515807e4",
   "metadata": {},
   "outputs": [
    {
     "data": {
      "text/html": [
       "<div>\n",
       "<style scoped>\n",
       "    .dataframe tbody tr th:only-of-type {\n",
       "        vertical-align: middle;\n",
       "    }\n",
       "\n",
       "    .dataframe tbody tr th {\n",
       "        vertical-align: top;\n",
       "    }\n",
       "\n",
       "    .dataframe thead th {\n",
       "        text-align: right;\n",
       "    }\n",
       "</style>\n",
       "<table border=\"1\" class=\"dataframe\">\n",
       "  <thead>\n",
       "    <tr style=\"text-align: right;\">\n",
       "      <th></th>\n",
       "      <th>date</th>\n",
       "      <th>open</th>\n",
       "      <th>high</th>\n",
       "      <th>low</th>\n",
       "      <th>close</th>\n",
       "      <th>adjclose</th>\n",
       "      <th>volume</th>\n",
       "    </tr>\n",
       "  </thead>\n",
       "  <tbody>\n",
       "    <tr>\n",
       "      <th>0</th>\n",
       "      <td>2010-06-29</td>\n",
       "      <td>3.800</td>\n",
       "      <td>5.000</td>\n",
       "      <td>3.508</td>\n",
       "      <td>4.778</td>\n",
       "      <td>4.778</td>\n",
       "      <td>93831500</td>\n",
       "    </tr>\n",
       "    <tr>\n",
       "      <th>1</th>\n",
       "      <td>2010-06-30</td>\n",
       "      <td>5.158</td>\n",
       "      <td>6.084</td>\n",
       "      <td>4.660</td>\n",
       "      <td>4.766</td>\n",
       "      <td>4.766</td>\n",
       "      <td>85935500</td>\n",
       "    </tr>\n",
       "    <tr>\n",
       "      <th>2</th>\n",
       "      <td>2010-07-01</td>\n",
       "      <td>5.000</td>\n",
       "      <td>5.184</td>\n",
       "      <td>4.054</td>\n",
       "      <td>4.392</td>\n",
       "      <td>4.392</td>\n",
       "      <td>41094000</td>\n",
       "    </tr>\n",
       "    <tr>\n",
       "      <th>3</th>\n",
       "      <td>2010-07-02</td>\n",
       "      <td>4.600</td>\n",
       "      <td>4.620</td>\n",
       "      <td>3.742</td>\n",
       "      <td>3.840</td>\n",
       "      <td>3.840</td>\n",
       "      <td>25699000</td>\n",
       "    </tr>\n",
       "    <tr>\n",
       "      <th>4</th>\n",
       "      <td>2010-07-06</td>\n",
       "      <td>4.000</td>\n",
       "      <td>4.000</td>\n",
       "      <td>3.166</td>\n",
       "      <td>3.222</td>\n",
       "      <td>3.222</td>\n",
       "      <td>34334500</td>\n",
       "    </tr>\n",
       "  </tbody>\n",
       "</table>\n",
       "</div>"
      ],
      "text/plain": [
       "        date   open   high    low  close  adjclose    volume\n",
       "0 2010-06-29  3.800  5.000  3.508  4.778     4.778  93831500\n",
       "1 2010-06-30  5.158  6.084  4.660  4.766     4.766  85935500\n",
       "2 2010-07-01  5.000  5.184  4.054  4.392     4.392  41094000\n",
       "3 2010-07-02  4.600  4.620  3.742  3.840     3.840  25699000\n",
       "4 2010-07-06  4.000  4.000  3.166  3.222     3.222  34334500"
      ]
     },
     "execution_count": 2,
     "metadata": {},
     "output_type": "execute_result"
    }
   ],
   "source": [
    "# Import data\n",
    "tweets = pd.read_csv('https://raw.githubusercontent.com/angkohtenko/twitter_vs_stocks/kimberly_branch/Data/elon_tweets.csv')\n",
    "tweets = tweets[['date', 'text']]\n",
    "\n",
    "tesla_df = pd.read_csv('./Data/tesla_stocks.csv')\n",
    "tesla_df['date'] = pd.to_datetime(tesla_df['date'])\n",
    "tesla_df.head()"
   ]
  },
  {
   "cell_type": "code",
   "execution_count": 6,
   "id": "907d035e",
   "metadata": {},
   "outputs": [],
   "source": [
    "# Reformat Date and time types\n",
    "from datetime import timedelta\n",
    "\n",
    "tweets['prev_date'] = pd.to_datetime(tweets.date) - timedelta(days=1)\n",
    "tweets['next_date'] = pd.to_datetime(tweets.date) + timedelta(days=1)"
   ]
  },
  {
   "cell_type": "code",
   "execution_count": 7,
   "id": "767dfac2",
   "metadata": {},
   "outputs": [
    {
     "data": {
      "text/plain": [
       "(849, 4)"
      ]
     },
     "execution_count": 7,
     "metadata": {},
     "output_type": "execute_result"
    }
   ],
   "source": [
    "# Check for NaN\n",
    "tweets.dropna().shape"
   ]
  },
  {
   "cell_type": "code",
   "execution_count": 8,
   "id": "310b1449",
   "metadata": {},
   "outputs": [],
   "source": [
    "# Merge Dataframes \n",
    "tweets_price = pd.merge(tweets, tesla_df, how='left', left_on='prev_date', right_on='date', suffixes=('', '_prev'))\n",
    "tweets_price = pd.merge(tweets_price, tesla_df, how='left', left_on='next_date', right_on='date', suffixes=('', '_next'))"
   ]
  },
  {
   "cell_type": "code",
   "execution_count": 9,
   "id": "af307811",
   "metadata": {},
   "outputs": [
    {
     "data": {
      "text/html": [
       "<div>\n",
       "<style scoped>\n",
       "    .dataframe tbody tr th:only-of-type {\n",
       "        vertical-align: middle;\n",
       "    }\n",
       "\n",
       "    .dataframe tbody tr th {\n",
       "        vertical-align: top;\n",
       "    }\n",
       "\n",
       "    .dataframe thead th {\n",
       "        text-align: right;\n",
       "    }\n",
       "</style>\n",
       "<table border=\"1\" class=\"dataframe\">\n",
       "  <thead>\n",
       "    <tr style=\"text-align: right;\">\n",
       "      <th></th>\n",
       "      <th>date</th>\n",
       "      <th>text</th>\n",
       "      <th>close_prev</th>\n",
       "      <th>close_next</th>\n",
       "      <th>close_price_diff</th>\n",
       "    </tr>\n",
       "  </thead>\n",
       "  <tbody>\n",
       "    <tr>\n",
       "      <th>4</th>\n",
       "      <td>2021-07-08</td>\n",
       "      <td>Maybe that movie gaslit us all</td>\n",
       "      <td>644.650024</td>\n",
       "      <td>656.950012</td>\n",
       "      <td>12.299988</td>\n",
       "    </tr>\n",
       "    <tr>\n",
       "      <th>5</th>\n",
       "      <td>2021-07-08</td>\n",
       "      <td>Listening to History of English podcast</td>\n",
       "      <td>644.650024</td>\n",
       "      <td>656.950012</td>\n",
       "      <td>12.299988</td>\n",
       "    </tr>\n",
       "    <tr>\n",
       "      <th>6</th>\n",
       "      <td>2021-07-08</td>\n",
       "      <td>Tropic Thunder is so good</td>\n",
       "      <td>644.650024</td>\n",
       "      <td>656.950012</td>\n",
       "      <td>12.299988</td>\n",
       "    </tr>\n",
       "    <tr>\n",
       "      <th>7</th>\n",
       "      <td>2021-07-08</td>\n",
       "      <td>Gas lit by gas light 💡</td>\n",
       "      <td>644.650024</td>\n",
       "      <td>656.950012</td>\n",
       "      <td>12.299988</td>\n",
       "    </tr>\n",
       "    <tr>\n",
       "      <th>8</th>\n",
       "      <td>2021-07-08</td>\n",
       "      <td>Also, the British legal system in 2021 https:/...</td>\n",
       "      <td>644.650024</td>\n",
       "      <td>656.950012</td>\n",
       "      <td>12.299988</td>\n",
       "    </tr>\n",
       "  </tbody>\n",
       "</table>\n",
       "</div>"
      ],
      "text/plain": [
       "         date                                               text  close_prev  \\\n",
       "4  2021-07-08                     Maybe that movie gaslit us all  644.650024   \n",
       "5  2021-07-08            Listening to History of English podcast  644.650024   \n",
       "6  2021-07-08                          Tropic Thunder is so good  644.650024   \n",
       "7  2021-07-08                             Gas lit by gas light 💡  644.650024   \n",
       "8  2021-07-08  Also, the British legal system in 2021 https:/...  644.650024   \n",
       "\n",
       "   close_next  close_price_diff  \n",
       "4  656.950012         12.299988  \n",
       "5  656.950012         12.299988  \n",
       "6  656.950012         12.299988  \n",
       "7  656.950012         12.299988  \n",
       "8  656.950012         12.299988  "
      ]
     },
     "execution_count": 9,
     "metadata": {},
     "output_type": "execute_result"
    }
   ],
   "source": [
    "# Rename Columns \n",
    "tweets_price = tweets_price.rename(columns={'close': 'close_prev'})\n",
    "tweets_price = tweets_price[['date', 'text', 'close_prev', 'close_next']]\n",
    "tweets_price['close_price_diff'] = tweets_price['close_next'] - tweets_price['close_prev']\n",
    "tweets_price.dropna(inplace=True)\n",
    "tweets_price.shape\n",
    "tweets_price.head()"
   ]
  },
  {
   "cell_type": "markdown",
   "id": "96593c41",
   "metadata": {},
   "source": [
    "## A - Classification: Which tweets increase stock price vs decrease\n",
    "    -Preprocess the tweet text into features (countVectorier, tfidf)\n",
    "    -Classification: predict if it goes up or down (Binomial Naive Bayes)"
   ]
  },
  {
   "cell_type": "code",
   "execution_count": 10,
   "id": "6f35a147",
   "metadata": {},
   "outputs": [],
   "source": [
    "# Setting up libraries for model\n",
    "\n",
    "from sklearn.feature_extraction.text import CountVectorizer\n",
    "from sklearn.feature_extraction.text import TfidfTransformer\n",
    "from sklearn.naive_bayes import MultinomialNB\n",
    "from sklearn.pipeline import Pipeline\n",
    "from sklearn.model_selection import train_test_split\n",
    "\n",
    "text_clf = Pipeline([\n",
    "    ('vect', CountVectorizer()),\n",
    "    ('tfidf', TfidfTransformer()),\n",
    "    ('clf', MultinomialNB()),\n",
    "])"
   ]
  },
  {
   "cell_type": "code",
   "execution_count": 11,
   "id": "54d3a93b",
   "metadata": {},
   "outputs": [],
   "source": [
    "# Setting up variables\n",
    "X = tweets_price.text.tolist()\n",
    "y = (tweets_price['close_price_diff'] > 0).astype(int).values"
   ]
  },
  {
   "cell_type": "code",
   "execution_count": 12,
   "id": "846b1940",
   "metadata": {},
   "outputs": [],
   "source": [
    "# Separating data from training vs testing data\n",
    "X_train, X_test, y_train, y_test = train_test_split(X, y)"
   ]
  },
  {
   "cell_type": "code",
   "execution_count": 13,
   "id": "8c6487e4",
   "metadata": {},
   "outputs": [
    {
     "data": {
      "text/plain": [
       "Pipeline(steps=[('vect', CountVectorizer()), ('tfidf', TfidfTransformer()),\n",
       "                ('clf', MultinomialNB())])"
      ]
     },
     "execution_count": 13,
     "metadata": {},
     "output_type": "execute_result"
    }
   ],
   "source": [
    "# Classify text data\n",
    "text_clf.fit(X_train, y_train)"
   ]
  },
  {
   "cell_type": "code",
   "execution_count": 14,
   "id": "82f67577",
   "metadata": {},
   "outputs": [],
   "source": [
    "# Testing predicted probability\n",
    "predicted_proba_test = text_clf.predict_proba(X_test)[:, 1]"
   ]
  },
  {
   "cell_type": "code",
   "execution_count": 15,
   "id": "e8dac268",
   "metadata": {},
   "outputs": [
    {
     "data": {
      "text/html": [
       "<div>\n",
       "<style scoped>\n",
       "    .dataframe tbody tr th:only-of-type {\n",
       "        vertical-align: middle;\n",
       "    }\n",
       "\n",
       "    .dataframe tbody tr th {\n",
       "        vertical-align: top;\n",
       "    }\n",
       "\n",
       "    .dataframe thead th {\n",
       "        text-align: right;\n",
       "    }\n",
       "</style>\n",
       "<table border=\"1\" class=\"dataframe\">\n",
       "  <thead>\n",
       "    <tr style=\"text-align: right;\">\n",
       "      <th></th>\n",
       "      <th>proba_positive_tweet</th>\n",
       "      <th>tweet</th>\n",
       "      <th>label</th>\n",
       "    </tr>\n",
       "  </thead>\n",
       "  <tbody>\n",
       "    <tr>\n",
       "      <th>65</th>\n",
       "      <td>0.600099</td>\n",
       "      <td>🌍🌎🌏 Happy Earth Day 🌍🌎🌏</td>\n",
       "      <td>0</td>\n",
       "    </tr>\n",
       "    <tr>\n",
       "      <th>53</th>\n",
       "      <td>0.549012</td>\n",
       "      <td>.@ERCOT_ISO is not earning that R</td>\n",
       "      <td>0</td>\n",
       "    </tr>\n",
       "    <tr>\n",
       "      <th>14</th>\n",
       "      <td>0.539118</td>\n",
       "      <td>RT @SpaceX: The Dragon spacecraft supporting SpaceX’s 21st cargo resupply mission to the @space_station departed our Hawthorne factory last…</td>\n",
       "      <td>1</td>\n",
       "    </tr>\n",
       "    <tr>\n",
       "      <th>23</th>\n",
       "      <td>0.512737</td>\n",
       "      <td>Such a privilege to work with people I like &amp;amp; respect so much. I feel blessed.</td>\n",
       "      <td>0</td>\n",
       "    </tr>\n",
       "    <tr>\n",
       "      <th>72</th>\n",
       "      <td>0.511028</td>\n",
       "      <td>Elevator music is underrated</td>\n",
       "      <td>1</td>\n",
       "    </tr>\n",
       "  </tbody>\n",
       "</table>\n",
       "</div>"
      ],
      "text/plain": [
       "    proba_positive_tweet  \\\n",
       "65              0.600099   \n",
       "53              0.549012   \n",
       "14              0.539118   \n",
       "23              0.512737   \n",
       "72              0.511028   \n",
       "\n",
       "                                                                                                                                           tweet  \\\n",
       "65                                                                                                                       🌍🌎🌏 Happy Earth Day 🌍🌎🌏   \n",
       "53                                                                                                             .@ERCOT_ISO is not earning that R   \n",
       "14  RT @SpaceX: The Dragon spacecraft supporting SpaceX’s 21st cargo resupply mission to the @space_station departed our Hawthorne factory last…   \n",
       "23                                                            Such a privilege to work with people I like &amp; respect so much. I feel blessed.   \n",
       "72                                                                                                                  Elevator music is underrated   \n",
       "\n",
       "    label  \n",
       "65      0  \n",
       "53      0  \n",
       "14      1  \n",
       "23      0  \n",
       "72      1  "
      ]
     },
     "execution_count": 15,
     "metadata": {},
     "output_type": "execute_result"
    }
   ],
   "source": [
    "# Adding results into DataFrame\n",
    "results_test = pd.DataFrame({\n",
    "    'proba_positive_tweet': predicted_proba_test,\n",
    "    'tweet': X_test,\n",
    "    'label': y_test\n",
    "}).sort_values('proba_positive_tweet', ascending=False)\n",
    "pd.set_option('display.max_colwidth', None)\n",
    "results_test.head()"
   ]
  },
  {
   "cell_type": "markdown",
   "id": "b743ca90",
   "metadata": {},
   "source": [
    "## B. Regression - Predict the stock price difference"
   ]
  },
  {
   "cell_type": "code",
   "execution_count": 16,
   "id": "a006dea4",
   "metadata": {},
   "outputs": [],
   "source": [
    "# Setting up libraries for regression model\n",
    "\n",
    "from sklearn.feature_extraction.text import CountVectorizer\n",
    "from sklearn.feature_extraction.text import TfidfTransformer\n",
    "from sklearn.ensemble import RandomForestRegressor\n",
    "from sklearn.linear_model import LinearRegression\n",
    "from sklearn.model_selection import train_test_split\n",
    "\n",
    "from sklearn.pipeline import Pipeline\n",
    "text_reg = Pipeline([\n",
    "    ('vect', CountVectorizer()),\n",
    "    ('tfidf', TfidfTransformer()),\n",
    "    ('reg', RandomForestRegressor()),\n",
    "])"
   ]
  },
  {
   "cell_type": "code",
   "execution_count": 17,
   "id": "c2a22604",
   "metadata": {},
   "outputs": [],
   "source": [
    "# Setting up variables\n",
    "X = tweets_price.text.tolist()\n",
    "y = tweets_price['close_price_diff']"
   ]
  },
  {
   "cell_type": "code",
   "execution_count": 18,
   "id": "ab5ebc9b",
   "metadata": {},
   "outputs": [],
   "source": [
    "# Separating data from training vs testing data\n",
    "X_train, X_test, y_train, y_test = train_test_split(X, y)"
   ]
  },
  {
   "cell_type": "code",
   "execution_count": 19,
   "id": "879c24bf",
   "metadata": {},
   "outputs": [
    {
     "data": {
      "text/plain": [
       "Pipeline(steps=[('vect', CountVectorizer()), ('tfidf', TfidfTransformer()),\n",
       "                ('reg', RandomForestRegressor())])"
      ]
     },
     "execution_count": 19,
     "metadata": {},
     "output_type": "execute_result"
    }
   ],
   "source": [
    "# Training\n",
    "text_reg.fit(X_train, y_train)"
   ]
  },
  {
   "cell_type": "code",
   "execution_count": 20,
   "id": "479297a8",
   "metadata": {},
   "outputs": [
    {
     "data": {
      "text/plain": [
       "-0.28381349779666865"
      ]
     },
     "execution_count": 20,
     "metadata": {},
     "output_type": "execute_result"
    }
   ],
   "source": [
    "# Sklearn - Determine accuracy\n",
    "text_reg.score(X_test, y_test)"
   ]
  },
  {
   "cell_type": "markdown",
   "id": "6d1efbf9",
   "metadata": {},
   "source": [
    "## Multiclass classification: Positive, Neutral or Negative"
   ]
  },
  {
   "cell_type": "code",
   "execution_count": 21,
   "id": "c4d1689f",
   "metadata": {},
   "outputs": [],
   "source": [
    "# Setting up libraries for multiclass classification model of text data\n",
    "\n",
    "from sklearn.feature_extraction.text import CountVectorizer\n",
    "from sklearn.feature_extraction.text import TfidfTransformer\n",
    "from sklearn.naive_bayes import MultinomialNB\n",
    "from sklearn.model_selection import train_test_split\n",
    "\n",
    "from sklearn.pipeline import Pipeline\n",
    "text_clf = Pipeline([\n",
    "    ('vect', CountVectorizer()),\n",
    "    ('tfidf', TfidfTransformer()),\n",
    "    ('clf', MultinomialNB()),\n",
    "])"
   ]
  },
  {
   "cell_type": "code",
   "execution_count": 22,
   "id": "4820275b",
   "metadata": {},
   "outputs": [
    {
     "name": "stdout",
     "output_type": "stream",
     "text": [
      "[Interval(-70.631, -16.62, closed='right'), Interval(-16.62, -2.46, closed='right'), Interval(-2.46, 15.04, closed='right'), Interval(15.04, 124.04, closed='right')]\n"
     ]
    }
   ],
   "source": [
    "#Setting up variables for classification\n",
    "X = tweets_price.text.tolist()\n",
    "y = pd.qcut(tweets_price['close_price_diff'], 4)\n",
    "print(y.dtype.categories.tolist())\n",
    "y = pd.qcut(tweets_price['close_price_diff'], 4, labels=False)"
   ]
  },
  {
   "cell_type": "code",
   "execution_count": 23,
   "id": "6a686300",
   "metadata": {},
   "outputs": [],
   "source": [
    "# Separating data from training vs testing data\n",
    "X_train, X_test, y_train, y_test = train_test_split(X, y)"
   ]
  },
  {
   "cell_type": "code",
   "execution_count": 24,
   "id": "d9601a5b",
   "metadata": {},
   "outputs": [
    {
     "data": {
      "text/plain": [
       "0.20238095238095238"
      ]
     },
     "execution_count": 24,
     "metadata": {},
     "output_type": "execute_result"
    }
   ],
   "source": [
    "# Training to get accuracy of guess\n",
    "text_clf.fit(X_train, y_train)\n",
    "text_clf.score(X_test, y_test)"
   ]
  },
  {
   "cell_type": "markdown",
   "id": "db576076",
   "metadata": {},
   "source": [
    "## Setting up Clusters for Analysis - kmeans"
   ]
  },
  {
   "cell_type": "code",
   "execution_count": 25,
   "id": "3a59ea28",
   "metadata": {},
   "outputs": [],
   "source": [
    "# Setting up imports for kmeans clusters\n",
    "\n",
    "\n",
    "from sklearn.feature_extraction.text import CountVectorizer\n",
    "from sklearn.feature_extraction.text import TfidfTransformer\n",
    "from sklearn.naive_bayes import MultinomialNB\n",
    "from sklearn.cluster import KMeans\n",
    "from sklearn.model_selection import train_test_split\n",
    "\n",
    "from sklearn.pipeline import Pipeline\n",
    "text_clf = Pipeline([\n",
    "    ('vect', CountVectorizer()),\n",
    "    ('tfidf', TfidfTransformer()),\n",
    "    ('clf', MultinomialNB()),\n",
    "])"
   ]
  },
  {
   "cell_type": "code",
   "execution_count": 26,
   "id": "6affa084",
   "metadata": {},
   "outputs": [],
   "source": [
    "#Setting up variables for clusters\n",
    "X = tweets_price.text.tolist()\n",
    "km = KMeans(n_clusters=3)\n",
    "km.fit(tweets_price['close_price_diff'].values.reshape(-1,1))\n",
    "y = km.predict(tweets_price['close_price_diff'].values.reshape(-1,1))"
   ]
  },
  {
   "cell_type": "code",
   "execution_count": 27,
   "id": "02694da9",
   "metadata": {},
   "outputs": [],
   "source": [
    "# Separating data from training vs testing data\n",
    "X_train, X_test, y_train, y_test = train_test_split(X, y)"
   ]
  },
  {
   "cell_type": "code",
   "execution_count": 28,
   "id": "bfa1d5c4",
   "metadata": {},
   "outputs": [
    {
     "data": {
      "text/plain": [
       "0.5714285714285714"
      ]
     },
     "execution_count": 28,
     "metadata": {},
     "output_type": "execute_result"
    }
   ],
   "source": [
    "# Training to get accuracy of guess\n",
    "text_clf.fit(X_train, y_train)\n",
    "text_clf.score(X_test, y_test)"
   ]
  },
  {
   "cell_type": "code",
   "execution_count": 29,
   "id": "56fc92e6",
   "metadata": {},
   "outputs": [
    {
     "data": {
      "text/plain": [
       "2    200\n",
       "1     82\n",
       "0     53\n",
       "dtype: int64"
      ]
     },
     "execution_count": 29,
     "metadata": {},
     "output_type": "execute_result"
    }
   ],
   "source": [
    "# Checking value counts for labels (0: neutral 1: positive 2: negative effect on stocks)\n",
    "pd.Series(y).value_counts()"
   ]
  },
  {
   "cell_type": "code",
   "execution_count": 30,
   "id": "1c35185d",
   "metadata": {},
   "outputs": [
    {
     "data": {
      "text/plain": [
       "array([[-55.89599667],\n",
       "       [ 39.12980764],\n",
       "       [ -5.32737984]])"
      ]
     },
     "execution_count": 30,
     "metadata": {},
     "output_type": "execute_result"
    }
   ],
   "source": [
    "# Viewing Cluster centers\n",
    "km.cluster_centers_"
   ]
  },
  {
   "cell_type": "code",
   "execution_count": null,
   "id": "0654c4ee",
   "metadata": {},
   "outputs": [],
   "source": []
  }
 ],
 "metadata": {
  "kernelspec": {
   "display_name": "mlenv",
   "language": "python",
   "name": "mlenv"
  },
  "language_info": {
   "codemirror_mode": {
    "name": "ipython",
    "version": 3
   },
   "file_extension": ".py",
   "mimetype": "text/x-python",
   "name": "python",
   "nbconvert_exporter": "python",
   "pygments_lexer": "ipython3",
   "version": "3.7.10"
  }
 },
 "nbformat": 4,
 "nbformat_minor": 5
}
