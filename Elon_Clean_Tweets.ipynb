{
 "cells": [
  {
   "cell_type": "code",
   "execution_count": 35,
   "id": "56cec657",
   "metadata": {},
   "outputs": [],
   "source": [
    "# Dependencies\n",
    "import pandas as pd\n",
    "import numpy as np\n",
    "import datetime"
   ]
  },
  {
   "cell_type": "code",
   "execution_count": 36,
   "id": "2e4da2f4",
   "metadata": {},
   "outputs": [
    {
     "data": {
      "text/html": [
       "<div>\n",
       "<style scoped>\n",
       "    .dataframe tbody tr th:only-of-type {\n",
       "        vertical-align: middle;\n",
       "    }\n",
       "\n",
       "    .dataframe tbody tr th {\n",
       "        vertical-align: top;\n",
       "    }\n",
       "\n",
       "    .dataframe thead th {\n",
       "        text-align: right;\n",
       "    }\n",
       "</style>\n",
       "<table border=\"1\" class=\"dataframe\">\n",
       "  <thead>\n",
       "    <tr style=\"text-align: right;\">\n",
       "      <th></th>\n",
       "      <th>date</th>\n",
       "      <th>text</th>\n",
       "      <th>like_count</th>\n",
       "      <th>quote_count</th>\n",
       "      <th>reply_count</th>\n",
       "      <th>retweet_count</th>\n",
       "    </tr>\n",
       "  </thead>\n",
       "  <tbody>\n",
       "    <tr>\n",
       "      <th>0</th>\n",
       "      <td>2021-07-07T18:48:11.000Z</td>\n",
       "      <td>Supersonic shock wave</td>\n",
       "      <td>19187</td>\n",
       "      <td>54</td>\n",
       "      <td>1053</td>\n",
       "      <td>707</td>\n",
       "    </tr>\n",
       "    <tr>\n",
       "      <th>1</th>\n",
       "      <td>2021-07-07T18:46:53.000Z</td>\n",
       "      <td>https://t.co/O3BGaFuMDO</td>\n",
       "      <td>33472</td>\n",
       "      <td>133</td>\n",
       "      <td>1013</td>\n",
       "      <td>1753</td>\n",
       "    </tr>\n",
       "    <tr>\n",
       "      <th>2</th>\n",
       "      <td>2021-07-07T16:58:11.000Z</td>\n",
       "      <td>High res landing Falcon landing video https://...</td>\n",
       "      <td>124251</td>\n",
       "      <td>1620</td>\n",
       "      <td>6850</td>\n",
       "      <td>12837</td>\n",
       "    </tr>\n",
       "    <tr>\n",
       "      <th>3</th>\n",
       "      <td>2021-07-06T22:09:32.000Z</td>\n",
       "      <td>https://t.co/TQZ9QvcwH1</td>\n",
       "      <td>288424</td>\n",
       "      <td>2459</td>\n",
       "      <td>16067</td>\n",
       "      <td>32327</td>\n",
       "    </tr>\n",
       "    <tr>\n",
       "      <th>4</th>\n",
       "      <td>2021-07-05T07:12:04.000Z</td>\n",
       "      <td>Free Britney</td>\n",
       "      <td>433153</td>\n",
       "      <td>3443</td>\n",
       "      <td>17335</td>\n",
       "      <td>52974</td>\n",
       "    </tr>\n",
       "  </tbody>\n",
       "</table>\n",
       "</div>"
      ],
      "text/plain": [
       "                       date  \\\n",
       "0  2021-07-07T18:48:11.000Z   \n",
       "1  2021-07-07T18:46:53.000Z   \n",
       "2  2021-07-07T16:58:11.000Z   \n",
       "3  2021-07-06T22:09:32.000Z   \n",
       "4  2021-07-05T07:12:04.000Z   \n",
       "\n",
       "                                                text  like_count  quote_count  \\\n",
       "0                              Supersonic shock wave       19187           54   \n",
       "1                            https://t.co/O3BGaFuMDO       33472          133   \n",
       "2  High res landing Falcon landing video https://...      124251         1620   \n",
       "3                            https://t.co/TQZ9QvcwH1      288424         2459   \n",
       "4                                       Free Britney      433153         3443   \n",
       "\n",
       "   reply_count  retweet_count  \n",
       "0         1053            707  \n",
       "1         1013           1753  \n",
       "2         6850          12837  \n",
       "3        16067          32327  \n",
       "4        17335          52974  "
      ]
     },
     "execution_count": 36,
     "metadata": {},
     "output_type": "execute_result"
    }
   ],
   "source": [
    "file = \"Data/tweets_data.csv\"\n",
    "df = pd.read_csv(file)\n",
    "df.head()"
   ]
  },
  {
   "cell_type": "code",
   "execution_count": 37,
   "id": "57192bfb",
   "metadata": {},
   "outputs": [
    {
     "data": {
      "text/plain": [
       "date             object\n",
       "text             object\n",
       "like_count        int64\n",
       "quote_count       int64\n",
       "reply_count       int64\n",
       "retweet_count     int64\n",
       "dtype: object"
      ]
     },
     "execution_count": 37,
     "metadata": {},
     "output_type": "execute_result"
    }
   ],
   "source": [
    "df.dtypes"
   ]
  },
  {
   "cell_type": "code",
   "execution_count": 73,
   "id": "f8d1b554",
   "metadata": {},
   "outputs": [],
   "source": [
    "df['date'] = pd.to_datetime(df['date']).dt.tz_convert(None)"
   ]
  },
  {
   "cell_type": "code",
   "execution_count": 74,
   "id": "3c31d8d5",
   "metadata": {},
   "outputs": [
    {
     "data": {
      "text/html": [
       "<div>\n",
       "<style scoped>\n",
       "    .dataframe tbody tr th:only-of-type {\n",
       "        vertical-align: middle;\n",
       "    }\n",
       "\n",
       "    .dataframe tbody tr th {\n",
       "        vertical-align: top;\n",
       "    }\n",
       "\n",
       "    .dataframe thead th {\n",
       "        text-align: right;\n",
       "    }\n",
       "</style>\n",
       "<table border=\"1\" class=\"dataframe\">\n",
       "  <thead>\n",
       "    <tr style=\"text-align: right;\">\n",
       "      <th></th>\n",
       "      <th>date</th>\n",
       "      <th>text</th>\n",
       "      <th>like_count</th>\n",
       "      <th>quote_count</th>\n",
       "      <th>reply_count</th>\n",
       "      <th>retweet_count</th>\n",
       "    </tr>\n",
       "  </thead>\n",
       "  <tbody>\n",
       "    <tr>\n",
       "      <th>0</th>\n",
       "      <td>2021-07-07 18:48:11</td>\n",
       "      <td>Supersonic shock wave</td>\n",
       "      <td>19187</td>\n",
       "      <td>54</td>\n",
       "      <td>1053</td>\n",
       "      <td>707</td>\n",
       "    </tr>\n",
       "    <tr>\n",
       "      <th>1</th>\n",
       "      <td>2021-07-07 18:46:53</td>\n",
       "      <td>https://t.co/O3BGaFuMDO</td>\n",
       "      <td>33472</td>\n",
       "      <td>133</td>\n",
       "      <td>1013</td>\n",
       "      <td>1753</td>\n",
       "    </tr>\n",
       "    <tr>\n",
       "      <th>2</th>\n",
       "      <td>2021-07-07 16:58:11</td>\n",
       "      <td>High res landing Falcon landing video https://...</td>\n",
       "      <td>124251</td>\n",
       "      <td>1620</td>\n",
       "      <td>6850</td>\n",
       "      <td>12837</td>\n",
       "    </tr>\n",
       "    <tr>\n",
       "      <th>3</th>\n",
       "      <td>2021-07-06 22:09:32</td>\n",
       "      <td>https://t.co/TQZ9QvcwH1</td>\n",
       "      <td>288424</td>\n",
       "      <td>2459</td>\n",
       "      <td>16067</td>\n",
       "      <td>32327</td>\n",
       "    </tr>\n",
       "    <tr>\n",
       "      <th>4</th>\n",
       "      <td>2021-07-05 07:12:04</td>\n",
       "      <td>Free Britney</td>\n",
       "      <td>433153</td>\n",
       "      <td>3443</td>\n",
       "      <td>17335</td>\n",
       "      <td>52974</td>\n",
       "    </tr>\n",
       "  </tbody>\n",
       "</table>\n",
       "</div>"
      ],
      "text/plain": [
       "                 date                                               text  \\\n",
       "0 2021-07-07 18:48:11                              Supersonic shock wave   \n",
       "1 2021-07-07 18:46:53                            https://t.co/O3BGaFuMDO   \n",
       "2 2021-07-07 16:58:11  High res landing Falcon landing video https://...   \n",
       "3 2021-07-06 22:09:32                            https://t.co/TQZ9QvcwH1   \n",
       "4 2021-07-05 07:12:04                                       Free Britney   \n",
       "\n",
       "   like_count  quote_count  reply_count  retweet_count  \n",
       "0       19187           54         1053            707  \n",
       "1       33472          133         1013           1753  \n",
       "2      124251         1620         6850          12837  \n",
       "3      288424         2459        16067          32327  \n",
       "4      433153         3443        17335          52974  "
      ]
     },
     "execution_count": 74,
     "metadata": {},
     "output_type": "execute_result"
    }
   ],
   "source": [
    "df.head()"
   ]
  },
  {
   "cell_type": "code",
   "execution_count": 75,
   "id": "28ffebb5",
   "metadata": {},
   "outputs": [],
   "source": [
    "df.to_csv('elon_tweets.csv', index=False)"
   ]
  },
  {
   "cell_type": "code",
   "execution_count": null,
   "id": "a2e7d0e6",
   "metadata": {},
   "outputs": [],
   "source": []
  }
 ],
 "metadata": {
  "kernelspec": {
   "display_name": "mlenv",
   "language": "python",
   "name": "mlenv"
  },
  "language_info": {
   "codemirror_mode": {
    "name": "ipython",
    "version": 3
   },
   "file_extension": ".py",
   "mimetype": "text/x-python",
   "name": "python",
   "nbconvert_exporter": "python",
   "pygments_lexer": "ipython3",
   "version": "3.7.10"
  }
 },
 "nbformat": 4,
 "nbformat_minor": 5
}
